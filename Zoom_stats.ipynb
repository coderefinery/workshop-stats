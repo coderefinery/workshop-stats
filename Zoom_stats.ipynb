{
 "cells": [
  {
   "cell_type": "markdown",
   "id": "735295f7-c8f6-4122-932b-daad05025df5",
   "metadata": {},
   "source": [
    "# Zoom stats"
   ]
  },
  {
   "cell_type": "code",
   "execution_count": 16,
   "id": "6bc8eb5b-27b2-446e-8478-001fbe8b8b8c",
   "metadata": {},
   "outputs": [],
   "source": [
    "import numpy as np\n",
    "import pandas as pd\n",
    "import seaborn as sns # For plotting"
   ]
  },
  {
   "cell_type": "markdown",
   "id": "aa5b56d8-ddf7-4a2e-beff-3aa7109902e1",
   "metadata": {},
   "source": [
    "<mark>Jump right into analyses from here:</mark>\n",
    "\n",
    "[Zoom Durations and participants](#1)  "
   ]
  },
  {
   "cell_type": "markdown",
   "id": "29235446-4784-4160-933e-7ee941befce3",
   "metadata": {},
   "source": [
    "## Read in the csv"
   ]
  },
  {
   "cell_type": "markdown",
   "id": "5df19af9-cd0e-4801-9fd7-083c1af8b99a",
   "metadata": {},
   "source": [
    "<font color=#330099>Create indices = days</font>"
   ]
  },
  {
   "cell_type": "code",
   "execution_count": 17,
   "id": "01c4b5b4-c157-4dc4-bb8c-c1efa971cd0f",
   "metadata": {},
   "outputs": [],
   "source": [
    "days = [\"Day{}\".format(x) for x in range(1,7)]"
   ]
  },
  {
   "cell_type": "code",
   "execution_count": 18,
   "id": "25ba920e-34ab-481a-9a2f-cc1a1223a1d6",
   "metadata": {},
   "outputs": [
    {
     "data": {
      "text/plain": [
       "['Day1', 'Day2', 'Day3', 'Day4', 'Day5', 'Day6']"
      ]
     },
     "execution_count": 18,
     "metadata": {},
     "output_type": "execute_result"
    }
   ],
   "source": [
    "days"
   ]
  },
  {
   "cell_type": "markdown",
   "id": "937b5092-50b7-4e46-a780-ed66b58ecb3c",
   "metadata": {},
   "source": [
    "<font color=#330099>Read in the csv from the repo</font>"
   ]
  },
  {
   "cell_type": "code",
   "execution_count": 22,
   "id": "f5990a0b-e42a-4932-94f4-cad88f72b9e2",
   "metadata": {},
   "outputs": [],
   "source": [
    "zoomDF = pd.read_csv(\"./data/CR_WS_Zoom_data.csv\")"
   ]
  },
  {
   "cell_type": "markdown",
   "id": "a2307e1d-1ba6-48d1-929a-b02c6390f6af",
   "metadata": {},
   "source": [
    "<font color=#330099>A closer look</font>"
   ]
  },
  {
   "cell_type": "code",
   "execution_count": 23,
   "id": "7ba0aaf5-ef6e-42fc-bc71-7af554f99715",
   "metadata": {},
   "outputs": [
    {
     "data": {
      "text/html": [
       "<div>\n",
       "<style scoped>\n",
       "    .dataframe tbody tr th:only-of-type {\n",
       "        vertical-align: middle;\n",
       "    }\n",
       "\n",
       "    .dataframe tbody tr th {\n",
       "        vertical-align: top;\n",
       "    }\n",
       "\n",
       "    .dataframe thead th {\n",
       "        text-align: right;\n",
       "    }\n",
       "</style>\n",
       "<table border=\"1\" class=\"dataframe\">\n",
       "  <thead>\n",
       "    <tr style=\"text-align: right;\">\n",
       "      <th></th>\n",
       "      <th>Duration (Minutes)</th>\n",
       "      <th>Participants</th>\n",
       "    </tr>\n",
       "  </thead>\n",
       "  <tbody>\n",
       "    <tr>\n",
       "      <th>0</th>\n",
       "      <td>601</td>\n",
       "      <td>228</td>\n",
       "    </tr>\n",
       "    <tr>\n",
       "      <th>1</th>\n",
       "      <td>454</td>\n",
       "      <td>187</td>\n",
       "    </tr>\n",
       "    <tr>\n",
       "      <th>2</th>\n",
       "      <td>294</td>\n",
       "      <td>173</td>\n",
       "    </tr>\n",
       "    <tr>\n",
       "      <th>3</th>\n",
       "      <td>607</td>\n",
       "      <td>78</td>\n",
       "    </tr>\n",
       "    <tr>\n",
       "      <th>4</th>\n",
       "      <td>582</td>\n",
       "      <td>130</td>\n",
       "    </tr>\n",
       "    <tr>\n",
       "      <th>5</th>\n",
       "      <td>553</td>\n",
       "      <td>129</td>\n",
       "    </tr>\n",
       "  </tbody>\n",
       "</table>\n",
       "</div>"
      ],
      "text/plain": [
       "   Duration (Minutes)  Participants\n",
       "0                 601           228\n",
       "1                 454           187\n",
       "2                 294           173\n",
       "3                 607            78\n",
       "4                 582           130\n",
       "5                 553           129"
      ]
     },
     "execution_count": 23,
     "metadata": {},
     "output_type": "execute_result"
    }
   ],
   "source": [
    "zoomDF"
   ]
  },
  {
   "cell_type": "markdown",
   "id": "cee24e44-c046-4272-86ee-306b2148b249",
   "metadata": {},
   "source": [
    "<font color=#330099>Add days to the dataframe and make them row indices</font>"
   ]
  },
  {
   "cell_type": "code",
   "execution_count": 24,
   "id": "6503f9ab-948b-475c-9e8b-6adead050daf",
   "metadata": {},
   "outputs": [],
   "source": [
    "zoomDF['Day']=days"
   ]
  },
  {
   "cell_type": "code",
   "execution_count": 25,
   "id": "f3e07cf2-3c3c-489f-9d2f-3eb3978faed1",
   "metadata": {},
   "outputs": [],
   "source": [
    "zoomDF.set_index('Day', inplace = True)"
   ]
  },
  {
   "cell_type": "markdown",
   "id": "de6e57bc-4c73-457f-bbf5-61033d4e232d",
   "metadata": {},
   "source": [
    "<font color=#330099>A closer look</font>"
   ]
  },
  {
   "cell_type": "code",
   "execution_count": 26,
   "id": "38ae48f0-af9c-4ad1-b821-538296fdb0d8",
   "metadata": {},
   "outputs": [
    {
     "data": {
      "text/html": [
       "<div>\n",
       "<style scoped>\n",
       "    .dataframe tbody tr th:only-of-type {\n",
       "        vertical-align: middle;\n",
       "    }\n",
       "\n",
       "    .dataframe tbody tr th {\n",
       "        vertical-align: top;\n",
       "    }\n",
       "\n",
       "    .dataframe thead th {\n",
       "        text-align: right;\n",
       "    }\n",
       "</style>\n",
       "<table border=\"1\" class=\"dataframe\">\n",
       "  <thead>\n",
       "    <tr style=\"text-align: right;\">\n",
       "      <th></th>\n",
       "      <th>Duration (Minutes)</th>\n",
       "      <th>Participants</th>\n",
       "    </tr>\n",
       "    <tr>\n",
       "      <th>Day</th>\n",
       "      <th></th>\n",
       "      <th></th>\n",
       "    </tr>\n",
       "  </thead>\n",
       "  <tbody>\n",
       "    <tr>\n",
       "      <th>Day1</th>\n",
       "      <td>601</td>\n",
       "      <td>228</td>\n",
       "    </tr>\n",
       "    <tr>\n",
       "      <th>Day2</th>\n",
       "      <td>454</td>\n",
       "      <td>187</td>\n",
       "    </tr>\n",
       "    <tr>\n",
       "      <th>Day3</th>\n",
       "      <td>294</td>\n",
       "      <td>173</td>\n",
       "    </tr>\n",
       "    <tr>\n",
       "      <th>Day4</th>\n",
       "      <td>607</td>\n",
       "      <td>78</td>\n",
       "    </tr>\n",
       "    <tr>\n",
       "      <th>Day5</th>\n",
       "      <td>582</td>\n",
       "      <td>130</td>\n",
       "    </tr>\n",
       "    <tr>\n",
       "      <th>Day6</th>\n",
       "      <td>553</td>\n",
       "      <td>129</td>\n",
       "    </tr>\n",
       "  </tbody>\n",
       "</table>\n",
       "</div>"
      ],
      "text/plain": [
       "      Duration (Minutes)  Participants\n",
       "Day                                   \n",
       "Day1                 601           228\n",
       "Day2                 454           187\n",
       "Day3                 294           173\n",
       "Day4                 607            78\n",
       "Day5                 582           130\n",
       "Day6                 553           129"
      ]
     },
     "execution_count": 26,
     "metadata": {},
     "output_type": "execute_result"
    }
   ],
   "source": [
    "zoomDF"
   ]
  },
  {
   "cell_type": "markdown",
   "id": "e9d83eac-2a79-4119-92a1-dbb44ace3c7a",
   "metadata": {
    "tags": []
   },
   "source": [
    "## Zoom durations and participants\n",
    "<a id =1> </a>"
   ]
  },
  {
   "cell_type": "code",
   "execution_count": 27,
   "id": "da652e1e-c883-4372-a3d2-005a1fc6cae6",
   "metadata": {},
   "outputs": [
    {
     "data": {
      "text/plain": [
       "[Text(0.5, 1.0, 'Duration (Minutes)')]"
      ]
     },
     "execution_count": 27,
     "metadata": {},
     "output_type": "execute_result"
    },
    {
     "data": {
      "image/png": "[encoded data removed]",
      "text/plain": [
       "<Figure size 640x480 with 1 Axes>"
      ]
     },
     "metadata": {},
     "output_type": "display_data"
    }
   ],
   "source": [
    "sns.barplot(x=zoomDF.index, y=zoomDF.columns[0], data=zoomDF).set(title=zoomDF.columns[0])"
   ]
  },
  {
   "cell_type": "code",
   "execution_count": 28,
   "id": "fc4a99b0-1a2d-418a-b2d8-50756e8e336f",
   "metadata": {},
   "outputs": [
    {
     "data": {
      "text/plain": [
       "[Text(0.5, 1.0, 'Participants')]"
      ]
     },
     "execution_count": 28,
     "metadata": {},
     "output_type": "execute_result"
    },
    {
     "data": {
      "image/png": "[encoded data removed]",
      "text/plain": [
       "<Figure size 640x480 with 1 Axes>"
      ]
     },
     "metadata": {},
     "output_type": "display_data"
    }
   ],
   "source": [
    "sns.barplot(x=zoomDF.index, y=zoomDF.columns[1], data=zoomDF).set(title=zoomDF.columns[1])"
   ]
  },
  {
   "cell_type": "code",
   "execution_count": null,
   "id": "0c8d1d8d-8e83-4d30-ab01-649a8928dca9",
   "metadata": {},
   "outputs": [],
   "source": []
  }
 ],
 "metadata": {
  "kernelspec": {
   "display_name": "Python 3 (ipykernel)",
   "language": "python",
   "name": "python3"
  },
  "language_info": {
   "codemirror_mode": {
    "name": "ipython",
    "version": 3
   },
   "file_extension": ".py",
   "mimetype": "text/x-python",
   "name": "python",
   "nbconvert_exporter": "python",
   "pygments_lexer": "ipython3",
   "version": "3.10.6"
  }
 },
 "nbformat": 4,
 "nbformat_minor": 5
}
