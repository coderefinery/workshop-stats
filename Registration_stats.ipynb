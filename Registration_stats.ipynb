{
 "cells": [
  {
   "cell_type": "markdown",
   "id": "8f86a623-fd94-4283-96a6-c2ce79f70970",
   "metadata": {},
   "source": [
    "# Registration stats"
   ]
  },
  {
   "cell_type": "code",
   "execution_count": 1,
   "id": "0cdd27a2-ec26-4010-95bb-59850e661cbe",
   "metadata": {},
   "outputs": [],
   "source": [
    "import numpy as np\n",
    "import pandas as pd\n",
    "import seaborn as sns\n",
    "import matplotlib.pyplot as plt"
   ]
  },
  {
   "cell_type": "markdown",
   "id": "b2f53d1f-0d98-4bef-b71b-21cf1a5107d1",
   "metadata": {},
   "source": [
    "<mark>Jump right into analyses from here:</mark>\n",
    "\n",
    "[Counting values from individual registrations](#1)  \n",
    "[Counting values from team registrations](#2)"
   ]
  },
  {
   "cell_type": "markdown",
   "id": "7c93ffcb-10b4-41da-8c5f-941e1ffb7194",
   "metadata": {
    "tags": []
   },
   "source": [
    "## Individual registrations\n",
    "<a id =1> </a>"
   ]
  },
  {
   "cell_type": "markdown",
   "id": "c59ce0f2-881d-44e6-82be-bbdb380c0f38",
   "metadata": {},
   "source": [
    "<font color=#330099>Read in the csv from the repo</font>"
   ]
  },
  {
   "cell_type": "code",
   "execution_count": 2,
   "id": "7e88d145-a9dd-4699-a5cc-1936c395cf92",
   "metadata": {},
   "outputs": [],
   "source": [
    "individualDF = pd.read_csv(\"./data/CR_individual.csv\", index_col=\"ID\")"
   ]
  },
  {
   "cell_type": "markdown",
   "id": "8534faf4-c7dc-4da6-9817-1a0c019d5091",
   "metadata": {},
   "source": [
    "<font color=#330099>Some summary</font>"
   ]
  },
  {
   "cell_type": "code",
   "execution_count": 3,
   "id": "10eff249-8ec1-44ce-b651-5369f3b9f270",
   "metadata": {},
   "outputs": [
    {
     "name": "stdout",
     "output_type": "stream",
     "text": [
      "<class 'pandas.core.frame.DataFrame'>\n",
      "Int64Index: 204 entries, 60 to 217\n",
      "Data columns (total 7 columns):\n",
      " #   Column                                                   Non-Null Count  Dtype \n",
      "---  ------                                                   --------------  ----- \n",
      " 0   Country                                                  204 non-null    object\n",
      " 1   Academic discipline                                      186 non-null    object\n",
      " 2   Career stage / position                                  186 non-null    object\n",
      " 3   How did you find out about this workshop?                183 non-null    object\n",
      " 4   Attendance/participation type                            204 non-null    object\n",
      " 5   Stream only or also exercise group? Video or in-person?  204 non-null    object\n",
      " 6   Which days you plan to attend?                           204 non-null    object\n",
      "dtypes: object(7)\n",
      "memory usage: 12.8+ KB\n"
     ]
    }
   ],
   "source": [
    "individualDF.info()"
   ]
  },
  {
   "cell_type": "markdown",
   "id": "30eb4c45-e37e-46bd-8a8b-675b61fa3119",
   "metadata": {},
   "source": [
    "<font color=#330099>A closer look</font>"
   ]
  },
  {
   "cell_type": "code",
   "execution_count": 4,
   "id": "4104b3c0-406a-4787-9d61-ced6ad439ac1",
   "metadata": {},
   "outputs": [
    {
     "data": {
      "text/html": [
       "<div>\n",
       "<style scoped>\n",
       "    .dataframe tbody tr th:only-of-type {\n",
       "        vertical-align: middle;\n",
       "    }\n",
       "\n",
       "    .dataframe tbody tr th {\n",
       "        vertical-align: top;\n",
       "    }\n",
       "\n",
       "    .dataframe thead th {\n",
       "        text-align: right;\n",
       "    }\n",
       "</style>\n",
       "<table border=\"1\" class=\"dataframe\">\n",
       "  <thead>\n",
       "    <tr style=\"text-align: right;\">\n",
       "      <th></th>\n",
       "      <th>Country</th>\n",
       "      <th>Academic discipline</th>\n",
       "      <th>Career stage / position</th>\n",
       "      <th>How did you find out about this workshop?</th>\n",
       "      <th>Attendance/participation type</th>\n",
       "      <th>Stream only or also exercise group? Video or in-person?</th>\n",
       "      <th>Which days you plan to attend?</th>\n",
       "    </tr>\n",
       "    <tr>\n",
       "      <th>ID</th>\n",
       "      <th></th>\n",
       "      <th></th>\n",
       "      <th></th>\n",
       "      <th></th>\n",
       "      <th></th>\n",
       "      <th></th>\n",
       "      <th></th>\n",
       "    </tr>\n",
       "  </thead>\n",
       "  <tbody>\n",
       "    <tr>\n",
       "      <th>60</th>\n",
       "      <td>Norway</td>\n",
       "      <td>Civil Engineering</td>\n",
       "      <td>Graduate student</td>\n",
       "      <td>Friend / Colleague</td>\n",
       "      <td>Learner</td>\n",
       "      <td>Watching stream and participate in online exer...</td>\n",
       "      <td>Tue, Sep 20 (Day 1); Wed, Sep 21 (Day 2); Thu,...</td>\n",
       "    </tr>\n",
       "    <tr>\n",
       "      <th>65</th>\n",
       "      <td>Norway</td>\n",
       "      <td>Basic Medicine</td>\n",
       "      <td>Postdoc</td>\n",
       "      <td>CodeRefinery.org</td>\n",
       "      <td>Learner</td>\n",
       "      <td>Watching stream and participate in online exer...</td>\n",
       "      <td>Tue, Sep 20 (Day 1); Wed, Sep 21 (Day 2); Thu,...</td>\n",
       "    </tr>\n",
       "    <tr>\n",
       "      <th>92</th>\n",
       "      <td>Norway</td>\n",
       "      <td>Other Engineering and Technologies</td>\n",
       "      <td>Graduate student</td>\n",
       "      <td>Friend / Colleague</td>\n",
       "      <td>Learner</td>\n",
       "      <td>Watching stream and participate in online exer...</td>\n",
       "      <td>Tue, Sep 20 (Day 1); Wed, Sep 21 (Day 2); Thu,...</td>\n",
       "    </tr>\n",
       "    <tr>\n",
       "      <th>232</th>\n",
       "      <td>Spain</td>\n",
       "      <td>Other Engineering and Technologies</td>\n",
       "      <td>Graduate student</td>\n",
       "      <td>Educational institute</td>\n",
       "      <td>Learner</td>\n",
       "      <td>I would like to get more information and decid...</td>\n",
       "      <td>Tue, Sep 20 (Day 1); Wed, Sep 21 (Day 2); Thu,...</td>\n",
       "    </tr>\n",
       "    <tr>\n",
       "      <th>17</th>\n",
       "      <td>Sweden</td>\n",
       "      <td>Mechanical Engineering</td>\n",
       "      <td>Researcher</td>\n",
       "      <td>CodeRefinery.org; Educational institute</td>\n",
       "      <td>Learner</td>\n",
       "      <td>Watching stream and participate in online exer...</td>\n",
       "      <td>Tue, Sep 20 (Day 1); Wed, Sep 21 (Day 2); Thu,...</td>\n",
       "    </tr>\n",
       "  </tbody>\n",
       "</table>\n",
       "</div>"
      ],
      "text/plain": [
       "    Country                 Academic discipline Career stage / position  \\\n",
       "ID                                                                        \n",
       "60   Norway                   Civil Engineering        Graduate student   \n",
       "65   Norway                      Basic Medicine                 Postdoc   \n",
       "92   Norway  Other Engineering and Technologies        Graduate student   \n",
       "232   Spain  Other Engineering and Technologies        Graduate student   \n",
       "17   Sweden              Mechanical Engineering              Researcher   \n",
       "\n",
       "    How did you find out about this workshop? Attendance/participation type  \\\n",
       "ID                                                                            \n",
       "60                         Friend / Colleague                       Learner   \n",
       "65                           CodeRefinery.org                       Learner   \n",
       "92                         Friend / Colleague                       Learner   \n",
       "232                     Educational institute                       Learner   \n",
       "17    CodeRefinery.org; Educational institute                       Learner   \n",
       "\n",
       "    Stream only or also exercise group? Video or in-person?  \\\n",
       "ID                                                            \n",
       "60   Watching stream and participate in online exer...        \n",
       "65   Watching stream and participate in online exer...        \n",
       "92   Watching stream and participate in online exer...        \n",
       "232  I would like to get more information and decid...        \n",
       "17   Watching stream and participate in online exer...        \n",
       "\n",
       "                        Which days you plan to attend?  \n",
       "ID                                                      \n",
       "60   Tue, Sep 20 (Day 1); Wed, Sep 21 (Day 2); Thu,...  \n",
       "65   Tue, Sep 20 (Day 1); Wed, Sep 21 (Day 2); Thu,...  \n",
       "92   Tue, Sep 20 (Day 1); Wed, Sep 21 (Day 2); Thu,...  \n",
       "232  Tue, Sep 20 (Day 1); Wed, Sep 21 (Day 2); Thu,...  \n",
       "17   Tue, Sep 20 (Day 1); Wed, Sep 21 (Day 2); Thu,...  "
      ]
     },
     "execution_count": 4,
     "metadata": {},
     "output_type": "execute_result"
    }
   ],
   "source": [
    "individualDF.head(5)"
   ]
  },
  {
   "cell_type": "markdown",
   "id": "dbaadc59-52e8-4da6-abc5-ac3ee0eefb48",
   "metadata": {},
   "source": [
    "<font color=#330099>Count some values</font>"
   ]
  },
  {
   "cell_type": "code",
   "execution_count": 5,
   "id": "5ea6800c-c5e1-46c4-be3f-125261997cd5",
   "metadata": {},
   "outputs": [
    {
     "data": {
      "text/html": [
       "<div>\n",
       "<style scoped>\n",
       "    .dataframe tbody tr th:only-of-type {\n",
       "        vertical-align: middle;\n",
       "    }\n",
       "\n",
       "    .dataframe tbody tr th {\n",
       "        vertical-align: top;\n",
       "    }\n",
       "\n",
       "    .dataframe thead th {\n",
       "        text-align: right;\n",
       "    }\n",
       "</style>\n",
       "<table border=\"1\" class=\"dataframe\">\n",
       "  <thead>\n",
       "    <tr style=\"text-align: right;\">\n",
       "      <th></th>\n",
       "      <th>Country</th>\n",
       "      <th>Academic discipline</th>\n",
       "      <th>Career stage / position</th>\n",
       "      <th>How did you find out about this workshop?</th>\n",
       "      <th>Attendance/participation type</th>\n",
       "      <th>Stream only or also exercise group? Video or in-person?</th>\n",
       "      <th>Which days you plan to attend?</th>\n",
       "    </tr>\n",
       "  </thead>\n",
       "  <tbody>\n",
       "    <tr>\n",
       "      <th>count</th>\n",
       "      <td>204</td>\n",
       "      <td>186</td>\n",
       "      <td>186</td>\n",
       "      <td>183</td>\n",
       "      <td>204</td>\n",
       "      <td>204</td>\n",
       "      <td>204</td>\n",
       "    </tr>\n",
       "    <tr>\n",
       "      <th>unique</th>\n",
       "      <td>24</td>\n",
       "      <td>24</td>\n",
       "      <td>8</td>\n",
       "      <td>19</td>\n",
       "      <td>6</td>\n",
       "      <td>5</td>\n",
       "      <td>34</td>\n",
       "    </tr>\n",
       "    <tr>\n",
       "      <th>top</th>\n",
       "      <td>Finland</td>\n",
       "      <td>Computer and Information Sciences</td>\n",
       "      <td>Graduate student</td>\n",
       "      <td>Friend / Colleague</td>\n",
       "      <td>Learner</td>\n",
       "      <td>Only watching the stream</td>\n",
       "      <td>Tue, Sep 20 (Day 1); Wed, Sep 21 (Day 2); Thu,...</td>\n",
       "    </tr>\n",
       "    <tr>\n",
       "      <th>freq</th>\n",
       "      <td>61</td>\n",
       "      <td>31</td>\n",
       "      <td>72</td>\n",
       "      <td>67</td>\n",
       "      <td>185</td>\n",
       "      <td>90</td>\n",
       "      <td>117</td>\n",
       "    </tr>\n",
       "  </tbody>\n",
       "</table>\n",
       "</div>"
      ],
      "text/plain": [
       "        Country                Academic discipline Career stage / position  \\\n",
       "count       204                                186                     186   \n",
       "unique       24                                 24                       8   \n",
       "top     Finland  Computer and Information Sciences        Graduate student   \n",
       "freq         61                                 31                      72   \n",
       "\n",
       "       How did you find out about this workshop?  \\\n",
       "count                                        183   \n",
       "unique                                        19   \n",
       "top                           Friend / Colleague   \n",
       "freq                                          67   \n",
       "\n",
       "       Attendance/participation type  \\\n",
       "count                            204   \n",
       "unique                             6   \n",
       "top                          Learner   \n",
       "freq                             185   \n",
       "\n",
       "       Stream only or also exercise group? Video or in-person?  \\\n",
       "count                                                 204        \n",
       "unique                                                  5        \n",
       "top                              Only watching the stream        \n",
       "freq                                                   90        \n",
       "\n",
       "                           Which days you plan to attend?  \n",
       "count                                                 204  \n",
       "unique                                                 34  \n",
       "top     Tue, Sep 20 (Day 1); Wed, Sep 21 (Day 2); Thu,...  \n",
       "freq                                                  117  "
      ]
     },
     "execution_count": 5,
     "metadata": {},
     "output_type": "execute_result"
    }
   ],
   "source": [
    "individualDF.describe()"
   ]
  },
  {
   "cell_type": "code",
   "execution_count": 7,
   "id": "c78609d4-a6fe-47e9-ba5e-695570faefe3",
   "metadata": {},
   "outputs": [],
   "source": [
    "countCountries = individualDF[\"Country\"].value_counts()\n",
    "countAcademic = individualDF[\"Academic discipline\"].value_counts()\n",
    "countCareer = individualDF[\"Career stage / position\"].value_counts()\n",
    "countFindOut = individualDF[\"How did you find out about this workshop?\"].value_counts()\n",
    "countAttendaceType1 = individualDF[\"Attendance/participation type\"].value_counts()\n",
    "countAttendaceType2 = individualDF[\"Stream only or also exercise group? Video or in-person?\"].value_counts()\n",
    "countAttendaceDays = individualDF[\"Which days you plan to attend?\"].value_counts()"
   ]
  },
  {
   "cell_type": "markdown",
   "id": "650463ef-0c52-4551-a7d5-6a29ecb35cc0",
   "metadata": {},
   "source": [
    "### Country\n",
    "\n",
    "<font color=#330099>This can be plotted right away</font>"
   ]
  },
  {
   "cell_type": "code",
   "execution_count": 8,
   "id": "701774d3-fb0d-4a15-aed3-a8472d9e304d",
   "metadata": {
    "tags": []
   },
   "outputs": [
    {
     "data": {
      "text/plain": [
       "Finland              61\n",
       "Sweden               50\n",
       "Norway               38\n",
       "Spain                12\n",
       "Denmark               7\n",
       "Netherlands           5\n",
       "India                 4\n",
       "Switzerland           3\n",
       "Italy                 3\n",
       "United Kingdom        3\n",
       "Ireland               3\n",
       "United States         2\n",
       "France                2\n",
       "Brazil                1\n",
       "Iran                  1\n",
       "Trinidad & Tobago     1\n",
       "Turkey                1\n",
       "Greece                1\n",
       "Indonesia             1\n",
       "Canada                1\n",
       "Germany               1\n",
       "Thailand              1\n",
       "Singapore             1\n",
       "China                 1\n",
       "Name: Country, dtype: int64"
      ]
     },
     "execution_count": 8,
     "metadata": {},
     "output_type": "execute_result"
    }
   ],
   "source": [
    "countCountries"
   ]
  },
  {
   "cell_type": "code",
   "execution_count": 9,
   "id": "25c79592-b008-4bc9-a705-c5c52d629482",
   "metadata": {},
   "outputs": [],
   "source": [
    "countCountries_DF = countCountries.reset_index()"
   ]
  },
  {
   "cell_type": "markdown",
   "id": "06c7c047-49a8-4b4f-92d1-6e3de3aa9333",
   "metadata": {},
   "source": [
    "<font color=#330099>Plot a histogram of registrants' countries</font>"
   ]
  },
  {
   "cell_type": "code",
   "execution_count": 10,
   "id": "f24e6c58-c3f4-4b71-8078-ff01b8db6bcc",
   "metadata": {},
   "outputs": [
    {
     "data": {
      "image/png": "[encoded data removed]",
      "text/plain": [
       "<Figure size 640x480 with 1 Axes>"
      ]
     },
     "metadata": {},
     "output_type": "display_data"
    }
   ],
   "source": [
    "ax = sns.barplot(x=countCountries_DF.index, y=countCountries_DF.Country, data=countCountries_DF)\n",
    "ax.set(title=\"Countries\")\n",
    "ax.set_xticklabels(countCountries.index)\n",
    "ax.tick_params(labelrotation = 270)\n",
    "plt.savefig(\"./plots/Registration_Countries.png\",dpi=300, bbox_inches = \"tight\")"
   ]
  },
  {
   "cell_type": "markdown",
   "id": "73a13559-7612-4824-a144-ba42f0d4e7d1",
   "metadata": {},
   "source": [
    "<font color=#330099>Calculate the sum of registrants</font>"
   ]
  },
  {
   "cell_type": "code",
   "execution_count": 11,
   "id": "2fab62d9-65e4-4be1-a93c-249155110d88",
   "metadata": {},
   "outputs": [
    {
     "data": {
      "text/plain": [
       "204"
      ]
     },
     "execution_count": 11,
     "metadata": {},
     "output_type": "execute_result"
    }
   ],
   "source": [
    "countCountries.sum()"
   ]
  },
  {
   "cell_type": "markdown",
   "id": "8d41a981-9c1e-4562-bed2-3393a6b10dd1",
   "metadata": {},
   "source": [
    "### Academic discipline\n",
    "\n",
    "<font color=#330099>This can be plotted right away</font>"
   ]
  },
  {
   "cell_type": "code",
   "execution_count": 12,
   "id": "e1fde92a-a913-4563-8adc-8810446ddf40",
   "metadata": {
    "tags": []
   },
   "outputs": [],
   "source": [
    "countAcademic_DF = countAcademic.reset_index()"
   ]
  },
  {
   "cell_type": "code",
   "execution_count": 13,
   "id": "d99da6dc-22db-44b7-90b8-0cfac342d14a",
   "metadata": {
    "tags": []
   },
   "outputs": [
    {
     "data": {
      "text/html": [
       "<div>\n",
       "<style scoped>\n",
       "    .dataframe tbody tr th:only-of-type {\n",
       "        vertical-align: middle;\n",
       "    }\n",
       "\n",
       "    .dataframe tbody tr th {\n",
       "        vertical-align: top;\n",
       "    }\n",
       "\n",
       "    .dataframe thead th {\n",
       "        text-align: right;\n",
       "    }\n",
       "</style>\n",
       "<table border=\"1\" class=\"dataframe\">\n",
       "  <thead>\n",
       "    <tr style=\"text-align: right;\">\n",
       "      <th></th>\n",
       "      <th>index</th>\n",
       "      <th>Academic discipline</th>\n",
       "    </tr>\n",
       "  </thead>\n",
       "  <tbody>\n",
       "    <tr>\n",
       "      <th>0</th>\n",
       "      <td>Computer and Information Sciences</td>\n",
       "      <td>31</td>\n",
       "    </tr>\n",
       "    <tr>\n",
       "      <th>1</th>\n",
       "      <td>Physical Sciences</td>\n",
       "      <td>28</td>\n",
       "    </tr>\n",
       "    <tr>\n",
       "      <th>2</th>\n",
       "      <td>Biological Sciences</td>\n",
       "      <td>22</td>\n",
       "    </tr>\n",
       "    <tr>\n",
       "      <th>3</th>\n",
       "      <td>Chemical Sciences</td>\n",
       "      <td>18</td>\n",
       "    </tr>\n",
       "    <tr>\n",
       "      <th>4</th>\n",
       "      <td>Earth and Related Environmental Sciences</td>\n",
       "      <td>15</td>\n",
       "    </tr>\n",
       "    <tr>\n",
       "      <th>5</th>\n",
       "      <td>Electrical Engineering, Electronic Engineering...</td>\n",
       "      <td>14</td>\n",
       "    </tr>\n",
       "    <tr>\n",
       "      <th>6</th>\n",
       "      <td>Mechanical Engineering</td>\n",
       "      <td>13</td>\n",
       "    </tr>\n",
       "    <tr>\n",
       "      <th>7</th>\n",
       "      <td>Civil Engineering</td>\n",
       "      <td>8</td>\n",
       "    </tr>\n",
       "    <tr>\n",
       "      <th>8</th>\n",
       "      <td>Health Sciences</td>\n",
       "      <td>6</td>\n",
       "    </tr>\n",
       "    <tr>\n",
       "      <th>9</th>\n",
       "      <td>Mathematics</td>\n",
       "      <td>4</td>\n",
       "    </tr>\n",
       "    <tr>\n",
       "      <th>10</th>\n",
       "      <td>Psychology</td>\n",
       "      <td>4</td>\n",
       "    </tr>\n",
       "    <tr>\n",
       "      <th>11</th>\n",
       "      <td>Other Engineering and Technologies</td>\n",
       "      <td>4</td>\n",
       "    </tr>\n",
       "    <tr>\n",
       "      <th>12</th>\n",
       "      <td>Other Natural Sciences</td>\n",
       "      <td>2</td>\n",
       "    </tr>\n",
       "    <tr>\n",
       "      <th>13</th>\n",
       "      <td>Basic Medicine</td>\n",
       "      <td>2</td>\n",
       "    </tr>\n",
       "    <tr>\n",
       "      <th>14</th>\n",
       "      <td>Other Medical and Health Sciences</td>\n",
       "      <td>2</td>\n",
       "    </tr>\n",
       "    <tr>\n",
       "      <th>15</th>\n",
       "      <td>Clinical Medicine</td>\n",
       "      <td>2</td>\n",
       "    </tr>\n",
       "    <tr>\n",
       "      <th>16</th>\n",
       "      <td>Environmental Engineering</td>\n",
       "      <td>2</td>\n",
       "    </tr>\n",
       "    <tr>\n",
       "      <th>17</th>\n",
       "      <td>Medical Engineering</td>\n",
       "      <td>2</td>\n",
       "    </tr>\n",
       "    <tr>\n",
       "      <th>18</th>\n",
       "      <td>Economics and Business</td>\n",
       "      <td>2</td>\n",
       "    </tr>\n",
       "    <tr>\n",
       "      <th>19</th>\n",
       "      <td>Other Social Sciences</td>\n",
       "      <td>1</td>\n",
       "    </tr>\n",
       "    <tr>\n",
       "      <th>20</th>\n",
       "      <td>Environmental Biotechnology</td>\n",
       "      <td>1</td>\n",
       "    </tr>\n",
       "    <tr>\n",
       "      <th>21</th>\n",
       "      <td>Materials Engineering</td>\n",
       "      <td>1</td>\n",
       "    </tr>\n",
       "    <tr>\n",
       "      <th>22</th>\n",
       "      <td>Political Science</td>\n",
       "      <td>1</td>\n",
       "    </tr>\n",
       "    <tr>\n",
       "      <th>23</th>\n",
       "      <td>Other</td>\n",
       "      <td>1</td>\n",
       "    </tr>\n",
       "  </tbody>\n",
       "</table>\n",
       "</div>"
      ],
      "text/plain": [
       "                                                index  Academic discipline\n",
       "0                   Computer and Information Sciences                   31\n",
       "1                                   Physical Sciences                   28\n",
       "2                                 Biological Sciences                   22\n",
       "3                                   Chemical Sciences                   18\n",
       "4            Earth and Related Environmental Sciences                   15\n",
       "5   Electrical Engineering, Electronic Engineering...                   14\n",
       "6                              Mechanical Engineering                   13\n",
       "7                                   Civil Engineering                    8\n",
       "8                                     Health Sciences                    6\n",
       "9                                         Mathematics                    4\n",
       "10                                         Psychology                    4\n",
       "11                 Other Engineering and Technologies                    4\n",
       "12                             Other Natural Sciences                    2\n",
       "13                                     Basic Medicine                    2\n",
       "14                  Other Medical and Health Sciences                    2\n",
       "15                                  Clinical Medicine                    2\n",
       "16                          Environmental Engineering                    2\n",
       "17                                Medical Engineering                    2\n",
       "18                             Economics and Business                    2\n",
       "19                              Other Social Sciences                    1\n",
       "20                        Environmental Biotechnology                    1\n",
       "21                              Materials Engineering                    1\n",
       "22                                  Political Science                    1\n",
       "23                                              Other                    1"
      ]
     },
     "execution_count": 13,
     "metadata": {},
     "output_type": "execute_result"
    }
   ],
   "source": [
    "countAcademic_DF"
   ]
  },
  {
   "cell_type": "markdown",
   "id": "e7caceba-4aad-4db1-8c92-afbfc932cd8e",
   "metadata": {},
   "source": [
    "<font color=#330099>Plot a histogram of registrants' academic backgrounds</font>"
   ]
  },
  {
   "cell_type": "code",
   "execution_count": 14,
   "id": "3b5d99ce-c4bb-4b3c-a610-f8170c5bbcb1",
   "metadata": {},
   "outputs": [
    {
     "data": {
      "image/png": "[encoded data removed]",
      "text/plain": [
       "<Figure size 640x480 with 1 Axes>"
      ]
     },
     "metadata": {},
     "output_type": "display_data"
    }
   ],
   "source": [
    "ax = sns.barplot(x=countAcademic_DF.index, y=countAcademic_DF[\"Academic discipline\"], data=countAcademic_DF)\n",
    "ax.set(title=\"Academic Backgrounds\")\n",
    "ax.set_xticklabels(countAcademic.index)\n",
    "ax.tick_params(labelrotation = 270)\n",
    "plt.savefig(\"./plots/Registration_Backgrounds.png\",dpi=300, bbox_inches = \"tight\")"
   ]
  },
  {
   "cell_type": "markdown",
   "id": "02174669-31c9-487b-a026-9c6435940a6e",
   "metadata": {},
   "source": [
    "### Career stage / position\n",
    "\n",
    "<font color=#330099>This can be plotted right away</font>"
   ]
  },
  {
   "cell_type": "code",
   "execution_count": 15,
   "id": "a2800514-f328-4636-8f8a-b7deba2f63ba",
   "metadata": {
    "tags": []
   },
   "outputs": [],
   "source": [
    "countCareer_DF = countCareer.reset_index()"
   ]
  },
  {
   "cell_type": "code",
   "execution_count": 16,
   "id": "e0a73511-1fea-4075-a332-f4019974b36d",
   "metadata": {
    "tags": []
   },
   "outputs": [
    {
     "data": {
      "text/html": [
       "<div>\n",
       "<style scoped>\n",
       "    .dataframe tbody tr th:only-of-type {\n",
       "        vertical-align: middle;\n",
       "    }\n",
       "\n",
       "    .dataframe tbody tr th {\n",
       "        vertical-align: top;\n",
       "    }\n",
       "\n",
       "    .dataframe thead th {\n",
       "        text-align: right;\n",
       "    }\n",
       "</style>\n",
       "<table border=\"1\" class=\"dataframe\">\n",
       "  <thead>\n",
       "    <tr style=\"text-align: right;\">\n",
       "      <th></th>\n",
       "      <th>index</th>\n",
       "      <th>Career stage / position</th>\n",
       "    </tr>\n",
       "  </thead>\n",
       "  <tbody>\n",
       "    <tr>\n",
       "      <th>0</th>\n",
       "      <td>Graduate student</td>\n",
       "      <td>72</td>\n",
       "    </tr>\n",
       "    <tr>\n",
       "      <th>1</th>\n",
       "      <td>Researcher</td>\n",
       "      <td>37</td>\n",
       "    </tr>\n",
       "    <tr>\n",
       "      <th>2</th>\n",
       "      <td>Postdoc</td>\n",
       "      <td>26</td>\n",
       "    </tr>\n",
       "    <tr>\n",
       "      <th>3</th>\n",
       "      <td>Research software engineer</td>\n",
       "      <td>17</td>\n",
       "    </tr>\n",
       "    <tr>\n",
       "      <th>4</th>\n",
       "      <td>Other</td>\n",
       "      <td>12</td>\n",
       "    </tr>\n",
       "    <tr>\n",
       "      <th>5</th>\n",
       "      <td>Professor</td>\n",
       "      <td>9</td>\n",
       "    </tr>\n",
       "    <tr>\n",
       "      <th>6</th>\n",
       "      <td>Industry</td>\n",
       "      <td>8</td>\n",
       "    </tr>\n",
       "    <tr>\n",
       "      <th>7</th>\n",
       "      <td>Undergrad. student</td>\n",
       "      <td>5</td>\n",
       "    </tr>\n",
       "  </tbody>\n",
       "</table>\n",
       "</div>"
      ],
      "text/plain": [
       "                        index  Career stage / position\n",
       "0            Graduate student                       72\n",
       "1                  Researcher                       37\n",
       "2                     Postdoc                       26\n",
       "3  Research software engineer                       17\n",
       "4                       Other                       12\n",
       "5                   Professor                        9\n",
       "6                    Industry                        8\n",
       "7          Undergrad. student                        5"
      ]
     },
     "execution_count": 16,
     "metadata": {},
     "output_type": "execute_result"
    }
   ],
   "source": [
    "countCareer_DF"
   ]
  },
  {
   "cell_type": "markdown",
   "id": "ed317ea0-1fd6-466c-83d6-9b4549932075",
   "metadata": {},
   "source": [
    "<font color=#330099>Plot a histogram of registrants' career stages</font>"
   ]
  },
  {
   "cell_type": "code",
   "execution_count": 17,
   "id": "3b64076e-3aef-4aed-8a4f-b8a5f2166518",
   "metadata": {},
   "outputs": [
    {
     "data": {
      "image/png": "[encoded data removed]",
      "text/plain": [
       "<Figure size 640x480 with 1 Axes>"
      ]
     },
     "metadata": {},
     "output_type": "display_data"
    }
   ],
   "source": [
    "ax = sns.barplot(x=countCareer_DF.index, y=countCareer_DF[\"Career stage / position\"], data=countCareer_DF)\n",
    "ax.set(title=\"Career stage / position\")\n",
    "ax.set_xticklabels(countCareer.index)\n",
    "ax.tick_params(labelrotation = 270)\n",
    "plt.savefig(\"./plots/Registration_Career.png\",dpi=300, bbox_inches = \"tight\")"
   ]
  },
  {
   "cell_type": "markdown",
   "id": "2113aa27-44d2-4869-98a2-ee55589e8f6b",
   "metadata": {
    "tags": []
   },
   "source": [
    "### How did you find out about this workshop?\n",
    "\n",
    "<font color=#ff0000>This needs some text analysis</font>"
   ]
  },
  {
   "cell_type": "markdown",
   "id": "205bdfa1-5316-4842-9a69-cb64670056a1",
   "metadata": {},
   "source": [
    "List all the different info sources occurring in the data"
   ]
  },
  {
   "cell_type": "code",
   "execution_count": 18,
   "id": "53a35e9f-03e0-4961-b93d-0c3273f7e552",
   "metadata": {},
   "outputs": [],
   "source": [
    "infoSources_list = [\"Twitter\",\"CodeRefinery.org\",\"Educational institute\",\"National HPC center\",\"Friend / Colleague\",\"Another event\"]\n",
    "infoSources = pd.Series(infoSources_list)"
   ]
  },
  {
   "cell_type": "markdown",
   "id": "026a99ef-c753-4663-a32a-d2dba288923b",
   "metadata": {},
   "source": [
    "See that the beginning of the count values are valid"
   ]
  },
  {
   "cell_type": "code",
   "execution_count": 19,
   "id": "c6a6dfbd-25eb-4394-a789-b3a326a5ab2d",
   "metadata": {
    "tags": []
   },
   "outputs": [
    {
     "data": {
      "text/plain": [
       "Friend / Colleague       67\n",
       "Educational institute    34\n",
       "CodeRefinery.org         19\n",
       "National HPC center      18\n",
       "Another event            15\n",
       "Twitter                  15\n",
       "Name: How did you find out about this workshop?, dtype: int64"
      ]
     },
     "execution_count": 19,
     "metadata": {},
     "output_type": "execute_result"
    }
   ],
   "source": [
    "countFindOut[:6]"
   ]
  },
  {
   "cell_type": "markdown",
   "id": "2ae9ead0-b209-472e-ba7c-0c20b923e900",
   "metadata": {},
   "source": [
    "This is the part that needs to be analysed"
   ]
  },
  {
   "cell_type": "code",
   "execution_count": 20,
   "id": "ee029bf1-08a6-45ed-8b49-4b577c2838af",
   "metadata": {
    "tags": []
   },
   "outputs": [
    {
     "data": {
      "text/plain": [
       "CodeRefinery.org; Educational institute                                              2\n",
       "Educational institute; Friend / Colleague                                            2\n",
       "National HPC center; Friend / Colleague                                              1\n",
       "Twitter; Another event                                                               1\n",
       "Friend / Colleague; Another event                                                    1\n",
       "Educational institute; Another event                                                 1\n",
       "Twitter; CodeRefinery.org; National HPC center; Friend / Colleague; Another event    1\n",
       "CodeRefinery.org; Educational institute; Friend / Colleague                          1\n",
       "Educational institute; National HPC center                                           1\n",
       "CodeRefinery.org; National HPC center                                                1\n",
       "Twitter; Educational institute; National HPC center                                  1\n",
       "CodeRefinery.org; National HPC center; Friend / Colleague                            1\n",
       "Twitter; CodeRefinery.org; Friend / Colleague                                        1\n",
       "Name: How did you find out about this workshop?, dtype: int64"
      ]
     },
     "execution_count": 20,
     "metadata": {},
     "output_type": "execute_result"
    }
   ],
   "source": [
    "countFindOut[6:]"
   ]
  },
  {
   "cell_type": "markdown",
   "id": "986c51db-223d-4234-9569-8c5bfe17b62d",
   "metadata": {},
   "source": [
    "Select the part for analysis.  \n",
    "Loop through info sources, inside loop:  \n",
    "Loop through counted values and check if the info source is mentioned in the index. It if is then add the count to the corresponding point in the valid dataframe."
   ]
  },
  {
   "cell_type": "code",
   "execution_count": 21,
   "id": "441ab1fa-2f1a-4f4d-b7ee-9c452d06b040",
   "metadata": {},
   "outputs": [],
   "source": [
    "countFindOut_corrected = countFindOut[:6].copy(deep = True)\n",
    "\n",
    "for source in infoSources_list:\n",
    "    for index,count in zip(countFindOut.index[6:].values,countFindOut.values[6:]):\n",
    "        if source in index:\n",
    "#           print(source, index, count)\n",
    "#           print(source,countFindOut_corrected[source])\n",
    "            countFindOut_corrected[source] = countFindOut_corrected[source] + count"
   ]
  },
  {
   "cell_type": "markdown",
   "id": "76abe625-9801-4e37-abef-42036634f78f",
   "metadata": {},
   "source": [
    "<font color=#330099>Plot a histogram of where the registrants found out about the workshop</font>"
   ]
  },
  {
   "cell_type": "code",
   "execution_count": 22,
   "id": "a6aec239-747a-426f-9677-b4fe8529e724",
   "metadata": {},
   "outputs": [
    {
     "data": {
      "image/png": "[encoded data removed]",
      "text/plain": [
       "<Figure size 640x480 with 1 Axes>"
      ]
     },
     "metadata": {},
     "output_type": "display_data"
    }
   ],
   "source": [
    "ax = sns.barplot(x=countFindOut_corrected.index, y=countFindOut_corrected)\n",
    "ax.set(title=\"How did you find out about the workshop?\")\n",
    "ax.set_xticklabels(countFindOut_corrected.index.values)\n",
    "ax.tick_params(labelrotation = 270)\n",
    "plt.savefig(\"./plots/Registration_FindOut.png\",dpi=300, bbox_inches = \"tight\")"
   ]
  },
  {
   "cell_type": "markdown",
   "id": "08c9e911-7b20-4a72-8307-d9b10b13a527",
   "metadata": {
    "tags": []
   },
   "source": [
    "### How did you find out about this workshop regardin the countries\n",
    "\n",
    "<font color=#ff0000>Let's see how to do this..</font>"
   ]
  },
  {
   "cell_type": "markdown",
   "id": "3661fc67-1265-4a27-a4f8-969a572e07f5",
   "metadata": {},
   "source": [
    "Select relevant columns from the original data"
   ]
  },
  {
   "cell_type": "code",
   "execution_count": 23,
   "id": "506aa8ab-3160-462e-93cf-a856647c87c2",
   "metadata": {},
   "outputs": [],
   "source": [
    "crossref1 = individualDF[[\"Country\",\"How did you find out about this workshop?\"]].copy(deep = True)"
   ]
  },
  {
   "cell_type": "markdown",
   "id": "5eb93ee7-7035-49de-9428-5b9d904be400",
   "metadata": {},
   "source": [
    "These are the sources of information again"
   ]
  },
  {
   "cell_type": "code",
   "execution_count": 24,
   "id": "db12aaec-6eda-4796-8444-c4ede924e4f0",
   "metadata": {},
   "outputs": [
    {
     "data": {
      "text/plain": [
       "['Twitter',\n",
       " 'CodeRefinery.org',\n",
       " 'Educational institute',\n",
       " 'National HPC center',\n",
       " 'Friend / Colleague',\n",
       " 'Another event']"
      ]
     },
     "execution_count": 24,
     "metadata": {},
     "output_type": "execute_result"
    }
   ],
   "source": [
    "infoSources_list"
   ]
  },
  {
   "cell_type": "markdown",
   "id": "a278eb4a-8bdc-4fbd-85ef-0fe6cc135e9f",
   "metadata": {},
   "source": [
    "Create more columns to the new dataframe. One for each info source."
   ]
  },
  {
   "cell_type": "code",
   "execution_count": 25,
   "id": "85a2bc2d-4686-49a3-b981-19d0bb7cb05d",
   "metadata": {},
   "outputs": [],
   "source": [
    "for col in infoSources:\n",
    "    crossref1[col] = np.nan"
   ]
  },
  {
   "cell_type": "markdown",
   "id": "0d4f1c08-88b3-406a-b9dc-783473ad2074",
   "metadata": {},
   "source": [
    "Fill NaN values with False."
   ]
  },
  {
   "cell_type": "code",
   "execution_count": 26,
   "id": "ccddfb33-32ed-47cb-be57-0328bfddf2fe",
   "metadata": {},
   "outputs": [],
   "source": [
    "crossref1.fillna(False, inplace=True)"
   ]
  },
  {
   "cell_type": "markdown",
   "id": "152aba86-7389-4ed1-8c95-5b4310a9f8b3",
   "metadata": {},
   "source": [
    "See it works."
   ]
  },
  {
   "cell_type": "code",
   "execution_count": 27,
   "id": "75b66144-7b4a-4cda-a467-02606348f513",
   "metadata": {},
   "outputs": [
    {
     "data": {
      "text/html": [
       "<div>\n",
       "<style scoped>\n",
       "    .dataframe tbody tr th:only-of-type {\n",
       "        vertical-align: middle;\n",
       "    }\n",
       "\n",
       "    .dataframe tbody tr th {\n",
       "        vertical-align: top;\n",
       "    }\n",
       "\n",
       "    .dataframe thead th {\n",
       "        text-align: right;\n",
       "    }\n",
       "</style>\n",
       "<table border=\"1\" class=\"dataframe\">\n",
       "  <thead>\n",
       "    <tr style=\"text-align: right;\">\n",
       "      <th></th>\n",
       "      <th>Country</th>\n",
       "      <th>How did you find out about this workshop?</th>\n",
       "      <th>Twitter</th>\n",
       "      <th>CodeRefinery.org</th>\n",
       "      <th>Educational institute</th>\n",
       "      <th>National HPC center</th>\n",
       "      <th>Friend / Colleague</th>\n",
       "      <th>Another event</th>\n",
       "    </tr>\n",
       "    <tr>\n",
       "      <th>ID</th>\n",
       "      <th></th>\n",
       "      <th></th>\n",
       "      <th></th>\n",
       "      <th></th>\n",
       "      <th></th>\n",
       "      <th></th>\n",
       "      <th></th>\n",
       "      <th></th>\n",
       "    </tr>\n",
       "  </thead>\n",
       "  <tbody>\n",
       "    <tr>\n",
       "      <th>60</th>\n",
       "      <td>Norway</td>\n",
       "      <td>Friend / Colleague</td>\n",
       "      <td>False</td>\n",
       "      <td>False</td>\n",
       "      <td>False</td>\n",
       "      <td>False</td>\n",
       "      <td>False</td>\n",
       "      <td>False</td>\n",
       "    </tr>\n",
       "    <tr>\n",
       "      <th>65</th>\n",
       "      <td>Norway</td>\n",
       "      <td>CodeRefinery.org</td>\n",
       "      <td>False</td>\n",
       "      <td>False</td>\n",
       "      <td>False</td>\n",
       "      <td>False</td>\n",
       "      <td>False</td>\n",
       "      <td>False</td>\n",
       "    </tr>\n",
       "    <tr>\n",
       "      <th>92</th>\n",
       "      <td>Norway</td>\n",
       "      <td>Friend / Colleague</td>\n",
       "      <td>False</td>\n",
       "      <td>False</td>\n",
       "      <td>False</td>\n",
       "      <td>False</td>\n",
       "      <td>False</td>\n",
       "      <td>False</td>\n",
       "    </tr>\n",
       "    <tr>\n",
       "      <th>232</th>\n",
       "      <td>Spain</td>\n",
       "      <td>Educational institute</td>\n",
       "      <td>False</td>\n",
       "      <td>False</td>\n",
       "      <td>False</td>\n",
       "      <td>False</td>\n",
       "      <td>False</td>\n",
       "      <td>False</td>\n",
       "    </tr>\n",
       "    <tr>\n",
       "      <th>17</th>\n",
       "      <td>Sweden</td>\n",
       "      <td>CodeRefinery.org; Educational institute</td>\n",
       "      <td>False</td>\n",
       "      <td>False</td>\n",
       "      <td>False</td>\n",
       "      <td>False</td>\n",
       "      <td>False</td>\n",
       "      <td>False</td>\n",
       "    </tr>\n",
       "    <tr>\n",
       "      <th>...</th>\n",
       "      <td>...</td>\n",
       "      <td>...</td>\n",
       "      <td>...</td>\n",
       "      <td>...</td>\n",
       "      <td>...</td>\n",
       "      <td>...</td>\n",
       "      <td>...</td>\n",
       "      <td>...</td>\n",
       "    </tr>\n",
       "    <tr>\n",
       "      <th>52</th>\n",
       "      <td>Sweden</td>\n",
       "      <td>False</td>\n",
       "      <td>False</td>\n",
       "      <td>False</td>\n",
       "      <td>False</td>\n",
       "      <td>False</td>\n",
       "      <td>False</td>\n",
       "      <td>False</td>\n",
       "    </tr>\n",
       "    <tr>\n",
       "      <th>153</th>\n",
       "      <td>Finland</td>\n",
       "      <td>False</td>\n",
       "      <td>False</td>\n",
       "      <td>False</td>\n",
       "      <td>False</td>\n",
       "      <td>False</td>\n",
       "      <td>False</td>\n",
       "      <td>False</td>\n",
       "    </tr>\n",
       "    <tr>\n",
       "      <th>168</th>\n",
       "      <td>Finland</td>\n",
       "      <td>Educational institute</td>\n",
       "      <td>False</td>\n",
       "      <td>False</td>\n",
       "      <td>False</td>\n",
       "      <td>False</td>\n",
       "      <td>False</td>\n",
       "      <td>False</td>\n",
       "    </tr>\n",
       "    <tr>\n",
       "      <th>29</th>\n",
       "      <td>France</td>\n",
       "      <td>Educational institute</td>\n",
       "      <td>False</td>\n",
       "      <td>False</td>\n",
       "      <td>False</td>\n",
       "      <td>False</td>\n",
       "      <td>False</td>\n",
       "      <td>False</td>\n",
       "    </tr>\n",
       "    <tr>\n",
       "      <th>217</th>\n",
       "      <td>Sweden</td>\n",
       "      <td>Friend / Colleague</td>\n",
       "      <td>False</td>\n",
       "      <td>False</td>\n",
       "      <td>False</td>\n",
       "      <td>False</td>\n",
       "      <td>False</td>\n",
       "      <td>False</td>\n",
       "    </tr>\n",
       "  </tbody>\n",
       "</table>\n",
       "<p>204 rows × 8 columns</p>\n",
       "</div>"
      ],
      "text/plain": [
       "     Country How did you find out about this workshop?  Twitter  \\\n",
       "ID                                                                \n",
       "60    Norway                        Friend / Colleague    False   \n",
       "65    Norway                          CodeRefinery.org    False   \n",
       "92    Norway                        Friend / Colleague    False   \n",
       "232    Spain                     Educational institute    False   \n",
       "17    Sweden   CodeRefinery.org; Educational institute    False   \n",
       "..       ...                                       ...      ...   \n",
       "52    Sweden                                     False    False   \n",
       "153  Finland                                     False    False   \n",
       "168  Finland                     Educational institute    False   \n",
       "29    France                     Educational institute    False   \n",
       "217   Sweden                        Friend / Colleague    False   \n",
       "\n",
       "     CodeRefinery.org  Educational institute  National HPC center  \\\n",
       "ID                                                                  \n",
       "60              False                  False                False   \n",
       "65              False                  False                False   \n",
       "92              False                  False                False   \n",
       "232             False                  False                False   \n",
       "17              False                  False                False   \n",
       "..                ...                    ...                  ...   \n",
       "52              False                  False                False   \n",
       "153             False                  False                False   \n",
       "168             False                  False                False   \n",
       "29              False                  False                False   \n",
       "217             False                  False                False   \n",
       "\n",
       "     Friend / Colleague  Another event  \n",
       "ID                                      \n",
       "60                False          False  \n",
       "65                False          False  \n",
       "92                False          False  \n",
       "232               False          False  \n",
       "17                False          False  \n",
       "..                  ...            ...  \n",
       "52                False          False  \n",
       "153               False          False  \n",
       "168               False          False  \n",
       "29                False          False  \n",
       "217               False          False  \n",
       "\n",
       "[204 rows x 8 columns]"
      ]
     },
     "execution_count": 27,
     "metadata": {},
     "output_type": "execute_result"
    }
   ],
   "source": [
    "crossref1"
   ]
  },
  {
   "cell_type": "markdown",
   "id": "33b39493-3f07-4c4a-ac10-bee310d001fe",
   "metadata": {},
   "source": [
    "DEMO: one can see if the column contains a text (here the info sources)"
   ]
  },
  {
   "cell_type": "code",
   "execution_count": 28,
   "id": "8fb53599-3dd4-4ff1-924f-1177405c639a",
   "metadata": {},
   "outputs": [
    {
     "data": {
      "text/plain": [
       "ID\n",
       "60     0\n",
       "65     1\n",
       "92     0\n",
       "232    0\n",
       "17     1\n",
       "      ..\n",
       "52     0\n",
       "153    0\n",
       "168    0\n",
       "29     0\n",
       "217    0\n",
       "Name: How did you find out about this workshop?, Length: 204, dtype: int64"
      ]
     },
     "execution_count": 28,
     "metadata": {},
     "output_type": "execute_result"
    }
   ],
   "source": [
    "crossref1[\"How did you find out about this workshop?\"].str.contains(\"CodeRefinery\").fillna(False).astype(int)"
   ]
  },
  {
   "cell_type": "markdown",
   "id": "fae66c5d-dbb8-4cce-a193-3340b9de43d9",
   "metadata": {},
   "source": [
    "Loop through rows in data and see if an info source is mentioned. Mark it to corresponding column. Then convert boolean to int."
   ]
  },
  {
   "cell_type": "code",
   "execution_count": 29,
   "id": "f1bdc5f2-63c0-4e20-bc73-511111f5042a",
   "metadata": {},
   "outputs": [],
   "source": [
    "for index in crossref1.index:\n",
    "#    print(index)\n",
    "    for info in infoSources_list:\n",
    "#        print(index)\n",
    "#        print(info)\n",
    "        crossref1[info] = crossref1[\"How did you find out about this workshop?\"].str.contains(info).fillna(False).astype(int)"
   ]
  },
  {
   "cell_type": "markdown",
   "id": "e030a7fb-26d3-41fa-ac5c-a22b95a63ec5",
   "metadata": {},
   "source": [
    "Omit the column that contains the infosources cluttered."
   ]
  },
  {
   "cell_type": "code",
   "execution_count": 30,
   "id": "4f520a3a-dfb8-45e6-8afd-58e38cc6403b",
   "metadata": {},
   "outputs": [],
   "source": [
    "crossref1.drop(\"How did you find out about this workshop?\",axis=1,inplace=True)"
   ]
  },
  {
   "cell_type": "markdown",
   "id": "4cd780ef-837e-4cc1-9348-f16de6fc36e5",
   "metadata": {},
   "source": [
    "See it works!"
   ]
  },
  {
   "cell_type": "code",
   "execution_count": 31,
   "id": "fe52de0b-53df-422e-be5e-988eb4fb42cd",
   "metadata": {},
   "outputs": [
    {
     "data": {
      "text/html": [
       "<div>\n",
       "<style scoped>\n",
       "    .dataframe tbody tr th:only-of-type {\n",
       "        vertical-align: middle;\n",
       "    }\n",
       "\n",
       "    .dataframe tbody tr th {\n",
       "        vertical-align: top;\n",
       "    }\n",
       "\n",
       "    .dataframe thead th {\n",
       "        text-align: right;\n",
       "    }\n",
       "</style>\n",
       "<table border=\"1\" class=\"dataframe\">\n",
       "  <thead>\n",
       "    <tr style=\"text-align: right;\">\n",
       "      <th></th>\n",
       "      <th>Country</th>\n",
       "      <th>Twitter</th>\n",
       "      <th>CodeRefinery.org</th>\n",
       "      <th>Educational institute</th>\n",
       "      <th>National HPC center</th>\n",
       "      <th>Friend / Colleague</th>\n",
       "      <th>Another event</th>\n",
       "    </tr>\n",
       "    <tr>\n",
       "      <th>ID</th>\n",
       "      <th></th>\n",
       "      <th></th>\n",
       "      <th></th>\n",
       "      <th></th>\n",
       "      <th></th>\n",
       "      <th></th>\n",
       "      <th></th>\n",
       "    </tr>\n",
       "  </thead>\n",
       "  <tbody>\n",
       "    <tr>\n",
       "      <th>60</th>\n",
       "      <td>Norway</td>\n",
       "      <td>0</td>\n",
       "      <td>0</td>\n",
       "      <td>0</td>\n",
       "      <td>0</td>\n",
       "      <td>1</td>\n",
       "      <td>0</td>\n",
       "    </tr>\n",
       "    <tr>\n",
       "      <th>65</th>\n",
       "      <td>Norway</td>\n",
       "      <td>0</td>\n",
       "      <td>1</td>\n",
       "      <td>0</td>\n",
       "      <td>0</td>\n",
       "      <td>0</td>\n",
       "      <td>0</td>\n",
       "    </tr>\n",
       "    <tr>\n",
       "      <th>92</th>\n",
       "      <td>Norway</td>\n",
       "      <td>0</td>\n",
       "      <td>0</td>\n",
       "      <td>0</td>\n",
       "      <td>0</td>\n",
       "      <td>1</td>\n",
       "      <td>0</td>\n",
       "    </tr>\n",
       "    <tr>\n",
       "      <th>232</th>\n",
       "      <td>Spain</td>\n",
       "      <td>0</td>\n",
       "      <td>0</td>\n",
       "      <td>1</td>\n",
       "      <td>0</td>\n",
       "      <td>0</td>\n",
       "      <td>0</td>\n",
       "    </tr>\n",
       "    <tr>\n",
       "      <th>17</th>\n",
       "      <td>Sweden</td>\n",
       "      <td>0</td>\n",
       "      <td>1</td>\n",
       "      <td>1</td>\n",
       "      <td>0</td>\n",
       "      <td>0</td>\n",
       "      <td>0</td>\n",
       "    </tr>\n",
       "    <tr>\n",
       "      <th>...</th>\n",
       "      <td>...</td>\n",
       "      <td>...</td>\n",
       "      <td>...</td>\n",
       "      <td>...</td>\n",
       "      <td>...</td>\n",
       "      <td>...</td>\n",
       "      <td>...</td>\n",
       "    </tr>\n",
       "    <tr>\n",
       "      <th>52</th>\n",
       "      <td>Sweden</td>\n",
       "      <td>0</td>\n",
       "      <td>0</td>\n",
       "      <td>0</td>\n",
       "      <td>0</td>\n",
       "      <td>0</td>\n",
       "      <td>0</td>\n",
       "    </tr>\n",
       "    <tr>\n",
       "      <th>153</th>\n",
       "      <td>Finland</td>\n",
       "      <td>0</td>\n",
       "      <td>0</td>\n",
       "      <td>0</td>\n",
       "      <td>0</td>\n",
       "      <td>0</td>\n",
       "      <td>0</td>\n",
       "    </tr>\n",
       "    <tr>\n",
       "      <th>168</th>\n",
       "      <td>Finland</td>\n",
       "      <td>0</td>\n",
       "      <td>0</td>\n",
       "      <td>1</td>\n",
       "      <td>0</td>\n",
       "      <td>0</td>\n",
       "      <td>0</td>\n",
       "    </tr>\n",
       "    <tr>\n",
       "      <th>29</th>\n",
       "      <td>France</td>\n",
       "      <td>0</td>\n",
       "      <td>0</td>\n",
       "      <td>1</td>\n",
       "      <td>0</td>\n",
       "      <td>0</td>\n",
       "      <td>0</td>\n",
       "    </tr>\n",
       "    <tr>\n",
       "      <th>217</th>\n",
       "      <td>Sweden</td>\n",
       "      <td>0</td>\n",
       "      <td>0</td>\n",
       "      <td>0</td>\n",
       "      <td>0</td>\n",
       "      <td>1</td>\n",
       "      <td>0</td>\n",
       "    </tr>\n",
       "  </tbody>\n",
       "</table>\n",
       "<p>204 rows × 7 columns</p>\n",
       "</div>"
      ],
      "text/plain": [
       "     Country  Twitter  CodeRefinery.org  Educational institute  \\\n",
       "ID                                                               \n",
       "60    Norway        0                 0                      0   \n",
       "65    Norway        0                 1                      0   \n",
       "92    Norway        0                 0                      0   \n",
       "232    Spain        0                 0                      1   \n",
       "17    Sweden        0                 1                      1   \n",
       "..       ...      ...               ...                    ...   \n",
       "52    Sweden        0                 0                      0   \n",
       "153  Finland        0                 0                      0   \n",
       "168  Finland        0                 0                      1   \n",
       "29    France        0                 0                      1   \n",
       "217   Sweden        0                 0                      0   \n",
       "\n",
       "     National HPC center  Friend / Colleague  Another event  \n",
       "ID                                                           \n",
       "60                     0                   1              0  \n",
       "65                     0                   0              0  \n",
       "92                     0                   1              0  \n",
       "232                    0                   0              0  \n",
       "17                     0                   0              0  \n",
       "..                   ...                 ...            ...  \n",
       "52                     0                   0              0  \n",
       "153                    0                   0              0  \n",
       "168                    0                   0              0  \n",
       "29                     0                   0              0  \n",
       "217                    0                   1              0  \n",
       "\n",
       "[204 rows x 7 columns]"
      ]
     },
     "execution_count": 31,
     "metadata": {},
     "output_type": "execute_result"
    }
   ],
   "source": [
    "crossref1"
   ]
  },
  {
   "cell_type": "markdown",
   "id": "57d7dc6b-a35f-4185-9ab7-042c60597dc1",
   "metadata": {},
   "source": [
    "Group the data by countries and calculate sums of info sources for each country."
   ]
  },
  {
   "cell_type": "code",
   "execution_count": 32,
   "id": "41d32415-102a-49d9-bd2c-07d3f1a61aa9",
   "metadata": {},
   "outputs": [],
   "source": [
    "info_by_Countries = crossref1.groupby(\"Country\").sum()"
   ]
  },
  {
   "cell_type": "markdown",
   "id": "966e4bb2-a44d-47ac-8db9-3c774fa3294a",
   "metadata": {},
   "source": [
    "See it works!"
   ]
  },
  {
   "cell_type": "code",
   "execution_count": 33,
   "id": "37e4b977-ea9b-492d-9bab-d2aeb1a4efda",
   "metadata": {},
   "outputs": [
    {
     "data": {
      "text/html": [
       "<div>\n",
       "<style scoped>\n",
       "    .dataframe tbody tr th:only-of-type {\n",
       "        vertical-align: middle;\n",
       "    }\n",
       "\n",
       "    .dataframe tbody tr th {\n",
       "        vertical-align: top;\n",
       "    }\n",
       "\n",
       "    .dataframe thead th {\n",
       "        text-align: right;\n",
       "    }\n",
       "</style>\n",
       "<table border=\"1\" class=\"dataframe\">\n",
       "  <thead>\n",
       "    <tr style=\"text-align: right;\">\n",
       "      <th></th>\n",
       "      <th>Twitter</th>\n",
       "      <th>CodeRefinery.org</th>\n",
       "      <th>Educational institute</th>\n",
       "      <th>National HPC center</th>\n",
       "      <th>Friend / Colleague</th>\n",
       "      <th>Another event</th>\n",
       "    </tr>\n",
       "    <tr>\n",
       "      <th>Country</th>\n",
       "      <th></th>\n",
       "      <th></th>\n",
       "      <th></th>\n",
       "      <th></th>\n",
       "      <th></th>\n",
       "      <th></th>\n",
       "    </tr>\n",
       "  </thead>\n",
       "  <tbody>\n",
       "    <tr>\n",
       "      <th>Brazil</th>\n",
       "      <td>0</td>\n",
       "      <td>0</td>\n",
       "      <td>0</td>\n",
       "      <td>0</td>\n",
       "      <td>1</td>\n",
       "      <td>0</td>\n",
       "    </tr>\n",
       "    <tr>\n",
       "      <th>Canada</th>\n",
       "      <td>0</td>\n",
       "      <td>0</td>\n",
       "      <td>0</td>\n",
       "      <td>0</td>\n",
       "      <td>0</td>\n",
       "      <td>1</td>\n",
       "    </tr>\n",
       "    <tr>\n",
       "      <th>China</th>\n",
       "      <td>0</td>\n",
       "      <td>0</td>\n",
       "      <td>0</td>\n",
       "      <td>0</td>\n",
       "      <td>0</td>\n",
       "      <td>0</td>\n",
       "    </tr>\n",
       "    <tr>\n",
       "      <th>Denmark</th>\n",
       "      <td>2</td>\n",
       "      <td>2</td>\n",
       "      <td>0</td>\n",
       "      <td>0</td>\n",
       "      <td>3</td>\n",
       "      <td>0</td>\n",
       "    </tr>\n",
       "    <tr>\n",
       "      <th>Finland</th>\n",
       "      <td>3</td>\n",
       "      <td>6</td>\n",
       "      <td>20</td>\n",
       "      <td>5</td>\n",
       "      <td>17</td>\n",
       "      <td>9</td>\n",
       "    </tr>\n",
       "    <tr>\n",
       "      <th>France</th>\n",
       "      <td>0</td>\n",
       "      <td>0</td>\n",
       "      <td>1</td>\n",
       "      <td>0</td>\n",
       "      <td>1</td>\n",
       "      <td>0</td>\n",
       "    </tr>\n",
       "    <tr>\n",
       "      <th>Germany</th>\n",
       "      <td>0</td>\n",
       "      <td>1</td>\n",
       "      <td>0</td>\n",
       "      <td>0</td>\n",
       "      <td>0</td>\n",
       "      <td>0</td>\n",
       "    </tr>\n",
       "    <tr>\n",
       "      <th>Greece</th>\n",
       "      <td>0</td>\n",
       "      <td>0</td>\n",
       "      <td>0</td>\n",
       "      <td>1</td>\n",
       "      <td>0</td>\n",
       "      <td>0</td>\n",
       "    </tr>\n",
       "    <tr>\n",
       "      <th>India</th>\n",
       "      <td>2</td>\n",
       "      <td>1</td>\n",
       "      <td>0</td>\n",
       "      <td>0</td>\n",
       "      <td>0</td>\n",
       "      <td>1</td>\n",
       "    </tr>\n",
       "    <tr>\n",
       "      <th>Indonesia</th>\n",
       "      <td>0</td>\n",
       "      <td>0</td>\n",
       "      <td>0</td>\n",
       "      <td>0</td>\n",
       "      <td>0</td>\n",
       "      <td>0</td>\n",
       "    </tr>\n",
       "    <tr>\n",
       "      <th>Iran</th>\n",
       "      <td>0</td>\n",
       "      <td>0</td>\n",
       "      <td>0</td>\n",
       "      <td>0</td>\n",
       "      <td>0</td>\n",
       "      <td>1</td>\n",
       "    </tr>\n",
       "    <tr>\n",
       "      <th>Ireland</th>\n",
       "      <td>1</td>\n",
       "      <td>0</td>\n",
       "      <td>0</td>\n",
       "      <td>0</td>\n",
       "      <td>2</td>\n",
       "      <td>0</td>\n",
       "    </tr>\n",
       "    <tr>\n",
       "      <th>Italy</th>\n",
       "      <td>1</td>\n",
       "      <td>1</td>\n",
       "      <td>0</td>\n",
       "      <td>1</td>\n",
       "      <td>1</td>\n",
       "      <td>0</td>\n",
       "    </tr>\n",
       "    <tr>\n",
       "      <th>Netherlands</th>\n",
       "      <td>1</td>\n",
       "      <td>0</td>\n",
       "      <td>3</td>\n",
       "      <td>0</td>\n",
       "      <td>0</td>\n",
       "      <td>1</td>\n",
       "    </tr>\n",
       "    <tr>\n",
       "      <th>Norway</th>\n",
       "      <td>0</td>\n",
       "      <td>3</td>\n",
       "      <td>7</td>\n",
       "      <td>4</td>\n",
       "      <td>18</td>\n",
       "      <td>4</td>\n",
       "    </tr>\n",
       "    <tr>\n",
       "      <th>Singapore</th>\n",
       "      <td>1</td>\n",
       "      <td>0</td>\n",
       "      <td>0</td>\n",
       "      <td>0</td>\n",
       "      <td>0</td>\n",
       "      <td>0</td>\n",
       "    </tr>\n",
       "    <tr>\n",
       "      <th>Spain</th>\n",
       "      <td>2</td>\n",
       "      <td>1</td>\n",
       "      <td>2</td>\n",
       "      <td>0</td>\n",
       "      <td>7</td>\n",
       "      <td>1</td>\n",
       "    </tr>\n",
       "    <tr>\n",
       "      <th>Sweden</th>\n",
       "      <td>1</td>\n",
       "      <td>9</td>\n",
       "      <td>8</td>\n",
       "      <td>11</td>\n",
       "      <td>23</td>\n",
       "      <td>1</td>\n",
       "    </tr>\n",
       "    <tr>\n",
       "      <th>Switzerland</th>\n",
       "      <td>0</td>\n",
       "      <td>1</td>\n",
       "      <td>0</td>\n",
       "      <td>0</td>\n",
       "      <td>1</td>\n",
       "      <td>0</td>\n",
       "    </tr>\n",
       "    <tr>\n",
       "      <th>Thailand</th>\n",
       "      <td>1</td>\n",
       "      <td>0</td>\n",
       "      <td>0</td>\n",
       "      <td>0</td>\n",
       "      <td>0</td>\n",
       "      <td>0</td>\n",
       "    </tr>\n",
       "    <tr>\n",
       "      <th>Trinidad &amp; Tobago</th>\n",
       "      <td>0</td>\n",
       "      <td>0</td>\n",
       "      <td>0</td>\n",
       "      <td>0</td>\n",
       "      <td>0</td>\n",
       "      <td>0</td>\n",
       "    </tr>\n",
       "    <tr>\n",
       "      <th>Turkey</th>\n",
       "      <td>0</td>\n",
       "      <td>0</td>\n",
       "      <td>0</td>\n",
       "      <td>0</td>\n",
       "      <td>0</td>\n",
       "      <td>0</td>\n",
       "    </tr>\n",
       "    <tr>\n",
       "      <th>United Kingdom</th>\n",
       "      <td>2</td>\n",
       "      <td>0</td>\n",
       "      <td>1</td>\n",
       "      <td>2</td>\n",
       "      <td>0</td>\n",
       "      <td>0</td>\n",
       "    </tr>\n",
       "    <tr>\n",
       "      <th>United States</th>\n",
       "      <td>2</td>\n",
       "      <td>1</td>\n",
       "      <td>0</td>\n",
       "      <td>0</td>\n",
       "      <td>1</td>\n",
       "      <td>0</td>\n",
       "    </tr>\n",
       "  </tbody>\n",
       "</table>\n",
       "</div>"
      ],
      "text/plain": [
       "                   Twitter  CodeRefinery.org  Educational institute  \\\n",
       "Country                                                               \n",
       "Brazil                   0                 0                      0   \n",
       "Canada                   0                 0                      0   \n",
       "China                    0                 0                      0   \n",
       "Denmark                  2                 2                      0   \n",
       "Finland                  3                 6                     20   \n",
       "France                   0                 0                      1   \n",
       "Germany                  0                 1                      0   \n",
       "Greece                   0                 0                      0   \n",
       "India                    2                 1                      0   \n",
       "Indonesia                0                 0                      0   \n",
       "Iran                     0                 0                      0   \n",
       "Ireland                  1                 0                      0   \n",
       "Italy                    1                 1                      0   \n",
       "Netherlands              1                 0                      3   \n",
       "Norway                   0                 3                      7   \n",
       "Singapore                1                 0                      0   \n",
       "Spain                    2                 1                      2   \n",
       "Sweden                   1                 9                      8   \n",
       "Switzerland              0                 1                      0   \n",
       "Thailand                 1                 0                      0   \n",
       "Trinidad & Tobago        0                 0                      0   \n",
       "Turkey                   0                 0                      0   \n",
       "United Kingdom           2                 0                      1   \n",
       "United States            2                 1                      0   \n",
       "\n",
       "                   National HPC center  Friend / Colleague  Another event  \n",
       "Country                                                                    \n",
       "Brazil                               0                   1              0  \n",
       "Canada                               0                   0              1  \n",
       "China                                0                   0              0  \n",
       "Denmark                              0                   3              0  \n",
       "Finland                              5                  17              9  \n",
       "France                               0                   1              0  \n",
       "Germany                              0                   0              0  \n",
       "Greece                               1                   0              0  \n",
       "India                                0                   0              1  \n",
       "Indonesia                            0                   0              0  \n",
       "Iran                                 0                   0              1  \n",
       "Ireland                              0                   2              0  \n",
       "Italy                                1                   1              0  \n",
       "Netherlands                          0                   0              1  \n",
       "Norway                               4                  18              4  \n",
       "Singapore                            0                   0              0  \n",
       "Spain                                0                   7              1  \n",
       "Sweden                              11                  23              1  \n",
       "Switzerland                          0                   1              0  \n",
       "Thailand                             0                   0              0  \n",
       "Trinidad & Tobago                    0                   0              0  \n",
       "Turkey                               0                   0              0  \n",
       "United Kingdom                       2                   0              0  \n",
       "United States                        0                   1              0  "
      ]
     },
     "execution_count": 33,
     "metadata": {},
     "output_type": "execute_result"
    }
   ],
   "source": [
    "info_by_Countries"
   ]
  },
  {
   "cell_type": "markdown",
   "id": "4c6adbb6-83e9-4664-bdee-a033591cd217",
   "metadata": {},
   "source": [
    "<font color=#330099>Plot a histogram of how registrants found out about the workshop grouped by countries</font>"
   ]
  },
  {
   "cell_type": "code",
   "execution_count": 34,
   "id": "146f9d61-1d8f-4a59-8676-105cd31a57ac",
   "metadata": {},
   "outputs": [
    {
     "data": {
      "image/png": "[encoded data removed]",
      "text/plain": [
       "<Figure size 640x480 with 2 Axes>"
      ]
     },
     "metadata": {},
     "output_type": "display_data"
    }
   ],
   "source": [
    "ax = sns.heatmap(info_by_Countries,cmap='viridis')\n",
    "ax.set(title=\"How did you find out about the workshop?\")\n",
    "plt.savefig(\"./plots/Registration_FindOut_Countries.png\",dpi=300, bbox_inches = \"tight\")"
   ]
  },
  {
   "cell_type": "markdown",
   "id": "654c2536-12d4-4dc4-8522-9c44a656fe2d",
   "metadata": {
    "tags": []
   },
   "source": [
    "### Attendance/participation type\n",
    "\n",
    "<font color=#330099>This can be plotted right away</font>"
   ]
  },
  {
   "cell_type": "code",
   "execution_count": 35,
   "id": "15ceb4c5-20d5-47e5-bca7-f5a67bf3054a",
   "metadata": {
    "tags": []
   },
   "outputs": [
    {
     "data": {
      "text/plain": [
       "Learner            185\n",
       "Instructor           6\n",
       "Observer             5\n",
       "Expert helper        3\n",
       "Organizer            3\n",
       "Exercise leader      2\n",
       "Name: Attendance/participation type, dtype: int64"
      ]
     },
     "execution_count": 35,
     "metadata": {},
     "output_type": "execute_result"
    }
   ],
   "source": [
    "countAttendaceType1"
   ]
  },
  {
   "cell_type": "code",
   "execution_count": 36,
   "id": "ca563f35-569a-47e2-ba91-49100e45648a",
   "metadata": {},
   "outputs": [
    {
     "data": {
      "image/png": "[encoded data removed]",
      "text/plain": [
       "<Figure size 640x480 with 1 Axes>"
      ]
     },
     "metadata": {},
     "output_type": "display_data"
    }
   ],
   "source": [
    "ax = sns.barplot(x=countAttendaceType1.index, y=countAttendaceType1)\n",
    "ax.set(title=\"Role at the workshop\")\n",
    "ax.set_xticklabels(countAttendaceType1.index.values)\n",
    "ax.tick_params(labelrotation = 270)\n",
    "plt.savefig(\"./plots/Registration_Roles.png\",dpi=300, bbox_inches = \"tight\")"
   ]
  },
  {
   "cell_type": "markdown",
   "id": "ce352506-bbcf-4c95-b4e4-65389ce644e0",
   "metadata": {},
   "source": [
    "### Stream only or also exercise group? Video or in-person?\n",
    "\n",
    "<font color=#330099>This can be plotted right away</font>"
   ]
  },
  {
   "cell_type": "code",
   "execution_count": 37,
   "id": "b0c3ac49-a645-41f3-8b41-ba4a19c61bbb",
   "metadata": {
    "tags": []
   },
   "outputs": [
    {
     "data": {
      "text/plain": [
       "Only watching the stream                                                         90\n",
       "Watching stream and participate in online exercise group (Code Refinery Zoom)    62\n",
       "I would like to get more information and decide later                            29\n",
       "I would like to watch and exercise with others in-person                         14\n",
       "I am an organizer or instructor or observer                                       9\n",
       "Name: Stream only or also exercise group? Video or in-person?, dtype: int64"
      ]
     },
     "execution_count": 37,
     "metadata": {},
     "output_type": "execute_result"
    }
   ],
   "source": [
    "countAttendaceType2"
   ]
  },
  {
   "cell_type": "code",
   "execution_count": 38,
   "id": "c797d5ee-af96-4aa3-aba5-4c6d7920f06b",
   "metadata": {},
   "outputs": [
    {
     "data": {
      "image/png": "[encoded data removed]",
      "text/plain": [
       "<Figure size 640x480 with 1 Axes>"
      ]
     },
     "metadata": {},
     "output_type": "display_data"
    }
   ],
   "source": [
    "ax = sns.barplot(x=countAttendaceType2.index, y=countAttendaceType2)\n",
    "ax.set(title=\"How to participate the workshop?\")\n",
    "ax.set_xticklabels(countAttendaceType2.index.values)\n",
    "ax.tick_params(labelrotation = 270)\n",
    "plt.savefig(\"./plots/Registration_Roles.png\",dpi=300, bbox_inches = \"tight\")"
   ]
  },
  {
   "cell_type": "markdown",
   "id": "6823bf6a-0211-4905-9ce8-2956000d3e24",
   "metadata": {},
   "source": [
    "### Which days you plan to attend?\n",
    "\n",
    "<font color=#ff0000>This is tricky and potentially not worth it.</font>\n",
    "> It would be nice to know if the days have some differences. Probably we get that from the Twitch stats also"
   ]
  },
  {
   "cell_type": "code",
   "execution_count": 39,
   "id": "756c0337-8420-459c-aa30-85b8dc198b9c",
   "metadata": {},
   "outputs": [],
   "source": [
    "days_list = [\"Tue, Sep 20 (Day 1)\", \"Wed, Sep 21 (Day 2)\", \"Thu, Sep 22 (Day 3)\", \"Tue, Sep 27 (Day 4)\", \"Wed, Sep 28 (Day 5)\", \"Thu, Sep 29 (Day 6)\", \"Not sure I can attend, but please keep me informed\"]"
   ]
  },
  {
   "cell_type": "code",
   "execution_count": 40,
   "id": "23d2f9b9-673d-4dd5-9164-d6a7cfe94c1d",
   "metadata": {},
   "outputs": [
    {
     "name": "stdout",
     "output_type": "stream",
     "text": [
      "Tue, Sep 20 (Day 1)\n",
      "Wed, Sep 21 (Day 2)\n",
      "Thu, Sep 22 (Day 3)\n",
      "Tue, Sep 27 (Day 4)\n",
      "Wed, Sep 28 (Day 5)\n",
      "Thu, Sep 29 (Day 6)\n",
      "Not sure I can attend, but please keep me informed\n"
     ]
    }
   ],
   "source": [
    "for i in days_list:\n",
    "    print(i)"
   ]
  },
  {
   "cell_type": "code",
   "execution_count": 41,
   "id": "ff97da7a-9174-4008-8834-73d62b021496",
   "metadata": {},
   "outputs": [],
   "source": [
    "countAttendanceDays_corrected = pd.Series([x for x in range(len(days_list))])\n",
    "countAttendanceDays_corrected.index = days_list\n",
    "\n",
    "for day in days_list:\n",
    "    for index,count in zip(countAttendaceDays.index.values,countAttendaceDays.values):\n",
    "        if day in index:\n",
    "#           print(day,\"|||\", index, count)\n",
    "            countAttendanceDays_corrected[day] = countAttendanceDays_corrected[day] + count"
   ]
  },
  {
   "cell_type": "code",
   "execution_count": 42,
   "id": "f66727b1-c58b-4e22-aa4f-2b9a72a839fd",
   "metadata": {
    "tags": []
   },
   "outputs": [
    {
     "data": {
      "text/plain": [
       "Tue, Sep 20 (Day 1)                                   162\n",
       "Wed, Sep 21 (Day 2)                                   166\n",
       "Thu, Sep 22 (Day 3)                                   164\n",
       "Tue, Sep 27 (Day 4)                                   168\n",
       "Wed, Sep 28 (Day 5)                                   163\n",
       "Thu, Sep 29 (Day 6)                                   170\n",
       "Not sure I can attend, but please keep me informed     44\n",
       "dtype: int64"
      ]
     },
     "execution_count": 42,
     "metadata": {},
     "output_type": "execute_result"
    }
   ],
   "source": [
    "countAttendanceDays_corrected"
   ]
  },
  {
   "cell_type": "code",
   "execution_count": 43,
   "id": "921e46e5-f320-42aa-9880-aa63254b0f19",
   "metadata": {},
   "outputs": [
    {
     "data": {
      "image/png": "[encoded data removed]",
      "text/plain": [
       "<Figure size 640x480 with 1 Axes>"
      ]
     },
     "metadata": {},
     "output_type": "display_data"
    }
   ],
   "source": [
    "ax = sns.barplot(x=countAttendanceDays_corrected.index, y=countAttendanceDays_corrected)\n",
    "ax.set(title=\"Which days to participate the workshop?\")\n",
    "ax.set_xticklabels(countAttendanceDays_corrected.index.values)\n",
    "ax.tick_params(labelrotation = 270)\n",
    "plt.savefig(\"./plots/Registration_Days.png\",dpi=300, bbox_inches = \"tight\")"
   ]
  },
  {
   "cell_type": "markdown",
   "id": "ac55f2eb-97ba-4f0d-94a4-c7772f979a5d",
   "metadata": {
    "tags": []
   },
   "source": [
    "## Team registrations\n",
    "<a id =2> </a>"
   ]
  },
  {
   "cell_type": "markdown",
   "id": "d113ba56-656e-4948-905a-6696b6a91221",
   "metadata": {},
   "source": [
    "<font color=#330099>Read in the csv from the repo</font>"
   ]
  },
  {
   "cell_type": "code",
   "execution_count": 44,
   "id": "17821399-7530-497f-9512-5db7ab01b9b1",
   "metadata": {},
   "outputs": [],
   "source": [
    "teamDF = pd.read_csv(\"./data/CR_teams.csv\", index_col=\"ID\")"
   ]
  },
  {
   "cell_type": "markdown",
   "id": "aa7469c4-8b8c-424a-8f90-96108843c700",
   "metadata": {},
   "source": [
    "<font color=#330099>Some summary</font>"
   ]
  },
  {
   "cell_type": "code",
   "execution_count": 45,
   "id": "4172e974-480f-47ff-b58f-3fea8fae526c",
   "metadata": {},
   "outputs": [
    {
     "name": "stdout",
     "output_type": "stream",
     "text": [
      "<class 'pandas.core.frame.DataFrame'>\n",
      "Int64Index: 8 entries, 67 to 45\n",
      "Data columns (total 7 columns):\n",
      " #   Column                                                               Non-Null Count  Dtype  \n",
      "---  ------                                                               --------------  -----  \n",
      " 0   Actual number of teams                                               7 non-null      float64\n",
      " 1   Actual number of learners                                            7 non-null      float64\n",
      " 2   Actual number of exercise leads                                      7 non-null      float64\n",
      " 3   Country/countries that learners are affilated with                   7 non-null      object \n",
      " 4   Career stage/ position of learners                                   7 non-null      object \n",
      " 5   Academic discipline                                                  6 non-null      object \n",
      " 6   Academic disciplines (if multiple teams from different disciplines)  3 non-null      object \n",
      "dtypes: float64(3), object(4)\n",
      "memory usage: 512.0+ bytes\n"
     ]
    }
   ],
   "source": [
    "teamDF.info()"
   ]
  },
  {
   "cell_type": "markdown",
   "id": "bd1883b8-6bf0-4931-a51d-96a4b93626c7",
   "metadata": {},
   "source": [
    "<font color=#330099>A closer look</font>"
   ]
  },
  {
   "cell_type": "code",
   "execution_count": 46,
   "id": "cde384dd-1acd-43a0-a0c7-c255115e592f",
   "metadata": {},
   "outputs": [
    {
     "data": {
      "text/html": [
       "<div>\n",
       "<style scoped>\n",
       "    .dataframe tbody tr th:only-of-type {\n",
       "        vertical-align: middle;\n",
       "    }\n",
       "\n",
       "    .dataframe tbody tr th {\n",
       "        vertical-align: top;\n",
       "    }\n",
       "\n",
       "    .dataframe thead th {\n",
       "        text-align: right;\n",
       "    }\n",
       "</style>\n",
       "<table border=\"1\" class=\"dataframe\">\n",
       "  <thead>\n",
       "    <tr style=\"text-align: right;\">\n",
       "      <th></th>\n",
       "      <th>Actual number of teams</th>\n",
       "      <th>Actual number of learners</th>\n",
       "      <th>Actual number of exercise leads</th>\n",
       "      <th>Country/countries that learners are affilated with</th>\n",
       "      <th>Career stage/ position of learners</th>\n",
       "      <th>Academic discipline</th>\n",
       "      <th>Academic disciplines (if multiple teams from different disciplines)</th>\n",
       "    </tr>\n",
       "    <tr>\n",
       "      <th>ID</th>\n",
       "      <th></th>\n",
       "      <th></th>\n",
       "      <th></th>\n",
       "      <th></th>\n",
       "      <th></th>\n",
       "      <th></th>\n",
       "      <th></th>\n",
       "    </tr>\n",
       "  </thead>\n",
       "  <tbody>\n",
       "    <tr>\n",
       "      <th>67</th>\n",
       "      <td>2.0</td>\n",
       "      <td>12.0</td>\n",
       "      <td>2.0</td>\n",
       "      <td>Norway</td>\n",
       "      <td>9 PhDs / 2 postdoc / 1 researcher</td>\n",
       "      <td>Mixed</td>\n",
       "      <td>Process Engineering: 7 / physics: 1 / Architec...</td>\n",
       "    </tr>\n",
       "    <tr>\n",
       "      <th>75</th>\n",
       "      <td>1.0</td>\n",
       "      <td>2.0</td>\n",
       "      <td>1.0</td>\n",
       "      <td>Sweden</td>\n",
       "      <td>1 PhD student and 1 postdoc</td>\n",
       "      <td>Biological Sciences</td>\n",
       "      <td>NaN</td>\n",
       "    </tr>\n",
       "    <tr>\n",
       "      <th>253</th>\n",
       "      <td>1.0</td>\n",
       "      <td>4.0</td>\n",
       "      <td>2.0</td>\n",
       "      <td>Finland</td>\n",
       "      <td>Industry: 10, Undergraduate: 1</td>\n",
       "      <td>Computer and Information Sciences</td>\n",
       "      <td>NaN</td>\n",
       "    </tr>\n",
       "    <tr>\n",
       "      <th>41</th>\n",
       "      <td>4.0</td>\n",
       "      <td>19.0</td>\n",
       "      <td>5.0</td>\n",
       "      <td>TU Delft: 19</td>\n",
       "      <td>PhD candidate: 17, Researcher: 2</td>\n",
       "      <td>Mixed</td>\n",
       "      <td>Civil Engineering: 5, Computer and Information...</td>\n",
       "    </tr>\n",
       "    <tr>\n",
       "      <th>42</th>\n",
       "      <td>1.0</td>\n",
       "      <td>11.0</td>\n",
       "      <td>2.0</td>\n",
       "      <td>Finland</td>\n",
       "      <td>6 Doctoral researcher     4 Masters student   ...</td>\n",
       "      <td>NaN</td>\n",
       "      <td>Chemical Sciences: 2, Computer and Information...</td>\n",
       "    </tr>\n",
       "    <tr>\n",
       "      <th>134</th>\n",
       "      <td>1.0</td>\n",
       "      <td>5.0</td>\n",
       "      <td>2.0</td>\n",
       "      <td>The Netherlands: 5</td>\n",
       "      <td>PhD student: 3    PostDoc: 1    emeriti: 1</td>\n",
       "      <td>Mixed</td>\n",
       "      <td>NaN</td>\n",
       "    </tr>\n",
       "    <tr>\n",
       "      <th>135</th>\n",
       "      <td>1.0</td>\n",
       "      <td>5.0</td>\n",
       "      <td>2.0</td>\n",
       "      <td>Netherlands</td>\n",
       "      <td>Mostly Phds and a professor. Number of learner...</td>\n",
       "      <td>Mixed</td>\n",
       "      <td>NaN</td>\n",
       "    </tr>\n",
       "    <tr>\n",
       "      <th>45</th>\n",
       "      <td>NaN</td>\n",
       "      <td>NaN</td>\n",
       "      <td>NaN</td>\n",
       "      <td>NaN</td>\n",
       "      <td>NaN</td>\n",
       "      <td>NaN</td>\n",
       "      <td>NaN</td>\n",
       "    </tr>\n",
       "  </tbody>\n",
       "</table>\n",
       "</div>"
      ],
      "text/plain": [
       "     Actual number of teams  Actual number of learners  \\\n",
       "ID                                                       \n",
       "67                      2.0                       12.0   \n",
       "75                      1.0                        2.0   \n",
       "253                     1.0                        4.0   \n",
       "41                      4.0                       19.0   \n",
       "42                      1.0                       11.0   \n",
       "134                     1.0                        5.0   \n",
       "135                     1.0                        5.0   \n",
       "45                      NaN                        NaN   \n",
       "\n",
       "     Actual number of exercise leads  \\\n",
       "ID                                     \n",
       "67                               2.0   \n",
       "75                               1.0   \n",
       "253                              2.0   \n",
       "41                               5.0   \n",
       "42                               2.0   \n",
       "134                              2.0   \n",
       "135                              2.0   \n",
       "45                               NaN   \n",
       "\n",
       "    Country/countries that learners are affilated with  \\\n",
       "ID                                                       \n",
       "67                                              Norway   \n",
       "75                                              Sweden   \n",
       "253                                            Finland   \n",
       "41                                        TU Delft: 19   \n",
       "42                                             Finland   \n",
       "134                                 The Netherlands: 5   \n",
       "135                                        Netherlands   \n",
       "45                                                 NaN   \n",
       "\n",
       "                    Career stage/ position of learners  \\\n",
       "ID                                                       \n",
       "67                   9 PhDs / 2 postdoc / 1 researcher   \n",
       "75                         1 PhD student and 1 postdoc   \n",
       "253                     Industry: 10, Undergraduate: 1   \n",
       "41                    PhD candidate: 17, Researcher: 2   \n",
       "42   6 Doctoral researcher     4 Masters student   ...   \n",
       "134         PhD student: 3    PostDoc: 1    emeriti: 1   \n",
       "135  Mostly Phds and a professor. Number of learner...   \n",
       "45                                                 NaN   \n",
       "\n",
       "                   Academic discipline  \\\n",
       "ID                                       \n",
       "67                               Mixed   \n",
       "75                 Biological Sciences   \n",
       "253  Computer and Information Sciences   \n",
       "41                               Mixed   \n",
       "42                                 NaN   \n",
       "134                              Mixed   \n",
       "135                              Mixed   \n",
       "45                                 NaN   \n",
       "\n",
       "    Academic disciplines (if multiple teams from different disciplines)  \n",
       "ID                                                                       \n",
       "67   Process Engineering: 7 / physics: 1 / Architec...                   \n",
       "75                                                 NaN                   \n",
       "253                                                NaN                   \n",
       "41   Civil Engineering: 5, Computer and Information...                   \n",
       "42   Chemical Sciences: 2, Computer and Information...                   \n",
       "134                                                NaN                   \n",
       "135                                                NaN                   \n",
       "45                                                 NaN                   "
      ]
     },
     "execution_count": 46,
     "metadata": {},
     "output_type": "execute_result"
    }
   ],
   "source": [
    "teamDF"
   ]
  },
  {
   "cell_type": "markdown",
   "id": "1725858a-d724-4228-9610-e418eae454e6",
   "metadata": {},
   "source": [
    "<font color=#330099>Count some values</font>"
   ]
  },
  {
   "cell_type": "code",
   "execution_count": 47,
   "id": "547a219b-f513-4b26-a54a-2cce38381571",
   "metadata": {},
   "outputs": [],
   "source": [
    "countActualTeams_team = teamDF[\"Actual number of teams\"].value_counts()\n",
    "countActualLearners_team = teamDF[\"Actual number of learners\"].value_counts()\n",
    "countActualELs_team = teamDF[\"Actual number of exercise leads\"].value_counts()"
   ]
  },
  {
   "cell_type": "code",
   "execution_count": 48,
   "id": "b5c0d13c-caf0-40ab-9b76-51cd805f0a29",
   "metadata": {},
   "outputs": [
    {
     "data": {
      "text/plain": [
       "1.0    5\n",
       "2.0    1\n",
       "4.0    1\n",
       "Name: Actual number of teams, dtype: int64"
      ]
     },
     "execution_count": 48,
     "metadata": {},
     "output_type": "execute_result"
    }
   ],
   "source": [
    "countActualTeams_team"
   ]
  },
  {
   "cell_type": "code",
   "execution_count": 49,
   "id": "8faae920-232e-454c-8d9b-b476b9c66fd6",
   "metadata": {},
   "outputs": [
    {
     "data": {
      "text/plain": [
       "5.0     2\n",
       "12.0    1\n",
       "2.0     1\n",
       "4.0     1\n",
       "19.0    1\n",
       "11.0    1\n",
       "Name: Actual number of learners, dtype: int64"
      ]
     },
     "execution_count": 49,
     "metadata": {},
     "output_type": "execute_result"
    }
   ],
   "source": [
    "countActualLearners_team"
   ]
  },
  {
   "cell_type": "code",
   "execution_count": 50,
   "id": "d2c5d6a2-5b1b-4fb8-b229-3c35e8c7cb0d",
   "metadata": {},
   "outputs": [
    {
     "data": {
      "text/plain": [
       "2.0    5\n",
       "1.0    1\n",
       "5.0    1\n",
       "Name: Actual number of exercise leads, dtype: int64"
      ]
     },
     "execution_count": 50,
     "metadata": {},
     "output_type": "execute_result"
    }
   ],
   "source": [
    "countActualELs_team"
   ]
  },
  {
   "cell_type": "code",
   "execution_count": 51,
   "id": "db8d2cd9-ad5d-4454-8bd3-2d8d9f95d68c",
   "metadata": {},
   "outputs": [
    {
     "data": {
      "text/plain": [
       "11.0"
      ]
     },
     "execution_count": 51,
     "metadata": {},
     "output_type": "execute_result"
    }
   ],
   "source": [
    "teamDF[\"Actual number of teams\"].sum()"
   ]
  },
  {
   "cell_type": "code",
   "execution_count": 52,
   "id": "b0f9561e-eb1e-4e56-b3e2-80a0a15be25f",
   "metadata": {},
   "outputs": [
    {
     "data": {
      "text/plain": [
       "58.0"
      ]
     },
     "execution_count": 52,
     "metadata": {},
     "output_type": "execute_result"
    }
   ],
   "source": [
    "teamDF[\"Actual number of learners\"].sum()"
   ]
  },
  {
   "cell_type": "markdown",
   "id": "f5724adb-ea06-468b-9120-2425d7cd5240",
   "metadata": {},
   "source": [
    "THE COUNTRY COUNTS SHOULD TAKE THESE INTO ACCOUNT"
   ]
  },
  {
   "cell_type": "code",
   "execution_count": null,
   "id": "2844bedb-f682-48cc-9797-215572dae311",
   "metadata": {},
   "outputs": [],
   "source": []
  }
 ],
 "metadata": {
  "kernelspec": {
   "display_name": "Python 3 (ipykernel)",
   "language": "python",
   "name": "python3"
  },
  "language_info": {
   "codemirror_mode": {
    "name": "ipython",
    "version": 3
   },
   "file_extension": ".py",
   "mimetype": "text/x-python",
   "name": "python",
   "nbconvert_exporter": "python",
   "pygments_lexer": "ipython3",
   "version": "3.10.6"
  }
 },
 "nbformat": 4,
 "nbformat_minor": 5
}
