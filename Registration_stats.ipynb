{
 "cells": [
  {
   "cell_type": "markdown",
   "id": "8f86a623-fd94-4283-96a6-c2ce79f70970",
   "metadata": {},
   "source": [
    "# Registration stats"
   ]
  },
  {
   "cell_type": "code",
   "execution_count": 1,
   "id": "0cdd27a2-ec26-4010-95bb-59850e661cbe",
   "metadata": {},
   "outputs": [],
   "source": [
    "import numpy as np\n",
    "import pandas as pd\n",
    "import seaborn as sns\n",
    "import matplotlib.pyplot as plt"
   ]
  },
  {
   "cell_type": "markdown",
   "id": "b2f53d1f-0d98-4bef-b71b-21cf1a5107d1",
   "metadata": {},
   "source": [
    "<mark>Jump right into analyses from here:</mark>\n",
    "\n",
    "[Counting values from individual registrations](#1)  \n",
    "[Counting values from team registrations](#2)"
   ]
  },
  {
   "cell_type": "markdown",
   "id": "7c93ffcb-10b4-41da-8c5f-941e1ffb7194",
   "metadata": {
    "tags": []
   },
   "source": [
    "## Individual registrations\n",
    "<a id =1> </a>"
   ]
  },
  {
   "cell_type": "markdown",
   "id": "c59ce0f2-881d-44e6-82be-bbdb380c0f38",
   "metadata": {},
   "source": [
    "<font color=#330099>Read in the csv from the repo</font>"
   ]
  },
  {
   "cell_type": "code",
   "execution_count": 2,
   "id": "7e88d145-a9dd-4699-a5cc-1936c395cf92",
   "metadata": {},
   "outputs": [],
   "source": [
    "individualDF = pd.read_csv(\"./data/CR_individual.csv\", index_col=\"ID\")"
   ]
  },
  {
   "cell_type": "markdown",
   "id": "8534faf4-c7dc-4da6-9817-1a0c019d5091",
   "metadata": {},
   "source": [
    "<font color=#330099>Some summary</font>"
   ]
  },
  {
   "cell_type": "code",
   "execution_count": 3,
   "id": "10eff249-8ec1-44ce-b651-5369f3b9f270",
   "metadata": {},
   "outputs": [
    {
     "name": "stdout",
     "output_type": "stream",
     "text": [
      "<class 'pandas.core.frame.DataFrame'>\n",
      "Int64Index: 204 entries, 16 to 252\n",
      "Data columns (total 10 columns):\n",
      " #   Column                                                   Non-Null Count  Dtype \n",
      "---  ------                                                   --------------  ----- \n",
      " 0   Country                                                  204 non-null    object\n",
      " 1   Affiliation or university                                204 non-null    object\n",
      " 2   Academic discipline                                      186 non-null    object\n",
      " 3   Career stage / position                                  186 non-null    object\n",
      " 4   How did you find out about this workshop?                183 non-null    object\n",
      " 5   Attendance/participation type                            204 non-null    object\n",
      " 6   Stream only or also exercise group? Video or in-person?  204 non-null    object\n",
      " 7   Which days you plan to attend?                           204 non-null    object\n",
      " 8   Registration date                                        204 non-null    object\n",
      " 9   Registration state                                       204 non-null    object\n",
      "dtypes: object(10)\n",
      "memory usage: 17.5+ KB\n"
     ]
    }
   ],
   "source": [
    "individualDF.info()"
   ]
  },
  {
   "cell_type": "markdown",
   "id": "30eb4c45-e37e-46bd-8a8b-675b61fa3119",
   "metadata": {},
   "source": [
    "<font color=#330099>A closer look</font>"
   ]
  },
  {
   "cell_type": "code",
   "execution_count": 4,
   "id": "4104b3c0-406a-4787-9d61-ced6ad439ac1",
   "metadata": {},
   "outputs": [
    {
     "data": {
      "text/html": [
       "<div>\n",
       "<style scoped>\n",
       "    .dataframe tbody tr th:only-of-type {\n",
       "        vertical-align: middle;\n",
       "    }\n",
       "\n",
       "    .dataframe tbody tr th {\n",
       "        vertical-align: top;\n",
       "    }\n",
       "\n",
       "    .dataframe thead th {\n",
       "        text-align: right;\n",
       "    }\n",
       "</style>\n",
       "<table border=\"1\" class=\"dataframe\">\n",
       "  <thead>\n",
       "    <tr style=\"text-align: right;\">\n",
       "      <th></th>\n",
       "      <th>Country</th>\n",
       "      <th>Affiliation or university</th>\n",
       "      <th>Academic discipline</th>\n",
       "      <th>Career stage / position</th>\n",
       "      <th>How did you find out about this workshop?</th>\n",
       "      <th>Attendance/participation type</th>\n",
       "      <th>Stream only or also exercise group? Video or in-person?</th>\n",
       "      <th>Which days you plan to attend?</th>\n",
       "      <th>Registration date</th>\n",
       "      <th>Registration state</th>\n",
       "    </tr>\n",
       "    <tr>\n",
       "      <th>ID</th>\n",
       "      <th></th>\n",
       "      <th></th>\n",
       "      <th></th>\n",
       "      <th></th>\n",
       "      <th></th>\n",
       "      <th></th>\n",
       "      <th></th>\n",
       "      <th></th>\n",
       "      <th></th>\n",
       "      <th></th>\n",
       "    </tr>\n",
       "  </thead>\n",
       "  <tbody>\n",
       "    <tr>\n",
       "      <th>16</th>\n",
       "      <td>Norway</td>\n",
       "      <td>UiT The Arctic University of Norway</td>\n",
       "      <td>Chemical Sciences</td>\n",
       "      <td>Research software engineer</td>\n",
       "      <td>Another event</td>\n",
       "      <td>Organizer</td>\n",
       "      <td>I am an organizer or instructor or observer</td>\n",
       "      <td>Tue, Sep 20 (Day 1); Wed, Sep 21 (Day 2); Thu,...</td>\n",
       "      <td>2022-07-04 07:35:21.871298+00:00</td>\n",
       "      <td>Completed</td>\n",
       "    </tr>\n",
       "    <tr>\n",
       "      <th>17</th>\n",
       "      <td>Sweden</td>\n",
       "      <td>Chalmers University of Technology</td>\n",
       "      <td>Mechanical Engineering</td>\n",
       "      <td>Researcher</td>\n",
       "      <td>CodeRefinery.org; Educational institute</td>\n",
       "      <td>Learner</td>\n",
       "      <td>Watching stream and participate in online exer...</td>\n",
       "      <td>Tue, Sep 20 (Day 1); Wed, Sep 21 (Day 2); Thu,...</td>\n",
       "      <td>2022-07-04 08:57:15.110384+00:00</td>\n",
       "      <td>Completed</td>\n",
       "    </tr>\n",
       "    <tr>\n",
       "      <th>18</th>\n",
       "      <td>Switzerland</td>\n",
       "      <td>TU Delft</td>\n",
       "      <td>Mechanical Engineering</td>\n",
       "      <td>Graduate student</td>\n",
       "      <td>CodeRefinery.org</td>\n",
       "      <td>Learner</td>\n",
       "      <td>Only watching the stream</td>\n",
       "      <td>Tue, Sep 20 (Day 1); Wed, Sep 21 (Day 2); Thu,...</td>\n",
       "      <td>2022-07-04 08:59:07.184928+00:00</td>\n",
       "      <td>Completed</td>\n",
       "    </tr>\n",
       "    <tr>\n",
       "      <th>20</th>\n",
       "      <td>Sweden</td>\n",
       "      <td>Karolinska Institutet</td>\n",
       "      <td>Health Sciences</td>\n",
       "      <td>Graduate student</td>\n",
       "      <td>CodeRefinery.org</td>\n",
       "      <td>Learner</td>\n",
       "      <td>Only watching the stream</td>\n",
       "      <td>Tue, Sep 20 (Day 1); Wed, Sep 21 (Day 2); Thu,...</td>\n",
       "      <td>2022-07-04 09:16:34.945365+00:00</td>\n",
       "      <td>Completed</td>\n",
       "    </tr>\n",
       "    <tr>\n",
       "      <th>21</th>\n",
       "      <td>Spain</td>\n",
       "      <td>Universidad de Valencia</td>\n",
       "      <td>Chemical Sciences</td>\n",
       "      <td>Graduate student</td>\n",
       "      <td>Friend / Colleague</td>\n",
       "      <td>Learner</td>\n",
       "      <td>Only watching the stream</td>\n",
       "      <td>Tue, Sep 20 (Day 1); Wed, Sep 21 (Day 2); Thu,...</td>\n",
       "      <td>2022-07-04 09:20:26.739430+00:00</td>\n",
       "      <td>Completed</td>\n",
       "    </tr>\n",
       "  </tbody>\n",
       "</table>\n",
       "</div>"
      ],
      "text/plain": [
       "        Country            Affiliation or university     Academic discipline  \\\n",
       "ID                                                                             \n",
       "16       Norway  UiT The Arctic University of Norway       Chemical Sciences   \n",
       "17       Sweden    Chalmers University of Technology  Mechanical Engineering   \n",
       "18  Switzerland                             TU Delft  Mechanical Engineering   \n",
       "20       Sweden                Karolinska Institutet         Health Sciences   \n",
       "21        Spain              Universidad de Valencia       Chemical Sciences   \n",
       "\n",
       "       Career stage / position How did you find out about this workshop?  \\\n",
       "ID                                                                         \n",
       "16  Research software engineer                             Another event   \n",
       "17                  Researcher   CodeRefinery.org; Educational institute   \n",
       "18            Graduate student                          CodeRefinery.org   \n",
       "20            Graduate student                          CodeRefinery.org   \n",
       "21            Graduate student                        Friend / Colleague   \n",
       "\n",
       "   Attendance/participation type  \\\n",
       "ID                                 \n",
       "16                     Organizer   \n",
       "17                       Learner   \n",
       "18                       Learner   \n",
       "20                       Learner   \n",
       "21                       Learner   \n",
       "\n",
       "   Stream only or also exercise group? Video or in-person?  \\\n",
       "ID                                                           \n",
       "16        I am an organizer or instructor or observer        \n",
       "17  Watching stream and participate in online exer...        \n",
       "18                           Only watching the stream        \n",
       "20                           Only watching the stream        \n",
       "21                           Only watching the stream        \n",
       "\n",
       "                       Which days you plan to attend?  \\\n",
       "ID                                                      \n",
       "16  Tue, Sep 20 (Day 1); Wed, Sep 21 (Day 2); Thu,...   \n",
       "17  Tue, Sep 20 (Day 1); Wed, Sep 21 (Day 2); Thu,...   \n",
       "18  Tue, Sep 20 (Day 1); Wed, Sep 21 (Day 2); Thu,...   \n",
       "20  Tue, Sep 20 (Day 1); Wed, Sep 21 (Day 2); Thu,...   \n",
       "21  Tue, Sep 20 (Day 1); Wed, Sep 21 (Day 2); Thu,...   \n",
       "\n",
       "                   Registration date Registration state  \n",
       "ID                                                       \n",
       "16  2022-07-04 07:35:21.871298+00:00          Completed  \n",
       "17  2022-07-04 08:57:15.110384+00:00          Completed  \n",
       "18  2022-07-04 08:59:07.184928+00:00          Completed  \n",
       "20  2022-07-04 09:16:34.945365+00:00          Completed  \n",
       "21  2022-07-04 09:20:26.739430+00:00          Completed  "
      ]
     },
     "execution_count": 4,
     "metadata": {},
     "output_type": "execute_result"
    }
   ],
   "source": [
    "individualDF.head(5)"
   ]
  },
  {
   "cell_type": "markdown",
   "id": "dbaadc59-52e8-4da6-abc5-ac3ee0eefb48",
   "metadata": {},
   "source": [
    "<font color=#330099>Count some values</font>"
   ]
  },
  {
   "cell_type": "code",
   "execution_count": 5,
   "id": "5ea6800c-c5e1-46c4-be3f-125261997cd5",
   "metadata": {},
   "outputs": [
    {
     "data": {
      "text/html": [
       "<div>\n",
       "<style scoped>\n",
       "    .dataframe tbody tr th:only-of-type {\n",
       "        vertical-align: middle;\n",
       "    }\n",
       "\n",
       "    .dataframe tbody tr th {\n",
       "        vertical-align: top;\n",
       "    }\n",
       "\n",
       "    .dataframe thead th {\n",
       "        text-align: right;\n",
       "    }\n",
       "</style>\n",
       "<table border=\"1\" class=\"dataframe\">\n",
       "  <thead>\n",
       "    <tr style=\"text-align: right;\">\n",
       "      <th></th>\n",
       "      <th>Country</th>\n",
       "      <th>Affiliation or university</th>\n",
       "      <th>Academic discipline</th>\n",
       "      <th>Career stage / position</th>\n",
       "      <th>How did you find out about this workshop?</th>\n",
       "      <th>Attendance/participation type</th>\n",
       "      <th>Stream only or also exercise group? Video or in-person?</th>\n",
       "      <th>Which days you plan to attend?</th>\n",
       "      <th>Registration date</th>\n",
       "      <th>Registration state</th>\n",
       "    </tr>\n",
       "  </thead>\n",
       "  <tbody>\n",
       "    <tr>\n",
       "      <th>count</th>\n",
       "      <td>204</td>\n",
       "      <td>204</td>\n",
       "      <td>186</td>\n",
       "      <td>186</td>\n",
       "      <td>183</td>\n",
       "      <td>204</td>\n",
       "      <td>204</td>\n",
       "      <td>204</td>\n",
       "      <td>204</td>\n",
       "      <td>204</td>\n",
       "    </tr>\n",
       "    <tr>\n",
       "      <th>unique</th>\n",
       "      <td>24</td>\n",
       "      <td>107</td>\n",
       "      <td>24</td>\n",
       "      <td>8</td>\n",
       "      <td>19</td>\n",
       "      <td>6</td>\n",
       "      <td>5</td>\n",
       "      <td>34</td>\n",
       "      <td>204</td>\n",
       "      <td>2</td>\n",
       "    </tr>\n",
       "    <tr>\n",
       "      <th>top</th>\n",
       "      <td>Finland</td>\n",
       "      <td>Aalto University</td>\n",
       "      <td>Computer and Information Sciences</td>\n",
       "      <td>Graduate student</td>\n",
       "      <td>Friend / Colleague</td>\n",
       "      <td>Learner</td>\n",
       "      <td>Only watching the stream</td>\n",
       "      <td>Tue, Sep 20 (Day 1); Wed, Sep 21 (Day 2); Thu,...</td>\n",
       "      <td>2022-07-04 07:35:21.871298+00:00</td>\n",
       "      <td>Completed</td>\n",
       "    </tr>\n",
       "    <tr>\n",
       "      <th>freq</th>\n",
       "      <td>61</td>\n",
       "      <td>32</td>\n",
       "      <td>31</td>\n",
       "      <td>72</td>\n",
       "      <td>67</td>\n",
       "      <td>185</td>\n",
       "      <td>90</td>\n",
       "      <td>117</td>\n",
       "      <td>1</td>\n",
       "      <td>203</td>\n",
       "    </tr>\n",
       "  </tbody>\n",
       "</table>\n",
       "</div>"
      ],
      "text/plain": [
       "        Country Affiliation or university                Academic discipline  \\\n",
       "count       204                       204                                186   \n",
       "unique       24                       107                                 24   \n",
       "top     Finland          Aalto University  Computer and Information Sciences   \n",
       "freq         61                        32                                 31   \n",
       "\n",
       "       Career stage / position How did you find out about this workshop?  \\\n",
       "count                      186                                       183   \n",
       "unique                       8                                        19   \n",
       "top           Graduate student                        Friend / Colleague   \n",
       "freq                        72                                        67   \n",
       "\n",
       "       Attendance/participation type  \\\n",
       "count                            204   \n",
       "unique                             6   \n",
       "top                          Learner   \n",
       "freq                             185   \n",
       "\n",
       "       Stream only or also exercise group? Video or in-person?  \\\n",
       "count                                                 204        \n",
       "unique                                                  5        \n",
       "top                              Only watching the stream        \n",
       "freq                                                   90        \n",
       "\n",
       "                           Which days you plan to attend?  \\\n",
       "count                                                 204   \n",
       "unique                                                 34   \n",
       "top     Tue, Sep 20 (Day 1); Wed, Sep 21 (Day 2); Thu,...   \n",
       "freq                                                  117   \n",
       "\n",
       "                       Registration date Registration state  \n",
       "count                                204                204  \n",
       "unique                               204                  2  \n",
       "top     2022-07-04 07:35:21.871298+00:00          Completed  \n",
       "freq                                   1                203  "
      ]
     },
     "execution_count": 5,
     "metadata": {},
     "output_type": "execute_result"
    }
   ],
   "source": [
    "individualDF.describe()"
   ]
  },
  {
   "cell_type": "code",
   "execution_count": 6,
   "id": "c78609d4-a6fe-47e9-ba5e-695570faefe3",
   "metadata": {},
   "outputs": [],
   "source": [
    "countCountries = individualDF[\"Country\"].value_counts()\n",
    "countOrganisations = individualDF[\"Affiliation or university\"].value_counts()\n",
    "countAcademic = individualDF[\"Academic discipline\"].value_counts()\n",
    "countCareer = individualDF[\"Career stage / position\"].value_counts()\n",
    "countFindOut = individualDF[\"How did you find out about this workshop?\"].value_counts()\n",
    "countAttendaceType1 = individualDF[\"Attendance/participation type\"].value_counts()\n",
    "countAttendaceType2 = individualDF[\"Stream only or also exercise group? Video or in-person?\"].value_counts()\n",
    "countAttendaceDays = individualDF[\"Which days you plan to attend?\"].value_counts()"
   ]
  },
  {
   "cell_type": "markdown",
   "id": "650463ef-0c52-4551-a7d5-6a29ecb35cc0",
   "metadata": {},
   "source": [
    "### Country\n",
    "\n",
    "<font color=#330099>This can be plotted right away</font>"
   ]
  },
  {
   "cell_type": "code",
   "execution_count": 7,
   "id": "701774d3-fb0d-4a15-aed3-a8472d9e304d",
   "metadata": {
    "tags": []
   },
   "outputs": [
    {
     "data": {
      "text/plain": [
       "Finland              61\n",
       "Sweden               50\n",
       "Norway               38\n",
       "Spain                12\n",
       "Denmark               7\n",
       "Netherlands           5\n",
       "India                 4\n",
       "Ireland               3\n",
       "Switzerland           3\n",
       "United Kingdom        3\n",
       "Italy                 3\n",
       "France                2\n",
       "United States         2\n",
       "Trinidad & Tobago     1\n",
       "Singapore             1\n",
       "China                 1\n",
       "Thailand              1\n",
       "Greece                1\n",
       "Iran                  1\n",
       "Turkey                1\n",
       "Brazil                1\n",
       "Indonesia             1\n",
       "Germany               1\n",
       "Canada                1\n",
       "Name: Country, dtype: int64"
      ]
     },
     "execution_count": 7,
     "metadata": {},
     "output_type": "execute_result"
    }
   ],
   "source": [
    "countCountries"
   ]
  },
  {
   "cell_type": "code",
   "execution_count": 8,
   "id": "25c79592-b008-4bc9-a705-c5c52d629482",
   "metadata": {},
   "outputs": [],
   "source": [
    "countCountries_DF = countCountries.reset_index()"
   ]
  },
  {
   "cell_type": "code",
   "execution_count": 9,
   "id": "f24e6c58-c3f4-4b71-8078-ff01b8db6bcc",
   "metadata": {},
   "outputs": [
    {
     "data": {
      "image/png": "[encoded data removed]",
      "text/plain": [
       "<Figure size 640x480 with 1 Axes>"
      ]
     },
     "metadata": {},
     "output_type": "display_data"
    }
   ],
   "source": [
    "ax = sns.barplot(x=countCountries_DF.index, y=countCountries_DF.Country, data=countCountries_DF)\n",
    "ax.set(title=\"Countries\")\n",
    "ax.set_xticklabels(countCountries.index)\n",
    "ax.tick_params(labelrotation = 270)\n",
    "plt.savefig(\"./plots/Registration_Countries.png\")"
   ]
  },
  {
   "cell_type": "code",
   "execution_count": 10,
   "id": "2fab62d9-65e4-4be1-a93c-249155110d88",
   "metadata": {},
   "outputs": [
    {
     "data": {
      "text/plain": [
       "204"
      ]
     },
     "execution_count": 10,
     "metadata": {},
     "output_type": "execute_result"
    }
   ],
   "source": [
    "countCountries.sum()"
   ]
  },
  {
   "cell_type": "markdown",
   "id": "e2579c5d-7c30-4ffe-8a8d-4636c88af0fc",
   "metadata": {},
   "source": [
    "### Affiliation or university\n",
    "\n",
    "<font color=#ff0000>This has some names with slight variations so needs handling</font>"
   ]
  },
  {
   "cell_type": "markdown",
   "id": "a1ab96cc-fc79-45b4-bdc0-14bec6e3c85d",
   "metadata": {},
   "source": [
    "Maybe not so interesting right now."
   ]
  },
  {
   "cell_type": "code",
   "execution_count": 11,
   "id": "6803f6e3-94e0-4ee2-a5f8-be7b791839d1",
   "metadata": {
    "tags": []
   },
   "outputs": [
    {
     "data": {
      "text/plain": [
       "Aalto University                                         32\n",
       "NTNU                                                     10\n",
       "Uppsala University                                        9\n",
       "SMHI                                                      9\n",
       "University of Oslo                                        6\n",
       "                                                         ..\n",
       "Norwegian University of Science and Technology (NTNU)     1\n",
       "Justervesenet-Norwegian Metrology Service                 1\n",
       "University of South Eastern Norway                        1\n",
       "Technical University of Chalmers                          1\n",
       "UiO                                                       1\n",
       "Name: Affiliation or university, Length: 107, dtype: int64"
      ]
     },
     "execution_count": 11,
     "metadata": {},
     "output_type": "execute_result"
    }
   ],
   "source": [
    "countOrganisations"
   ]
  },
  {
   "cell_type": "markdown",
   "id": "8d41a981-9c1e-4562-bed2-3393a6b10dd1",
   "metadata": {},
   "source": [
    "### Academic discipline\n",
    "\n",
    "<font color=#330099>This can be plotted right away</font>"
   ]
  },
  {
   "cell_type": "code",
   "execution_count": 12,
   "id": "e1fde92a-a913-4563-8adc-8810446ddf40",
   "metadata": {
    "tags": []
   },
   "outputs": [],
   "source": [
    "countAcademic_DF = countAcademic.reset_index()"
   ]
  },
  {
   "cell_type": "code",
   "execution_count": 13,
   "id": "d99da6dc-22db-44b7-90b8-0cfac342d14a",
   "metadata": {
    "tags": []
   },
   "outputs": [
    {
     "data": {
      "text/html": [
       "<div>\n",
       "<style scoped>\n",
       "    .dataframe tbody tr th:only-of-type {\n",
       "        vertical-align: middle;\n",
       "    }\n",
       "\n",
       "    .dataframe tbody tr th {\n",
       "        vertical-align: top;\n",
       "    }\n",
       "\n",
       "    .dataframe thead th {\n",
       "        text-align: right;\n",
       "    }\n",
       "</style>\n",
       "<table border=\"1\" class=\"dataframe\">\n",
       "  <thead>\n",
       "    <tr style=\"text-align: right;\">\n",
       "      <th></th>\n",
       "      <th>index</th>\n",
       "      <th>Academic discipline</th>\n",
       "    </tr>\n",
       "  </thead>\n",
       "  <tbody>\n",
       "    <tr>\n",
       "      <th>0</th>\n",
       "      <td>Computer and Information Sciences</td>\n",
       "      <td>31</td>\n",
       "    </tr>\n",
       "    <tr>\n",
       "      <th>1</th>\n",
       "      <td>Physical Sciences</td>\n",
       "      <td>28</td>\n",
       "    </tr>\n",
       "    <tr>\n",
       "      <th>2</th>\n",
       "      <td>Biological Sciences</td>\n",
       "      <td>22</td>\n",
       "    </tr>\n",
       "    <tr>\n",
       "      <th>3</th>\n",
       "      <td>Chemical Sciences</td>\n",
       "      <td>18</td>\n",
       "    </tr>\n",
       "    <tr>\n",
       "      <th>4</th>\n",
       "      <td>Earth and Related Environmental Sciences</td>\n",
       "      <td>15</td>\n",
       "    </tr>\n",
       "    <tr>\n",
       "      <th>5</th>\n",
       "      <td>Electrical Engineering, Electronic Engineering...</td>\n",
       "      <td>14</td>\n",
       "    </tr>\n",
       "    <tr>\n",
       "      <th>6</th>\n",
       "      <td>Mechanical Engineering</td>\n",
       "      <td>13</td>\n",
       "    </tr>\n",
       "    <tr>\n",
       "      <th>7</th>\n",
       "      <td>Civil Engineering</td>\n",
       "      <td>8</td>\n",
       "    </tr>\n",
       "    <tr>\n",
       "      <th>8</th>\n",
       "      <td>Health Sciences</td>\n",
       "      <td>6</td>\n",
       "    </tr>\n",
       "    <tr>\n",
       "      <th>9</th>\n",
       "      <td>Psychology</td>\n",
       "      <td>4</td>\n",
       "    </tr>\n",
       "    <tr>\n",
       "      <th>10</th>\n",
       "      <td>Other Engineering and Technologies</td>\n",
       "      <td>4</td>\n",
       "    </tr>\n",
       "    <tr>\n",
       "      <th>11</th>\n",
       "      <td>Mathematics</td>\n",
       "      <td>4</td>\n",
       "    </tr>\n",
       "    <tr>\n",
       "      <th>12</th>\n",
       "      <td>Medical Engineering</td>\n",
       "      <td>2</td>\n",
       "    </tr>\n",
       "    <tr>\n",
       "      <th>13</th>\n",
       "      <td>Environmental Engineering</td>\n",
       "      <td>2</td>\n",
       "    </tr>\n",
       "    <tr>\n",
       "      <th>14</th>\n",
       "      <td>Basic Medicine</td>\n",
       "      <td>2</td>\n",
       "    </tr>\n",
       "    <tr>\n",
       "      <th>15</th>\n",
       "      <td>Clinical Medicine</td>\n",
       "      <td>2</td>\n",
       "    </tr>\n",
       "    <tr>\n",
       "      <th>16</th>\n",
       "      <td>Other Natural Sciences</td>\n",
       "      <td>2</td>\n",
       "    </tr>\n",
       "    <tr>\n",
       "      <th>17</th>\n",
       "      <td>Other Medical and Health Sciences</td>\n",
       "      <td>2</td>\n",
       "    </tr>\n",
       "    <tr>\n",
       "      <th>18</th>\n",
       "      <td>Economics and Business</td>\n",
       "      <td>2</td>\n",
       "    </tr>\n",
       "    <tr>\n",
       "      <th>19</th>\n",
       "      <td>Materials Engineering</td>\n",
       "      <td>1</td>\n",
       "    </tr>\n",
       "    <tr>\n",
       "      <th>20</th>\n",
       "      <td>Other Social Sciences</td>\n",
       "      <td>1</td>\n",
       "    </tr>\n",
       "    <tr>\n",
       "      <th>21</th>\n",
       "      <td>Political Science</td>\n",
       "      <td>1</td>\n",
       "    </tr>\n",
       "    <tr>\n",
       "      <th>22</th>\n",
       "      <td>Other</td>\n",
       "      <td>1</td>\n",
       "    </tr>\n",
       "    <tr>\n",
       "      <th>23</th>\n",
       "      <td>Environmental Biotechnology</td>\n",
       "      <td>1</td>\n",
       "    </tr>\n",
       "  </tbody>\n",
       "</table>\n",
       "</div>"
      ],
      "text/plain": [
       "                                                index  Academic discipline\n",
       "0                   Computer and Information Sciences                   31\n",
       "1                                   Physical Sciences                   28\n",
       "2                                 Biological Sciences                   22\n",
       "3                                   Chemical Sciences                   18\n",
       "4            Earth and Related Environmental Sciences                   15\n",
       "5   Electrical Engineering, Electronic Engineering...                   14\n",
       "6                              Mechanical Engineering                   13\n",
       "7                                   Civil Engineering                    8\n",
       "8                                     Health Sciences                    6\n",
       "9                                          Psychology                    4\n",
       "10                 Other Engineering and Technologies                    4\n",
       "11                                        Mathematics                    4\n",
       "12                                Medical Engineering                    2\n",
       "13                          Environmental Engineering                    2\n",
       "14                                     Basic Medicine                    2\n",
       "15                                  Clinical Medicine                    2\n",
       "16                             Other Natural Sciences                    2\n",
       "17                  Other Medical and Health Sciences                    2\n",
       "18                             Economics and Business                    2\n",
       "19                              Materials Engineering                    1\n",
       "20                              Other Social Sciences                    1\n",
       "21                                  Political Science                    1\n",
       "22                                              Other                    1\n",
       "23                        Environmental Biotechnology                    1"
      ]
     },
     "execution_count": 13,
     "metadata": {},
     "output_type": "execute_result"
    }
   ],
   "source": [
    "countAcademic_DF"
   ]
  },
  {
   "cell_type": "code",
   "execution_count": 14,
   "id": "3b5d99ce-c4bb-4b3c-a610-f8170c5bbcb1",
   "metadata": {},
   "outputs": [
    {
     "data": {
      "image/png": "[encoded data removed]",
      "text/plain": [
       "<Figure size 640x480 with 1 Axes>"
      ]
     },
     "metadata": {},
     "output_type": "display_data"
    }
   ],
   "source": [
    "ax = sns.barplot(x=countAcademic_DF.index, y=countAcademic_DF[\"Academic discipline\"], data=countAcademic_DF)\n",
    "ax.set(title=\"Academic Backgrounds\")\n",
    "ax.set_xticklabels(countAcademic.index)\n",
    "ax.tick_params(labelrotation = 270)\n",
    "plt.savefig(\"./plots/Registration_Backgrounds.png\")"
   ]
  },
  {
   "cell_type": "markdown",
   "id": "02174669-31c9-487b-a026-9c6435940a6e",
   "metadata": {},
   "source": [
    "### Career stage / position\n",
    "\n",
    "<font color=#330099>This can be plotted right away</font>"
   ]
  },
  {
   "cell_type": "code",
   "execution_count": 15,
   "id": "a2800514-f328-4636-8f8a-b7deba2f63ba",
   "metadata": {
    "tags": []
   },
   "outputs": [],
   "source": [
    "countCareer_DF = countCareer.reset_index()"
   ]
  },
  {
   "cell_type": "code",
   "execution_count": 16,
   "id": "e0a73511-1fea-4075-a332-f4019974b36d",
   "metadata": {
    "tags": []
   },
   "outputs": [
    {
     "data": {
      "text/html": [
       "<div>\n",
       "<style scoped>\n",
       "    .dataframe tbody tr th:only-of-type {\n",
       "        vertical-align: middle;\n",
       "    }\n",
       "\n",
       "    .dataframe tbody tr th {\n",
       "        vertical-align: top;\n",
       "    }\n",
       "\n",
       "    .dataframe thead th {\n",
       "        text-align: right;\n",
       "    }\n",
       "</style>\n",
       "<table border=\"1\" class=\"dataframe\">\n",
       "  <thead>\n",
       "    <tr style=\"text-align: right;\">\n",
       "      <th></th>\n",
       "      <th>index</th>\n",
       "      <th>Career stage / position</th>\n",
       "    </tr>\n",
       "  </thead>\n",
       "  <tbody>\n",
       "    <tr>\n",
       "      <th>0</th>\n",
       "      <td>Graduate student</td>\n",
       "      <td>72</td>\n",
       "    </tr>\n",
       "    <tr>\n",
       "      <th>1</th>\n",
       "      <td>Researcher</td>\n",
       "      <td>37</td>\n",
       "    </tr>\n",
       "    <tr>\n",
       "      <th>2</th>\n",
       "      <td>Postdoc</td>\n",
       "      <td>26</td>\n",
       "    </tr>\n",
       "    <tr>\n",
       "      <th>3</th>\n",
       "      <td>Research software engineer</td>\n",
       "      <td>17</td>\n",
       "    </tr>\n",
       "    <tr>\n",
       "      <th>4</th>\n",
       "      <td>Other</td>\n",
       "      <td>12</td>\n",
       "    </tr>\n",
       "    <tr>\n",
       "      <th>5</th>\n",
       "      <td>Professor</td>\n",
       "      <td>9</td>\n",
       "    </tr>\n",
       "    <tr>\n",
       "      <th>6</th>\n",
       "      <td>Industry</td>\n",
       "      <td>8</td>\n",
       "    </tr>\n",
       "    <tr>\n",
       "      <th>7</th>\n",
       "      <td>Undergrad. student</td>\n",
       "      <td>5</td>\n",
       "    </tr>\n",
       "  </tbody>\n",
       "</table>\n",
       "</div>"
      ],
      "text/plain": [
       "                        index  Career stage / position\n",
       "0            Graduate student                       72\n",
       "1                  Researcher                       37\n",
       "2                     Postdoc                       26\n",
       "3  Research software engineer                       17\n",
       "4                       Other                       12\n",
       "5                   Professor                        9\n",
       "6                    Industry                        8\n",
       "7          Undergrad. student                        5"
      ]
     },
     "execution_count": 16,
     "metadata": {},
     "output_type": "execute_result"
    }
   ],
   "source": [
    "countCareer_DF"
   ]
  },
  {
   "cell_type": "code",
   "execution_count": 17,
   "id": "3b64076e-3aef-4aed-8a4f-b8a5f2166518",
   "metadata": {},
   "outputs": [
    {
     "data": {
      "image/png": "[encoded data removed]",
      "text/plain": [
       "<Figure size 640x480 with 1 Axes>"
      ]
     },
     "metadata": {},
     "output_type": "display_data"
    }
   ],
   "source": [
    "ax = sns.barplot(x=countCareer_DF.index, y=countCareer_DF[\"Career stage / position\"], data=countCareer_DF)\n",
    "ax.set(title=\"Career stage / position\")\n",
    "ax.set_xticklabels(countCareer.index)\n",
    "ax.tick_params(labelrotation = 270)\n",
    "plt.savefig(\"./plots/Registration_Career.png\")"
   ]
  },
  {
   "cell_type": "markdown",
   "id": "2113aa27-44d2-4869-98a2-ee55589e8f6b",
   "metadata": {},
   "source": [
    "### How did you find out about this workshop?\n",
    "\n",
    "<font color=#ff0000>This needs some text analysis</font>"
   ]
  },
  {
   "cell_type": "markdown",
   "id": "205bdfa1-5316-4842-9a69-cb64670056a1",
   "metadata": {},
   "source": [
    "TAke options as list. Separate by \";\". Get counts."
   ]
  },
  {
   "cell_type": "markdown",
   "id": "1d77b0b6-af0e-47ea-883d-01a5c6b4a070",
   "metadata": {},
   "source": [
    "Also crossref to countries. A heatmap? Stacked barplot? So which channels are used in which countries"
   ]
  },
  {
   "cell_type": "code",
   "execution_count": null,
   "id": "53a35e9f-03e0-4961-b93d-0c3273f7e552",
   "metadata": {},
   "outputs": [],
   "source": []
  },
  {
   "cell_type": "code",
   "execution_count": 18,
   "id": "c6a6dfbd-25eb-4394-a789-b3a326a5ab2d",
   "metadata": {
    "tags": []
   },
   "outputs": [
    {
     "data": {
      "text/plain": [
       "Friend / Colleague                                                                   67\n",
       "Educational institute                                                                34\n",
       "CodeRefinery.org                                                                     19\n",
       "National HPC center                                                                  18\n",
       "Another event                                                                        15\n",
       "Twitter                                                                              15\n",
       "CodeRefinery.org; Educational institute                                               2\n",
       "Educational institute; Friend / Colleague                                             2\n",
       "CodeRefinery.org; National HPC center; Friend / Colleague                             1\n",
       "Twitter; Another event                                                                1\n",
       "Friend / Colleague; Another event                                                     1\n",
       "Educational institute; National HPC center                                            1\n",
       "Educational institute; Another event                                                  1\n",
       "Twitter; CodeRefinery.org; National HPC center; Friend / Colleague; Another event     1\n",
       "Twitter; Educational institute; National HPC center                                   1\n",
       "CodeRefinery.org; National HPC center                                                 1\n",
       "Twitter; CodeRefinery.org; Friend / Colleague                                         1\n",
       "CodeRefinery.org; Educational institute; Friend / Colleague                           1\n",
       "National HPC center; Friend / Colleague                                               1\n",
       "Name: How did you find out about this workshop?, dtype: int64"
      ]
     },
     "execution_count": 18,
     "metadata": {},
     "output_type": "execute_result"
    }
   ],
   "source": [
    "countFindOut"
   ]
  },
  {
   "cell_type": "markdown",
   "id": "654c2536-12d4-4dc4-8522-9c44a656fe2d",
   "metadata": {},
   "source": [
    "### Attendance/participation type\n",
    "\n",
    "<font color=#330099>This can be plotted right away</font>"
   ]
  },
  {
   "cell_type": "code",
   "execution_count": 19,
   "id": "15ceb4c5-20d5-47e5-bca7-f5a67bf3054a",
   "metadata": {
    "tags": []
   },
   "outputs": [
    {
     "data": {
      "text/plain": [
       "Learner            185\n",
       "Instructor           6\n",
       "Observer             5\n",
       "Organizer            3\n",
       "Expert helper        3\n",
       "Exercise leader      2\n",
       "Name: Attendance/participation type, dtype: int64"
      ]
     },
     "execution_count": 19,
     "metadata": {},
     "output_type": "execute_result"
    }
   ],
   "source": [
    "countAttendaceType1"
   ]
  },
  {
   "cell_type": "markdown",
   "id": "ce352506-bbcf-4c95-b4e4-65389ce644e0",
   "metadata": {},
   "source": [
    "### Stream only or also exercise group? Video or in-person?\n",
    "\n",
    "<font color=#330099>This can be plotted right away</font>"
   ]
  },
  {
   "cell_type": "code",
   "execution_count": 20,
   "id": "b0c3ac49-a645-41f3-8b41-ba4a19c61bbb",
   "metadata": {
    "tags": []
   },
   "outputs": [
    {
     "data": {
      "text/plain": [
       "Only watching the stream                                                         90\n",
       "Watching stream and participate in online exercise group (Code Refinery Zoom)    62\n",
       "I would like to get more information and decide later                            29\n",
       "I would like to watch and exercise with others in-person                         14\n",
       "I am an organizer or instructor or observer                                       9\n",
       "Name: Stream only or also exercise group? Video or in-person?, dtype: int64"
      ]
     },
     "execution_count": 20,
     "metadata": {},
     "output_type": "execute_result"
    }
   ],
   "source": [
    "countAttendaceType2"
   ]
  },
  {
   "cell_type": "markdown",
   "id": "6823bf6a-0211-4905-9ce8-2956000d3e24",
   "metadata": {},
   "source": [
    "### Which days you plan to attend?\n",
    "\n",
    "<font color=#ff0000>This is tricky and potentially not worth it.</font>\n",
    "> It would be nice to know if the days have some differences. Probably we get that from the Twitch stats also"
   ]
  },
  {
   "cell_type": "code",
   "execution_count": 21,
   "id": "f66727b1-c58b-4e22-aa4f-2b9a72a839fd",
   "metadata": {
    "tags": []
   },
   "outputs": [
    {
     "data": {
      "text/plain": [
       "Tue, Sep 20 (Day 1); Wed, Sep 21 (Day 2); Thu, Sep 22 (Day 3); Tue, Sep 27 (Day 4); Wed, Sep 28 (Day 5); Thu, Sep 29 (Day 6)                                                        117\n",
       "Not sure I can attend, but please keep me informed                                                                                                                                   19\n",
       "Tue, Sep 20 (Day 1); Wed, Sep 21 (Day 2); Thu, Sep 22 (Day 3); Tue, Sep 27 (Day 4); Wed, Sep 28 (Day 5); Thu, Sep 29 (Day 6); Not sure I can attend, but please keep me informed     11\n",
       "Tue, Sep 27 (Day 4); Wed, Sep 28 (Day 5); Thu, Sep 29 (Day 6)                                                                                                                         8\n",
       "Tue, Sep 20 (Day 1); Wed, Sep 21 (Day 2); Thu, Sep 22 (Day 3)                                                                                                                         6\n",
       "Wed, Sep 21 (Day 2); Thu, Sep 22 (Day 3); Tue, Sep 27 (Day 4); Wed, Sep 28 (Day 5); Thu, Sep 29 (Day 6)                                                                               4\n",
       "Tue, Sep 20 (Day 1); Wed, Sep 21 (Day 2); Thu, Sep 22 (Day 3); Tue, Sep 27 (Day 4); Wed, Sep 28 (Day 5)                                                                               4\n",
       "Tue, Sep 20 (Day 1); Wed, Sep 21 (Day 2); Thu, Sep 22 (Day 3); Tue, Sep 27 (Day 4); Thu, Sep 29 (Day 6)                                                                               3\n",
       "Tue, Sep 20 (Day 1); Wed, Sep 21 (Day 2); Tue, Sep 27 (Day 4); Wed, Sep 28 (Day 5); Thu, Sep 29 (Day 6)                                                                               2\n",
       "Tue, Sep 20 (Day 1); Thu, Sep 22 (Day 3); Tue, Sep 27 (Day 4); Thu, Sep 29 (Day 6)                                                                                                    2\n",
       "Thu, Sep 29 (Day 6)                                                                                                                                                                   2\n",
       "Tue, Sep 20 (Day 1); Wed, Sep 21 (Day 2); Thu, Sep 22 (Day 3); Tue, Sep 27 (Day 4)                                                                                                    2\n",
       "Tue, Sep 20 (Day 1); Wed, Sep 21 (Day 2); Thu, Sep 22 (Day 3); Wed, Sep 28 (Day 5); Thu, Sep 29 (Day 6)                                                                               2\n",
       "Thu, Sep 22 (Day 3); Tue, Sep 27 (Day 4); Wed, Sep 28 (Day 5); Thu, Sep 29 (Day 6)                                                                                                    2\n",
       "Tue, Sep 20 (Day 1); Thu, Sep 22 (Day 3); Tue, Sep 27 (Day 4); Wed, Sep 28 (Day 5); Thu, Sep 29 (Day 6)                                                                               1\n",
       "Tue, Sep 20 (Day 1); Wed, Sep 21 (Day 2); Wed, Sep 28 (Day 5); Thu, Sep 29 (Day 6)                                                                                                    1\n",
       "Wed, Sep 21 (Day 2); Tue, Sep 27 (Day 4); Wed, Sep 28 (Day 5); Thu, Sep 29 (Day 6); Not sure I can attend, but please keep me informed                                                1\n",
       "Tue, Sep 20 (Day 1); Thu, Sep 22 (Day 3); Tue, Sep 27 (Day 4); Thu, Sep 29 (Day 6); Not sure I can attend, but please keep me informed                                                1\n",
       "Wed, Sep 21 (Day 2); Thu, Sep 22 (Day 3); Tue, Sep 27 (Day 4); Not sure I can attend, but please keep me informed                                                                     1\n",
       "Tue, Sep 20 (Day 1); Wed, Sep 21 (Day 2); Not sure I can attend, but please keep me informed                                                                                          1\n",
       "Tue, Sep 20 (Day 1); Wed, Sep 21 (Day 2); Thu, Sep 22 (Day 3); Wed, Sep 28 (Day 5); Thu, Sep 29 (Day 6); Not sure I can attend, but please keep me informed                           1\n",
       "Wed, Sep 21 (Day 2); Wed, Sep 28 (Day 5); Thu, Sep 29 (Day 6)                                                                                                                         1\n",
       "Wed, Sep 21 (Day 2); Thu, Sep 22 (Day 3); Tue, Sep 27 (Day 4); Thu, Sep 29 (Day 6); Not sure I can attend, but please keep me informed                                                1\n",
       "Tue, Sep 20 (Day 1); Tue, Sep 27 (Day 4); Wed, Sep 28 (Day 5); Thu, Sep 29 (Day 6)                                                                                                    1\n",
       "Tue, Sep 20 (Day 1); Wed, Sep 21 (Day 2); Thu, Sep 22 (Day 3); Tue, Sep 27 (Day 4); Not sure I can attend, but please keep me informed                                                1\n",
       "Tue, Sep 20 (Day 1); Not sure I can attend, but please keep me informed                                                                                                               1\n",
       "Tue, Sep 20 (Day 1)                                                                                                                                                                   1\n",
       "Wed, Sep 21 (Day 2); Thu, Sep 22 (Day 3); Tue, Sep 27 (Day 4); Thu, Sep 29 (Day 6)                                                                                                    1\n",
       "Tue, Sep 20 (Day 1); Thu, Sep 22 (Day 3); Wed, Sep 28 (Day 5); Thu, Sep 29 (Day 6)                                                                                                    1\n",
       "Tue, Sep 20 (Day 1); Wed, Sep 21 (Day 2)                                                                                                                                              1\n",
       "Wed, Sep 21 (Day 2); Thu, Sep 29 (Day 6)                                                                                                                                              1\n",
       "Wed, Sep 21 (Day 2); Thu, Sep 22 (Day 3); Wed, Sep 28 (Day 5); Thu, Sep 29 (Day 6)                                                                                                    1\n",
       "Tue, Sep 20 (Day 1); Wed, Sep 21 (Day 2); Tue, Sep 27 (Day 4); Wed, Sep 28 (Day 5)                                                                                                    1\n",
       "Tue, Sep 20 (Day 1); Wed, Sep 21 (Day 2); Tue, Sep 27 (Day 4)                                                                                                                         1\n",
       "Name: Which days you plan to attend?, dtype: int64"
      ]
     },
     "execution_count": 21,
     "metadata": {},
     "output_type": "execute_result"
    }
   ],
   "source": [
    "countAttendaceDays"
   ]
  },
  {
   "cell_type": "code",
   "execution_count": null,
   "id": "921e46e5-f320-42aa-9880-aa63254b0f19",
   "metadata": {},
   "outputs": [],
   "source": []
  },
  {
   "cell_type": "markdown",
   "id": "ac55f2eb-97ba-4f0d-94a4-c7772f979a5d",
   "metadata": {
    "tags": []
   },
   "source": [
    "## Team registrations\n",
    "<a id =2> </a>"
   ]
  },
  {
   "cell_type": "markdown",
   "id": "d113ba56-656e-4948-905a-6696b6a91221",
   "metadata": {},
   "source": [
    "<font color=#330099>Read in the csv from the repo</font>"
   ]
  },
  {
   "cell_type": "code",
   "execution_count": 22,
   "id": "17821399-7530-497f-9512-5db7ab01b9b1",
   "metadata": {},
   "outputs": [],
   "source": [
    "teamDF = pd.read_csv(\"./data/CR_teams.csv\", index_col=\"ID\")"
   ]
  },
  {
   "cell_type": "markdown",
   "id": "aa7469c4-8b8c-424a-8f90-96108843c700",
   "metadata": {},
   "source": [
    "<font color=#330099>Some summary</font>"
   ]
  },
  {
   "cell_type": "code",
   "execution_count": 23,
   "id": "4172e974-480f-47ff-b58f-3fea8fae526c",
   "metadata": {},
   "outputs": [
    {
     "name": "stdout",
     "output_type": "stream",
     "text": [
      "<class 'pandas.core.frame.DataFrame'>\n",
      "Int64Index: 8 entries, 41 to 253\n",
      "Data columns (total 10 columns):\n",
      " #   Column                                                               Non-Null Count  Dtype  \n",
      "---  ------                                                               --------------  -----  \n",
      " 0   Affiliation                                                          8 non-null      object \n",
      " 1   Actual number of teams                                               7 non-null      float64\n",
      " 2   Actual number of learners                                            7 non-null      float64\n",
      " 3   Actual number of exercise leads                                      7 non-null      float64\n",
      " 4   Country/countries that learners are affilated with                   7 non-null      object \n",
      " 5   Career stage/ position of learners                                   7 non-null      object \n",
      " 6   Academic discipline                                                  6 non-null      object \n",
      " 7   Academic disciplines (if multiple teams from different disciplines)  3 non-null      object \n",
      " 8   Registration date                                                    8 non-null      object \n",
      " 9   Registration state                                                   8 non-null      object \n",
      "dtypes: float64(3), object(7)\n",
      "memory usage: 704.0+ bytes\n"
     ]
    }
   ],
   "source": [
    "teamDF.info()"
   ]
  },
  {
   "cell_type": "markdown",
   "id": "bd1883b8-6bf0-4931-a51d-96a4b93626c7",
   "metadata": {},
   "source": [
    "<font color=#330099>A closer look</font>"
   ]
  },
  {
   "cell_type": "code",
   "execution_count": 24,
   "id": "cde384dd-1acd-43a0-a0c7-c255115e592f",
   "metadata": {},
   "outputs": [
    {
     "data": {
      "text/html": [
       "<div>\n",
       "<style scoped>\n",
       "    .dataframe tbody tr th:only-of-type {\n",
       "        vertical-align: middle;\n",
       "    }\n",
       "\n",
       "    .dataframe tbody tr th {\n",
       "        vertical-align: top;\n",
       "    }\n",
       "\n",
       "    .dataframe thead th {\n",
       "        text-align: right;\n",
       "    }\n",
       "</style>\n",
       "<table border=\"1\" class=\"dataframe\">\n",
       "  <thead>\n",
       "    <tr style=\"text-align: right;\">\n",
       "      <th></th>\n",
       "      <th>Affiliation</th>\n",
       "      <th>Actual number of teams</th>\n",
       "      <th>Actual number of learners</th>\n",
       "      <th>Actual number of exercise leads</th>\n",
       "      <th>Country/countries that learners are affilated with</th>\n",
       "      <th>Career stage/ position of learners</th>\n",
       "      <th>Academic discipline</th>\n",
       "      <th>Academic disciplines (if multiple teams from different disciplines)</th>\n",
       "      <th>Registration date</th>\n",
       "      <th>Registration state</th>\n",
       "    </tr>\n",
       "    <tr>\n",
       "      <th>ID</th>\n",
       "      <th></th>\n",
       "      <th></th>\n",
       "      <th></th>\n",
       "      <th></th>\n",
       "      <th></th>\n",
       "      <th></th>\n",
       "      <th></th>\n",
       "      <th></th>\n",
       "      <th></th>\n",
       "      <th></th>\n",
       "    </tr>\n",
       "  </thead>\n",
       "  <tbody>\n",
       "    <tr>\n",
       "      <th>41</th>\n",
       "      <td>TU Delft Library</td>\n",
       "      <td>4.0</td>\n",
       "      <td>19.0</td>\n",
       "      <td>5.0</td>\n",
       "      <td>TU Delft: 19</td>\n",
       "      <td>PhD candidate: 17, Researcher: 2</td>\n",
       "      <td>Mixed</td>\n",
       "      <td>Civil Engineering: 5, Computer and Information...</td>\n",
       "      <td>2022-07-11 11:27:26.901868+00:00</td>\n",
       "      <td>Completed</td>\n",
       "    </tr>\n",
       "    <tr>\n",
       "      <th>42</th>\n",
       "      <td>University of Jyväskylä</td>\n",
       "      <td>1.0</td>\n",
       "      <td>11.0</td>\n",
       "      <td>2.0</td>\n",
       "      <td>Finland</td>\n",
       "      <td>6 Doctoral researcher     4 Masters student   ...</td>\n",
       "      <td>NaN</td>\n",
       "      <td>Chemical Sciences: 2, Computer and Information...</td>\n",
       "      <td>2022-07-11 12:25:35.330445+00:00</td>\n",
       "      <td>Completed</td>\n",
       "    </tr>\n",
       "    <tr>\n",
       "      <th>45</th>\n",
       "      <td>IT University of Copenhagen</td>\n",
       "      <td>NaN</td>\n",
       "      <td>NaN</td>\n",
       "      <td>NaN</td>\n",
       "      <td>NaN</td>\n",
       "      <td>NaN</td>\n",
       "      <td>NaN</td>\n",
       "      <td>NaN</td>\n",
       "      <td>2022-07-12 08:30:13.020980+00:00</td>\n",
       "      <td>Completed</td>\n",
       "    </tr>\n",
       "    <tr>\n",
       "      <th>67</th>\n",
       "      <td>EPT, NTNU</td>\n",
       "      <td>2.0</td>\n",
       "      <td>12.0</td>\n",
       "      <td>2.0</td>\n",
       "      <td>Norway</td>\n",
       "      <td>9 PhDs / 2 postdoc / 1 researcher</td>\n",
       "      <td>Mixed</td>\n",
       "      <td>Process Engineering: 7 / physics: 1 / Architec...</td>\n",
       "      <td>2022-08-18 06:10:38.355783+00:00</td>\n",
       "      <td>Completed</td>\n",
       "    </tr>\n",
       "    <tr>\n",
       "      <th>75</th>\n",
       "      <td>Karolinska Institute</td>\n",
       "      <td>1.0</td>\n",
       "      <td>2.0</td>\n",
       "      <td>1.0</td>\n",
       "      <td>Sweden</td>\n",
       "      <td>1 PhD student and 1 postdoc</td>\n",
       "      <td>Biological Sciences</td>\n",
       "      <td>NaN</td>\n",
       "      <td>2022-08-19 15:39:59.891935+00:00</td>\n",
       "      <td>Completed</td>\n",
       "    </tr>\n",
       "    <tr>\n",
       "      <th>134</th>\n",
       "      <td>Vrije Universiteit Amsterdam</td>\n",
       "      <td>1.0</td>\n",
       "      <td>5.0</td>\n",
       "      <td>2.0</td>\n",
       "      <td>The Netherlands: 5</td>\n",
       "      <td>PhD student: 3    PostDoc: 1    emeriti: 1</td>\n",
       "      <td>Mixed</td>\n",
       "      <td>NaN</td>\n",
       "      <td>2022-09-07 08:19:06.547526+00:00</td>\n",
       "      <td>Completed</td>\n",
       "    </tr>\n",
       "    <tr>\n",
       "      <th>135</th>\n",
       "      <td>VU Amsterdam</td>\n",
       "      <td>1.0</td>\n",
       "      <td>5.0</td>\n",
       "      <td>2.0</td>\n",
       "      <td>Netherlands</td>\n",
       "      <td>Mostly Phds and a professor. Number of learner...</td>\n",
       "      <td>Mixed</td>\n",
       "      <td>NaN</td>\n",
       "      <td>2022-09-07 08:23:02.409160+00:00</td>\n",
       "      <td>Completed</td>\n",
       "    </tr>\n",
       "    <tr>\n",
       "      <th>253</th>\n",
       "      <td>CSC – IT Center For Science LTD.</td>\n",
       "      <td>1.0</td>\n",
       "      <td>4.0</td>\n",
       "      <td>2.0</td>\n",
       "      <td>Finland</td>\n",
       "      <td>Industry: 10, Undergraduate: 1</td>\n",
       "      <td>Computer and Information Sciences</td>\n",
       "      <td>NaN</td>\n",
       "      <td>2022-10-13 06:36:08.241268+00:00</td>\n",
       "      <td>Completed</td>\n",
       "    </tr>\n",
       "  </tbody>\n",
       "</table>\n",
       "</div>"
      ],
      "text/plain": [
       "                          Affiliation  Actual number of teams  \\\n",
       "ID                                                              \n",
       "41                   TU Delft Library                     4.0   \n",
       "42            University of Jyväskylä                     1.0   \n",
       "45        IT University of Copenhagen                     NaN   \n",
       "67                          EPT, NTNU                     2.0   \n",
       "75               Karolinska Institute                     1.0   \n",
       "134      Vrije Universiteit Amsterdam                     1.0   \n",
       "135                      VU Amsterdam                     1.0   \n",
       "253  CSC – IT Center For Science LTD.                     1.0   \n",
       "\n",
       "     Actual number of learners  Actual number of exercise leads  \\\n",
       "ID                                                                \n",
       "41                        19.0                              5.0   \n",
       "42                        11.0                              2.0   \n",
       "45                         NaN                              NaN   \n",
       "67                        12.0                              2.0   \n",
       "75                         2.0                              1.0   \n",
       "134                        5.0                              2.0   \n",
       "135                        5.0                              2.0   \n",
       "253                        4.0                              2.0   \n",
       "\n",
       "    Country/countries that learners are affilated with  \\\n",
       "ID                                                       \n",
       "41                                        TU Delft: 19   \n",
       "42                                             Finland   \n",
       "45                                                 NaN   \n",
       "67                                              Norway   \n",
       "75                                              Sweden   \n",
       "134                                 The Netherlands: 5   \n",
       "135                                        Netherlands   \n",
       "253                                            Finland   \n",
       "\n",
       "                    Career stage/ position of learners  \\\n",
       "ID                                                       \n",
       "41                    PhD candidate: 17, Researcher: 2   \n",
       "42   6 Doctoral researcher     4 Masters student   ...   \n",
       "45                                                 NaN   \n",
       "67                   9 PhDs / 2 postdoc / 1 researcher   \n",
       "75                         1 PhD student and 1 postdoc   \n",
       "134         PhD student: 3    PostDoc: 1    emeriti: 1   \n",
       "135  Mostly Phds and a professor. Number of learner...   \n",
       "253                     Industry: 10, Undergraduate: 1   \n",
       "\n",
       "                   Academic discipline  \\\n",
       "ID                                       \n",
       "41                               Mixed   \n",
       "42                                 NaN   \n",
       "45                                 NaN   \n",
       "67                               Mixed   \n",
       "75                 Biological Sciences   \n",
       "134                              Mixed   \n",
       "135                              Mixed   \n",
       "253  Computer and Information Sciences   \n",
       "\n",
       "    Academic disciplines (if multiple teams from different disciplines)  \\\n",
       "ID                                                                        \n",
       "41   Civil Engineering: 5, Computer and Information...                    \n",
       "42   Chemical Sciences: 2, Computer and Information...                    \n",
       "45                                                 NaN                    \n",
       "67   Process Engineering: 7 / physics: 1 / Architec...                    \n",
       "75                                                 NaN                    \n",
       "134                                                NaN                    \n",
       "135                                                NaN                    \n",
       "253                                                NaN                    \n",
       "\n",
       "                    Registration date Registration state  \n",
       "ID                                                        \n",
       "41   2022-07-11 11:27:26.901868+00:00          Completed  \n",
       "42   2022-07-11 12:25:35.330445+00:00          Completed  \n",
       "45   2022-07-12 08:30:13.020980+00:00          Completed  \n",
       "67   2022-08-18 06:10:38.355783+00:00          Completed  \n",
       "75   2022-08-19 15:39:59.891935+00:00          Completed  \n",
       "134  2022-09-07 08:19:06.547526+00:00          Completed  \n",
       "135  2022-09-07 08:23:02.409160+00:00          Completed  \n",
       "253  2022-10-13 06:36:08.241268+00:00          Completed  "
      ]
     },
     "execution_count": 24,
     "metadata": {},
     "output_type": "execute_result"
    }
   ],
   "source": [
    "teamDF"
   ]
  },
  {
   "cell_type": "markdown",
   "id": "1725858a-d724-4228-9610-e418eae454e6",
   "metadata": {},
   "source": [
    "<font color=#330099>Count some values</font>"
   ]
  },
  {
   "cell_type": "code",
   "execution_count": 25,
   "id": "547a219b-f513-4b26-a54a-2cce38381571",
   "metadata": {},
   "outputs": [],
   "source": [
    "countActualTeams_team = teamDF[\"Actual number of teams\"].value_counts()\n",
    "countActualLearners_team = teamDF[\"Actual number of learners\"].value_counts()\n",
    "countActualELs_team = teamDF[\"Actual number of exercise leads\"].value_counts()"
   ]
  },
  {
   "cell_type": "code",
   "execution_count": 26,
   "id": "b5c0d13c-caf0-40ab-9b76-51cd805f0a29",
   "metadata": {},
   "outputs": [
    {
     "data": {
      "text/plain": [
       "1.0    5\n",
       "4.0    1\n",
       "2.0    1\n",
       "Name: Actual number of teams, dtype: int64"
      ]
     },
     "execution_count": 26,
     "metadata": {},
     "output_type": "execute_result"
    }
   ],
   "source": [
    "countActualTeams_team"
   ]
  },
  {
   "cell_type": "code",
   "execution_count": 27,
   "id": "8faae920-232e-454c-8d9b-b476b9c66fd6",
   "metadata": {},
   "outputs": [
    {
     "data": {
      "text/plain": [
       "5.0     2\n",
       "19.0    1\n",
       "11.0    1\n",
       "12.0    1\n",
       "2.0     1\n",
       "4.0     1\n",
       "Name: Actual number of learners, dtype: int64"
      ]
     },
     "execution_count": 27,
     "metadata": {},
     "output_type": "execute_result"
    }
   ],
   "source": [
    "countActualLearners_team"
   ]
  },
  {
   "cell_type": "code",
   "execution_count": 28,
   "id": "d2c5d6a2-5b1b-4fb8-b229-3c35e8c7cb0d",
   "metadata": {},
   "outputs": [
    {
     "data": {
      "text/plain": [
       "2.0    5\n",
       "5.0    1\n",
       "1.0    1\n",
       "Name: Actual number of exercise leads, dtype: int64"
      ]
     },
     "execution_count": 28,
     "metadata": {},
     "output_type": "execute_result"
    }
   ],
   "source": [
    "countActualELs_team"
   ]
  },
  {
   "cell_type": "code",
   "execution_count": 29,
   "id": "db8d2cd9-ad5d-4454-8bd3-2d8d9f95d68c",
   "metadata": {},
   "outputs": [
    {
     "data": {
      "text/plain": [
       "11.0"
      ]
     },
     "execution_count": 29,
     "metadata": {},
     "output_type": "execute_result"
    }
   ],
   "source": [
    "teamDF[\"Actual number of teams\"].sum()"
   ]
  },
  {
   "cell_type": "code",
   "execution_count": 30,
   "id": "b0f9561e-eb1e-4e56-b3e2-80a0a15be25f",
   "metadata": {},
   "outputs": [
    {
     "data": {
      "text/plain": [
       "58.0"
      ]
     },
     "execution_count": 30,
     "metadata": {},
     "output_type": "execute_result"
    }
   ],
   "source": [
    "teamDF[\"Actual number of learners\"].sum()"
   ]
  },
  {
   "cell_type": "markdown",
   "id": "f5724adb-ea06-468b-9120-2425d7cd5240",
   "metadata": {},
   "source": [
    "THE COUNTRY COUNTS SHOULD TAKE THESE INTO ACCOUNT"
   ]
  },
  {
   "cell_type": "code",
   "execution_count": null,
   "id": "2844bedb-f682-48cc-9797-215572dae311",
   "metadata": {},
   "outputs": [],
   "source": []
  }
 ],
 "metadata": {
  "kernelspec": {
   "display_name": "Python 3 (ipykernel)",
   "language": "python",
   "name": "python3"
  },
  "language_info": {
   "codemirror_mode": {
    "name": "ipython",
    "version": 3
   },
   "file_extension": ".py",
   "mimetype": "text/x-python",
   "name": "python",
   "nbconvert_exporter": "python",
   "pygments_lexer": "ipython3",
   "version": "3.10.6"
  }
 },
 "nbformat": 4,
 "nbformat_minor": 5
}
