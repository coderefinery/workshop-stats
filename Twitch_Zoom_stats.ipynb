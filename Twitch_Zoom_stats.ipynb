{
 "cells": [
  {
   "cell_type": "markdown",
   "id": "209aa622-5bc5-4a2b-b15e-131db332e2eb",
   "metadata": {},
   "source": [
    "# Twitch and Zoom stats"
   ]
  },
  {
   "cell_type": "code",
   "execution_count": 1,
   "id": "1f9ad886-1c3b-4c3d-ad46-1923324fff91",
   "metadata": {},
   "outputs": [],
   "source": [
    "import numpy as np\n",
    "import pandas as pd\n",
    "import seaborn as sns # For plotting\n",
    "import matplotlib.pyplot as plt"
   ]
  },
  {
   "cell_type": "markdown",
   "id": "8d004be9-d1bc-44a0-b081-e1cedf5662bf",
   "metadata": {},
   "source": [
    "<mark>Jump right into analyses from here:</mark>\n",
    "\n",
    "[Twitch durations and participants](#1)  \n",
    "[Zoom Durations and participants](#2)  "
   ]
  },
  {
   "cell_type": "markdown",
   "id": "91b7bb78-79a1-48ae-b40a-b9378cb9256e",
   "metadata": {},
   "source": [
    "## Twitch  \n",
    "### Read in the csv"
   ]
  },
  {
   "cell_type": "markdown",
   "id": "8bbac043-92a2-4270-a500-89da9aa60d45",
   "metadata": {},
   "source": [
    "<font color=#330099>Read in the csv from the repo and set time as index</font>"
   ]
  },
  {
   "cell_type": "markdown",
   "id": "4dee300a-836a-4f5b-b866-cb58ed54501a",
   "metadata": {},
   "source": [
    "> Should start from 10 AM sharp and maybe take couple of last values away"
   ]
  },
  {
   "cell_type": "code",
   "execution_count": 2,
   "id": "067cbad1-4d9d-4ec8-88f7-140efda5c6bc",
   "metadata": {},
   "outputs": [],
   "source": [
    "twitchDF_day1 = pd.read_csv(\"./data/Stream Session from 9_20_2022 to 9_20_2022.csv\")\n",
    "twitchDF_day2 = pd.read_csv(\"./data/Stream Session from 9_21_2022 to 9_21_2022.csv\")\n",
    "twitchDF_day3 = pd.read_csv(\"./data/Stream Session from 9_22_2022 to 9_22_2022.csv\")\n",
    "twitchDF_day4 = pd.read_csv(\"./data/Stream Session from 9_27_2022 to 9_27_2022.csv\")\n",
    "twitchDF_day5 = pd.read_csv(\"./data/Stream Session from 9_28_2022 to 9_28_2022.csv\")\n",
    "twitchDF_day6 = pd.read_csv(\"./data/Stream Session from 9_29_2022 to 9_29_2022.csv\")\n",
    "\n",
    "twitchDF_day1.set_index(\"Timestamp\", inplace=True)\n",
    "twitchDF_day2.set_index(\"Timestamp\", inplace=True)\n",
    "twitchDF_day3.set_index(\"Timestamp\", inplace=True)\n",
    "twitchDF_day4.set_index(\"Timestamp\", inplace=True)\n",
    "twitchDF_day5.set_index(\"Timestamp\", inplace=True)\n",
    "twitchDF_day6.set_index(\"Timestamp\", inplace=True)"
   ]
  },
  {
   "cell_type": "markdown",
   "id": "2df938a5-48ad-4dcb-a815-ff53fa3eb3c1",
   "metadata": {},
   "source": [
    "<font color=#330099>A closer look</font>"
   ]
  },
  {
   "cell_type": "code",
   "execution_count": 3,
   "id": "7492288d-4b96-43f8-a3d2-a8f730ab47c9",
   "metadata": {},
   "outputs": [
    {
     "data": {
      "text/html": [
       "<div>\n",
       "<style scoped>\n",
       "    .dataframe tbody tr th:only-of-type {\n",
       "        vertical-align: middle;\n",
       "    }\n",
       "\n",
       "    .dataframe tbody tr th {\n",
       "        vertical-align: top;\n",
       "    }\n",
       "\n",
       "    .dataframe thead th {\n",
       "        text-align: right;\n",
       "    }\n",
       "</style>\n",
       "<table border=\"1\" class=\"dataframe\">\n",
       "  <thead>\n",
       "    <tr style=\"text-align: right;\">\n",
       "      <th></th>\n",
       "      <th>Viewers</th>\n",
       "      <th>Live Views</th>\n",
       "      <th>New Followers</th>\n",
       "      <th>Chatters</th>\n",
       "      <th>Chat Messages</th>\n",
       "      <th>Ad Breaks</th>\n",
       "      <th>Subscriptions</th>\n",
       "      <th>Clips Created</th>\n",
       "      <th>All Clip Views</th>\n",
       "    </tr>\n",
       "    <tr>\n",
       "      <th>Timestamp</th>\n",
       "      <th></th>\n",
       "      <th></th>\n",
       "      <th></th>\n",
       "      <th></th>\n",
       "      <th></th>\n",
       "      <th></th>\n",
       "      <th></th>\n",
       "      <th></th>\n",
       "      <th></th>\n",
       "    </tr>\n",
       "  </thead>\n",
       "  <tbody>\n",
       "    <tr>\n",
       "      <th>9:35 AM</th>\n",
       "      <td>18.0</td>\n",
       "      <td>22.0</td>\n",
       "      <td>NaN</td>\n",
       "      <td>NaN</td>\n",
       "      <td>NaN</td>\n",
       "      <td>NaN</td>\n",
       "      <td>NaN</td>\n",
       "      <td>NaN</td>\n",
       "      <td>NaN</td>\n",
       "    </tr>\n",
       "    <tr>\n",
       "      <th>9:40 AM</th>\n",
       "      <td>38.0</td>\n",
       "      <td>21.0</td>\n",
       "      <td>2.0</td>\n",
       "      <td>NaN</td>\n",
       "      <td>NaN</td>\n",
       "      <td>NaN</td>\n",
       "      <td>NaN</td>\n",
       "      <td>NaN</td>\n",
       "      <td>NaN</td>\n",
       "    </tr>\n",
       "    <tr>\n",
       "      <th>9:45 AM</th>\n",
       "      <td>56.2</td>\n",
       "      <td>32.0</td>\n",
       "      <td>NaN</td>\n",
       "      <td>NaN</td>\n",
       "      <td>NaN</td>\n",
       "      <td>NaN</td>\n",
       "      <td>NaN</td>\n",
       "      <td>NaN</td>\n",
       "      <td>NaN</td>\n",
       "    </tr>\n",
       "    <tr>\n",
       "      <th>9:50 AM</th>\n",
       "      <td>81.8</td>\n",
       "      <td>31.0</td>\n",
       "      <td>NaN</td>\n",
       "      <td>NaN</td>\n",
       "      <td>NaN</td>\n",
       "      <td>NaN</td>\n",
       "      <td>NaN</td>\n",
       "      <td>NaN</td>\n",
       "      <td>NaN</td>\n",
       "    </tr>\n",
       "    <tr>\n",
       "      <th>9:55 AM</th>\n",
       "      <td>99.8</td>\n",
       "      <td>31.0</td>\n",
       "      <td>NaN</td>\n",
       "      <td>NaN</td>\n",
       "      <td>NaN</td>\n",
       "      <td>NaN</td>\n",
       "      <td>NaN</td>\n",
       "      <td>NaN</td>\n",
       "      <td>NaN</td>\n",
       "    </tr>\n",
       "  </tbody>\n",
       "</table>\n",
       "</div>"
      ],
      "text/plain": [
       "           Viewers  Live Views  New Followers  Chatters  Chat Messages  \\\n",
       "Timestamp                                                                \n",
       "9:35 AM       18.0        22.0            NaN       NaN            NaN   \n",
       "9:40 AM       38.0        21.0            2.0       NaN            NaN   \n",
       "9:45 AM       56.2        32.0            NaN       NaN            NaN   \n",
       "9:50 AM       81.8        31.0            NaN       NaN            NaN   \n",
       "9:55 AM       99.8        31.0            NaN       NaN            NaN   \n",
       "\n",
       "           Ad Breaks  Subscriptions  Clips Created  All Clip Views  \n",
       "Timestamp                                                           \n",
       "9:35 AM          NaN            NaN            NaN             NaN  \n",
       "9:40 AM          NaN            NaN            NaN             NaN  \n",
       "9:45 AM          NaN            NaN            NaN             NaN  \n",
       "9:50 AM          NaN            NaN            NaN             NaN  \n",
       "9:55 AM          NaN            NaN            NaN             NaN  "
      ]
     },
     "execution_count": 3,
     "metadata": {},
     "output_type": "execute_result"
    }
   ],
   "source": [
    "twitchDF_day1.head()"
   ]
  },
  {
   "cell_type": "code",
   "execution_count": 4,
   "id": "ae1cf683-35cf-455a-be67-c35fa0897917",
   "metadata": {},
   "outputs": [
    {
     "data": {
      "text/html": [
       "<div>\n",
       "<style scoped>\n",
       "    .dataframe tbody tr th:only-of-type {\n",
       "        vertical-align: middle;\n",
       "    }\n",
       "\n",
       "    .dataframe tbody tr th {\n",
       "        vertical-align: top;\n",
       "    }\n",
       "\n",
       "    .dataframe thead th {\n",
       "        text-align: right;\n",
       "    }\n",
       "</style>\n",
       "<table border=\"1\" class=\"dataframe\">\n",
       "  <thead>\n",
       "    <tr style=\"text-align: right;\">\n",
       "      <th></th>\n",
       "      <th>Viewers</th>\n",
       "      <th>Live Views</th>\n",
       "      <th>New Followers</th>\n",
       "      <th>Chatters</th>\n",
       "      <th>Chat Messages</th>\n",
       "      <th>Ad Breaks</th>\n",
       "      <th>Subscriptions</th>\n",
       "      <th>Clips Created</th>\n",
       "      <th>All Clip Views</th>\n",
       "    </tr>\n",
       "    <tr>\n",
       "      <th>Timestamp</th>\n",
       "      <th></th>\n",
       "      <th></th>\n",
       "      <th></th>\n",
       "      <th></th>\n",
       "      <th></th>\n",
       "      <th></th>\n",
       "      <th></th>\n",
       "      <th></th>\n",
       "      <th></th>\n",
       "    </tr>\n",
       "  </thead>\n",
       "  <tbody>\n",
       "    <tr>\n",
       "      <th>1:20 PM</th>\n",
       "      <td>118.6</td>\n",
       "      <td>3.0</td>\n",
       "      <td>NaN</td>\n",
       "      <td>NaN</td>\n",
       "      <td>NaN</td>\n",
       "      <td>NaN</td>\n",
       "      <td>NaN</td>\n",
       "      <td>NaN</td>\n",
       "      <td>NaN</td>\n",
       "    </tr>\n",
       "    <tr>\n",
       "      <th>1:25 PM</th>\n",
       "      <td>118.2</td>\n",
       "      <td>3.0</td>\n",
       "      <td>NaN</td>\n",
       "      <td>NaN</td>\n",
       "      <td>NaN</td>\n",
       "      <td>NaN</td>\n",
       "      <td>NaN</td>\n",
       "      <td>NaN</td>\n",
       "      <td>NaN</td>\n",
       "    </tr>\n",
       "    <tr>\n",
       "      <th>1:30 PM</th>\n",
       "      <td>115.2</td>\n",
       "      <td>4.0</td>\n",
       "      <td>NaN</td>\n",
       "      <td>NaN</td>\n",
       "      <td>NaN</td>\n",
       "      <td>NaN</td>\n",
       "      <td>NaN</td>\n",
       "      <td>NaN</td>\n",
       "      <td>NaN</td>\n",
       "    </tr>\n",
       "    <tr>\n",
       "      <th>1:35 PM</th>\n",
       "      <td>64.0</td>\n",
       "      <td>NaN</td>\n",
       "      <td>1.0</td>\n",
       "      <td>NaN</td>\n",
       "      <td>NaN</td>\n",
       "      <td>NaN</td>\n",
       "      <td>NaN</td>\n",
       "      <td>NaN</td>\n",
       "      <td>NaN</td>\n",
       "    </tr>\n",
       "    <tr>\n",
       "      <th>1:40 PM</th>\n",
       "      <td>43.0</td>\n",
       "      <td>NaN</td>\n",
       "      <td>NaN</td>\n",
       "      <td>NaN</td>\n",
       "      <td>NaN</td>\n",
       "      <td>NaN</td>\n",
       "      <td>NaN</td>\n",
       "      <td>NaN</td>\n",
       "      <td>NaN</td>\n",
       "    </tr>\n",
       "  </tbody>\n",
       "</table>\n",
       "</div>"
      ],
      "text/plain": [
       "           Viewers  Live Views  New Followers  Chatters  Chat Messages  \\\n",
       "Timestamp                                                                \n",
       "1:20 PM      118.6         3.0            NaN       NaN            NaN   \n",
       "1:25 PM      118.2         3.0            NaN       NaN            NaN   \n",
       "1:30 PM      115.2         4.0            NaN       NaN            NaN   \n",
       "1:35 PM       64.0         NaN            1.0       NaN            NaN   \n",
       "1:40 PM       43.0         NaN            NaN       NaN            NaN   \n",
       "\n",
       "           Ad Breaks  Subscriptions  Clips Created  All Clip Views  \n",
       "Timestamp                                                           \n",
       "1:20 PM          NaN            NaN            NaN             NaN  \n",
       "1:25 PM          NaN            NaN            NaN             NaN  \n",
       "1:30 PM          NaN            NaN            NaN             NaN  \n",
       "1:35 PM          NaN            NaN            NaN             NaN  \n",
       "1:40 PM          NaN            NaN            NaN             NaN  "
      ]
     },
     "execution_count": 4,
     "metadata": {},
     "output_type": "execute_result"
    }
   ],
   "source": [
    "twitchDF_day1.tail()"
   ]
  },
  {
   "cell_type": "code",
   "execution_count": 5,
   "id": "f858ba7f-03c4-4796-8355-0af99bda597c",
   "metadata": {},
   "outputs": [],
   "source": [
    "twitchDF_day1 = twitchDF_day1.loc['10:00 AM':'1:30 PM']\n",
    "twitchDF_day2 = twitchDF_day2.loc['10:00 AM':'1:30 PM']\n",
    "twitchDF_day3 = twitchDF_day3.loc['10:00 AM':'1:30 PM']\n",
    "twitchDF_day4 = twitchDF_day4.loc['10:00 AM':'1:30 PM']\n",
    "twitchDF_day5 = twitchDF_day5.loc['10:00 AM':'1:30 PM']\n",
    "twitchDF_day6 = twitchDF_day6.loc['10:00 AM':'1:30 PM']"
   ]
  },
  {
   "cell_type": "markdown",
   "id": "280f3e5b-2950-4fe3-9c57-d369713134ac",
   "metadata": {
    "tags": []
   },
   "source": [
    "### Twitch durations and participants\n",
    "<a id =1> </a>"
   ]
  },
  {
   "cell_type": "code",
   "execution_count": 6,
   "id": "3ce3622c-9362-448b-9b01-b84c7d276878",
   "metadata": {},
   "outputs": [],
   "source": [
    "DFs = [twitchDF_day1,twitchDF_day2,twitchDF_day3,twitchDF_day4,twitchDF_day5,twitchDF_day6]"
   ]
  },
  {
   "cell_type": "code",
   "execution_count": 7,
   "id": "593f9c06-b2a4-4353-8843-22b2dd1df3e8",
   "metadata": {},
   "outputs": [
    {
     "data": {
      "image/png": "[encoded data removed]",
      "text/plain": [
       "<Figure size 640x480 with 1 Axes>"
      ]
     },
     "metadata": {},
     "output_type": "display_data"
    }
   ],
   "source": [
    "for i,df in enumerate(DFs, start=1):\n",
    "    ax = sns.barplot(x=df.index, y=df.columns[0], data=df)\n",
    "    ax.set(title=\"Day {}: {}\".format(i,df.columns[0]))\n",
    "    ax.set_xticklabels(df.index)\n",
    "    ax.tick_params(labelrotation = 290)\n",
    "    plt.savefig(\"./plots/Day_{}_{}.png\".format(i,df.columns[0]))\n",
    "#    plt.show()"
   ]
  },
  {
   "cell_type": "code",
   "execution_count": 8,
   "id": "29c15d3b-e14c-4298-91da-c318fcf72693",
   "metadata": {},
   "outputs": [
    {
     "data": {
      "image/png": "[encoded data removed]",
      "text/plain": [
       "<Figure size 640x480 with 1 Axes>"
      ]
     },
     "metadata": {},
     "output_type": "display_data"
    }
   ],
   "source": [
    "for i,df in enumerate(DFs, start=1):\n",
    "    ax = sns.barplot(x=df.index, y=df.columns[1], data=df)\n",
    "    ax.set(title=\"Day {}: {}\".format(i,df.columns[1]))\n",
    "    ax.set_xticklabels(df.index)\n",
    "    ax.tick_params(labelrotation = 290)\n",
    "    plt.savefig(\"./plots/Day_{}_{}.png\".format(i,df.columns[1]))\n",
    "#    plt.show()"
   ]
  },
  {
   "cell_type": "code",
   "execution_count": 9,
   "id": "1a64c1c5-36a3-42e2-a4df-46b0f66efc33",
   "metadata": {},
   "outputs": [],
   "source": [
    "# Collect min max etc to lists\n",
    "Viewers_mean = []\n",
    "Viewers_min = []\n",
    "Viewers_max = []"
   ]
  },
  {
   "cell_type": "code",
   "execution_count": 10,
   "id": "9d58bc59-a89c-4662-8e52-40cd112acfc7",
   "metadata": {},
   "outputs": [
    {
     "name": "stdout",
     "output_type": "stream",
     "text": [
      "Day 1 viewers mean: 135.96744186046513\n",
      "Day 1 viewers min: 115.2\n",
      "Day 1 viewers max: 157.0\n",
      "Day 1 new followers: 6.0\n",
      "Day 1 chatters: 22.0\n",
      "Day 1 subscriptions: 0.0\n",
      "------------------------------\n",
      "Day 2 viewers mean: 129.86511627906978\n",
      "Day 2 viewers min: 84.2\n",
      "Day 2 viewers max: 141.4\n",
      "Day 2 new followers: 3.0\n",
      "Day 2 chatters: 8.0\n",
      "Day 2 subscriptions: 0.0\n",
      "------------------------------\n",
      "Day 3 viewers mean: 94.58604651162793\n",
      "Day 3 viewers min: 78.0\n",
      "Day 3 viewers max: 101.2\n",
      "Day 3 new followers: 1.0\n",
      "Day 3 chatters: 6.0\n",
      "Day 3 subscriptions: 0.0\n",
      "------------------------------\n",
      "Day 4 viewers mean: 90.31627906976743\n",
      "Day 4 viewers min: 74.8\n",
      "Day 4 viewers max: 97.0\n",
      "Day 4 new followers: 2.0\n",
      "Day 4 chatters: 3.0\n",
      "Day 4 subscriptions: 0.0\n",
      "------------------------------\n",
      "Day 5 viewers mean: 97.46976744186048\n",
      "Day 5 viewers min: 80.2\n",
      "Day 5 viewers max: 103.8\n",
      "Day 5 new followers: 3.0\n",
      "Day 5 chatters: 3.0\n",
      "Day 5 subscriptions: 0.0\n",
      "------------------------------\n",
      "Day 6 viewers mean: 87.14418604651162\n",
      "Day 6 viewers min: 66.4\n",
      "Day 6 viewers max: 97.8\n",
      "Day 6 new followers: 1.0\n",
      "Day 6 chatters: 9.0\n",
      "Day 6 subscriptions: 0.0\n",
      "------------------------------\n"
     ]
    }
   ],
   "source": [
    "for i,df in enumerate(DFs, start=1):\n",
    "    print(\"Day {} viewers mean:\".format(i), df.Viewers.mean())\n",
    "    Viewers_mean.append(df.Viewers.mean().astype(int))\n",
    "    print(\"Day {} viewers min:\".format(i), df.Viewers.min())\n",
    "    Viewers_min.append(df.Viewers.min().astype(int))\n",
    "    print(\"Day {} viewers max:\".format(i), df.Viewers.max())\n",
    "    Viewers_max.append(df.Viewers.max().astype(int))\n",
    "    print(\"Day {} new followers:\".format(i), df[\"New Followers\"].sum())\n",
    "    print(\"Day {} chatters:\".format(i), df[\"Chatters\"].sum())\n",
    "    print(\"Day {} subscriptions:\".format(i), df[\"Subscriptions\"].sum())\n",
    "    print(\"------------------------------\")"
   ]
  },
  {
   "cell_type": "markdown",
   "id": "a6ed8999-4a78-4cb4-8bec-e80fea324f13",
   "metadata": {},
   "source": [
    "Viewers_mean = pd.Series(Viewers_mean)\n",
    "Viewers_min = pd.Series(Viewers_min)\n",
    "Viewers_max = pd.Series(Viewers_max)"
   ]
  },
  {
   "cell_type": "markdown",
   "id": "439326d1-db00-4ae2-81ce-1e4a78fe208f",
   "metadata": {},
   "source": [
    "## Zoom stats"
   ]
  },
  {
   "cell_type": "markdown",
   "id": "7afe3047-a82b-44fa-a89b-ebc0e7c44f42",
   "metadata": {},
   "source": [
    "### Read in the csv"
   ]
  },
  {
   "cell_type": "markdown",
   "id": "753da5d0-7dcd-4bab-9c8a-43e9b4fa83ac",
   "metadata": {},
   "source": [
    "<font color=#330099>Create indices = days</font>"
   ]
  },
  {
   "cell_type": "code",
   "execution_count": 11,
   "id": "a4b868d2-a55b-4705-8c7b-0b0dacdf68da",
   "metadata": {},
   "outputs": [],
   "source": [
    "days = [\"Day{}\".format(x) for x in range(1,7)]"
   ]
  },
  {
   "cell_type": "code",
   "execution_count": 12,
   "id": "712b1bae-42ec-45e6-bc0d-fa54b553a9f9",
   "metadata": {},
   "outputs": [
    {
     "data": {
      "text/plain": [
       "['Day1', 'Day2', 'Day3', 'Day4', 'Day5', 'Day6']"
      ]
     },
     "execution_count": 12,
     "metadata": {},
     "output_type": "execute_result"
    }
   ],
   "source": [
    "days"
   ]
  },
  {
   "cell_type": "markdown",
   "id": "1da5e686-2c09-4994-8411-07d94c63ea4f",
   "metadata": {},
   "source": [
    "<font color=#330099>Read in the csv from the repo</font>"
   ]
  },
  {
   "cell_type": "code",
   "execution_count": 13,
   "id": "32f803f1-ba44-455d-8592-6897b0a31789",
   "metadata": {},
   "outputs": [],
   "source": [
    "zoomDF = pd.read_csv(\"./data/CR_WS_Zoom_data.csv\")"
   ]
  },
  {
   "cell_type": "markdown",
   "id": "28bac048-a0ff-446b-b6af-4c0092724386",
   "metadata": {},
   "source": [
    "<font color=#330099>A closer look</font>"
   ]
  },
  {
   "cell_type": "code",
   "execution_count": 14,
   "id": "51a8f08a-29d7-4ea1-bd2f-290bc4bd05f3",
   "metadata": {},
   "outputs": [
    {
     "data": {
      "text/html": [
       "<div>\n",
       "<style scoped>\n",
       "    .dataframe tbody tr th:only-of-type {\n",
       "        vertical-align: middle;\n",
       "    }\n",
       "\n",
       "    .dataframe tbody tr th {\n",
       "        vertical-align: top;\n",
       "    }\n",
       "\n",
       "    .dataframe thead th {\n",
       "        text-align: right;\n",
       "    }\n",
       "</style>\n",
       "<table border=\"1\" class=\"dataframe\">\n",
       "  <thead>\n",
       "    <tr style=\"text-align: right;\">\n",
       "      <th></th>\n",
       "      <th>Duration (Minutes)</th>\n",
       "      <th>Participants</th>\n",
       "    </tr>\n",
       "  </thead>\n",
       "  <tbody>\n",
       "    <tr>\n",
       "      <th>0</th>\n",
       "      <td>601</td>\n",
       "      <td>228</td>\n",
       "    </tr>\n",
       "    <tr>\n",
       "      <th>1</th>\n",
       "      <td>454</td>\n",
       "      <td>187</td>\n",
       "    </tr>\n",
       "    <tr>\n",
       "      <th>2</th>\n",
       "      <td>294</td>\n",
       "      <td>173</td>\n",
       "    </tr>\n",
       "    <tr>\n",
       "      <th>3</th>\n",
       "      <td>607</td>\n",
       "      <td>78</td>\n",
       "    </tr>\n",
       "    <tr>\n",
       "      <th>4</th>\n",
       "      <td>582</td>\n",
       "      <td>130</td>\n",
       "    </tr>\n",
       "    <tr>\n",
       "      <th>5</th>\n",
       "      <td>553</td>\n",
       "      <td>129</td>\n",
       "    </tr>\n",
       "  </tbody>\n",
       "</table>\n",
       "</div>"
      ],
      "text/plain": [
       "   Duration (Minutes)  Participants\n",
       "0                 601           228\n",
       "1                 454           187\n",
       "2                 294           173\n",
       "3                 607            78\n",
       "4                 582           130\n",
       "5                 553           129"
      ]
     },
     "execution_count": 14,
     "metadata": {},
     "output_type": "execute_result"
    }
   ],
   "source": [
    "zoomDF"
   ]
  },
  {
   "cell_type": "code",
   "execution_count": 15,
   "id": "b35388ce-12ac-4920-acfa-857a56bb6422",
   "metadata": {},
   "outputs": [],
   "source": [
    "zoomDF.Participants = [59, 42, 46, 25, 32, 40]"
   ]
  },
  {
   "cell_type": "markdown",
   "id": "67eadc3d-a245-43ed-b7e0-b5f72066675a",
   "metadata": {},
   "source": [
    "<font color=#330099>Add days to the dataframe and make them row indices</font>"
   ]
  },
  {
   "cell_type": "code",
   "execution_count": 16,
   "id": "1491703b-fb33-44d1-ad3b-39e99dc50294",
   "metadata": {},
   "outputs": [],
   "source": [
    "zoomDF['Day']=days"
   ]
  },
  {
   "cell_type": "code",
   "execution_count": 17,
   "id": "df9cd58d-b6d0-41b2-8140-b7174ff203cc",
   "metadata": {},
   "outputs": [],
   "source": [
    "zoomDF.set_index('Day', inplace = True)"
   ]
  },
  {
   "cell_type": "markdown",
   "id": "9a09ab38-f0cc-4855-ab7a-22ff924b3195",
   "metadata": {},
   "source": [
    "<font color=#330099>A closer look</font>"
   ]
  },
  {
   "cell_type": "code",
   "execution_count": 18,
   "id": "c0365720-0988-4b29-ae67-8d3d458bd3eb",
   "metadata": {},
   "outputs": [
    {
     "data": {
      "text/html": [
       "<div>\n",
       "<style scoped>\n",
       "    .dataframe tbody tr th:only-of-type {\n",
       "        vertical-align: middle;\n",
       "    }\n",
       "\n",
       "    .dataframe tbody tr th {\n",
       "        vertical-align: top;\n",
       "    }\n",
       "\n",
       "    .dataframe thead th {\n",
       "        text-align: right;\n",
       "    }\n",
       "</style>\n",
       "<table border=\"1\" class=\"dataframe\">\n",
       "  <thead>\n",
       "    <tr style=\"text-align: right;\">\n",
       "      <th></th>\n",
       "      <th>Duration (Minutes)</th>\n",
       "      <th>Participants</th>\n",
       "    </tr>\n",
       "    <tr>\n",
       "      <th>Day</th>\n",
       "      <th></th>\n",
       "      <th></th>\n",
       "    </tr>\n",
       "  </thead>\n",
       "  <tbody>\n",
       "    <tr>\n",
       "      <th>Day1</th>\n",
       "      <td>601</td>\n",
       "      <td>59</td>\n",
       "    </tr>\n",
       "    <tr>\n",
       "      <th>Day2</th>\n",
       "      <td>454</td>\n",
       "      <td>42</td>\n",
       "    </tr>\n",
       "    <tr>\n",
       "      <th>Day3</th>\n",
       "      <td>294</td>\n",
       "      <td>46</td>\n",
       "    </tr>\n",
       "    <tr>\n",
       "      <th>Day4</th>\n",
       "      <td>607</td>\n",
       "      <td>25</td>\n",
       "    </tr>\n",
       "    <tr>\n",
       "      <th>Day5</th>\n",
       "      <td>582</td>\n",
       "      <td>32</td>\n",
       "    </tr>\n",
       "    <tr>\n",
       "      <th>Day6</th>\n",
       "      <td>553</td>\n",
       "      <td>40</td>\n",
       "    </tr>\n",
       "  </tbody>\n",
       "</table>\n",
       "</div>"
      ],
      "text/plain": [
       "      Duration (Minutes)  Participants\n",
       "Day                                   \n",
       "Day1                 601            59\n",
       "Day2                 454            42\n",
       "Day3                 294            46\n",
       "Day4                 607            25\n",
       "Day5                 582            32\n",
       "Day6                 553            40"
      ]
     },
     "execution_count": 18,
     "metadata": {},
     "output_type": "execute_result"
    }
   ],
   "source": [
    "zoomDF"
   ]
  },
  {
   "cell_type": "markdown",
   "id": "35885c8e-5c81-4f4d-9280-d7f6c53e7ed7",
   "metadata": {
    "tags": []
   },
   "source": [
    "### Zoom durations and participants\n",
    "<a id =2> </a>"
   ]
  },
  {
   "cell_type": "code",
   "execution_count": 19,
   "id": "d0ba0cf6-32fc-40f3-834d-504e34d29039",
   "metadata": {
    "tags": []
   },
   "outputs": [
    {
     "data": {
      "image/png": "[encoded data removed]",
      "text/plain": [
       "<Figure size 640x480 with 1 Axes>"
      ]
     },
     "metadata": {},
     "output_type": "display_data"
    }
   ],
   "source": [
    "sns.barplot(x=zoomDF.index, y=zoomDF.columns[0], data=zoomDF).set(title=\"Zoom {}\".format(zoomDF.columns[0]))\n",
    "plt.savefig(\"./plots/Zoom_duration.png\")"
   ]
  },
  {
   "cell_type": "code",
   "execution_count": 20,
   "id": "3c75d4ef-7ad8-4906-8952-696a3d52dca9",
   "metadata": {
    "tags": []
   },
   "outputs": [
    {
     "data": {
      "image/png": "[encoded data removed]",
      "text/plain": [
       "<Figure size 640x480 with 1 Axes>"
      ]
     },
     "metadata": {},
     "output_type": "display_data"
    }
   ],
   "source": [
    "sns.barplot(x=zoomDF.index, y=zoomDF.columns[1], data=zoomDF).set(title=\"Zoom {}\".format(zoomDF.columns[1]))\n",
    "plt.savefig(\"./plots/Zoom_participants.png\")"
   ]
  },
  {
   "cell_type": "markdown",
   "id": "7fffe5ef-25d0-4391-9709-74c3a3a5fc24",
   "metadata": {},
   "source": [
    "# One graph to rule them all"
   ]
  },
  {
   "cell_type": "code",
   "execution_count": 21,
   "id": "5e8c629f-9e3e-4dc7-aebf-e15a60c82a56",
   "metadata": {},
   "outputs": [],
   "source": [
    "combined_cols = [\"Zoom_participants\", \"Twitch_views_avg\", \"Twitch_views_min\", \"Twitch_views_max\"]"
   ]
  },
  {
   "cell_type": "code",
   "execution_count": 22,
   "id": "545bd7b3-9cfe-40f0-8fe0-51148a3400c9",
   "metadata": {},
   "outputs": [],
   "source": [
    "#combined_DF = zoomDF.copy(deep = True)\n",
    "combined_DF = zoomDF.drop(\"Duration (Minutes)\",axis=1).copy(deep = True)"
   ]
  },
  {
   "cell_type": "code",
   "execution_count": 23,
   "id": "41602c3f-20d3-49e2-9203-74781b8bd7e9",
   "metadata": {},
   "outputs": [],
   "source": [
    "combined_DF[\"Twitch_views_mean\"] = Viewers_mean\n",
    "combined_DF[\"Twitch_views_min\"] = Viewers_min\n",
    "combined_DF[\"Twitch_views_max\"] = Viewers_max"
   ]
  },
  {
   "cell_type": "code",
   "execution_count": 24,
   "id": "e4d58742-43cf-4b0d-9ddf-c32c892b9a64",
   "metadata": {},
   "outputs": [],
   "source": [
    "combined_DF.columns=combined_cols"
   ]
  },
  {
   "cell_type": "code",
   "execution_count": 25,
   "id": "a258ed7d-5184-4991-8e39-abf3aa6e26cc",
   "metadata": {},
   "outputs": [
    {
     "data": {
      "image/png": "[encoded data removed]",
      "text/plain": [
       "<Figure size 640x480 with 1 Axes>"
      ]
     },
     "metadata": {},
     "output_type": "display_data"
    }
   ],
   "source": [
    "combined_DF.plot(kind=\"bar\")\n",
    "plt.title(\"Online participants\")\n",
    "plt.savefig(\"./plots/OnlineParticipants.png\")"
   ]
  },
  {
   "cell_type": "code",
   "execution_count": null,
   "id": "ea6ea162-f70b-4de1-9cd8-b353f39ed437",
   "metadata": {},
   "outputs": [],
   "source": []
  }
 ],
 "metadata": {
  "kernelspec": {
   "display_name": "Python 3 (ipykernel)",
   "language": "python",
   "name": "python3"
  },
  "language_info": {
   "codemirror_mode": {
    "name": "ipython",
    "version": 3
   },
   "file_extension": ".py",
   "mimetype": "text/x-python",
   "name": "python",
   "nbconvert_exporter": "python",
   "pygments_lexer": "ipython3",
   "version": "3.10.6"
  }
 },
 "nbformat": 4,
 "nbformat_minor": 5
}
