{
 "cells": [
  {
   "cell_type": "markdown",
   "id": "209aa622-5bc5-4a2b-b15e-131db332e2eb",
   "metadata": {},
   "source": [
    "# Twitch and Zoom stats"
   ]
  },
  {
   "cell_type": "code",
   "execution_count": 1,
   "id": "1f9ad886-1c3b-4c3d-ad46-1923324fff91",
   "metadata": {},
   "outputs": [],
   "source": [
    "import numpy as np\n",
    "import pandas as pd\n",
    "import seaborn as sns # For plotting\n",
    "import matplotlib.pyplot as plt"
   ]
  },
  {
   "cell_type": "markdown",
   "id": "8d004be9-d1bc-44a0-b081-e1cedf5662bf",
   "metadata": {},
   "source": [
    "<mark>Jump right into analyses from here:</mark>\n",
    "\n",
    "[Twitch durations and participants](#1)  \n",
    "[Zoom Durations and participants](#2)  "
   ]
  },
  {
   "cell_type": "markdown",
   "id": "91b7bb78-79a1-48ae-b40a-b9378cb9256e",
   "metadata": {},
   "source": [
    "## Twitch  \n",
    "### Read in the csv"
   ]
  },
  {
   "cell_type": "markdown",
   "id": "8bbac043-92a2-4270-a500-89da9aa60d45",
   "metadata": {},
   "source": [
    "<font color=#330099>Read in the csv from the repo and set time as index</font>"
   ]
  },
  {
   "cell_type": "markdown",
   "id": "4dee300a-836a-4f5b-b866-cb58ed54501a",
   "metadata": {},
   "source": [
    "> Should start from 10 AM sharp and maybe take couple of last values away"
   ]
  },
  {
   "cell_type": "code",
   "execution_count": 2,
   "id": "067cbad1-4d9d-4ec8-88f7-140efda5c6bc",
   "metadata": {},
   "outputs": [],
   "source": [
    "twitchDF_day1 = pd.read_csv(\"./data/Stream Session from 9_20_2022 to 9_20_2022.csv\")\n",
    "twitchDF_day2 = pd.read_csv(\"./data/Stream Session from 9_21_2022 to 9_21_2022.csv\")\n",
    "twitchDF_day3 = pd.read_csv(\"./data/Stream Session from 9_22_2022 to 9_22_2022.csv\")\n",
    "twitchDF_day4 = pd.read_csv(\"./data/Stream Session from 9_27_2022 to 9_27_2022.csv\")\n",
    "twitchDF_day5 = pd.read_csv(\"./data/Stream Session from 9_28_2022 to 9_28_2022.csv\")\n",
    "twitchDF_day6 = pd.read_csv(\"./data/Stream Session from 9_29_2022 to 9_29_2022.csv\")\n",
    "\n",
    "twitchDF_day1.set_index(\"Timestamp\", inplace=True)\n",
    "twitchDF_day2.set_index(\"Timestamp\", inplace=True)\n",
    "twitchDF_day3.set_index(\"Timestamp\", inplace=True)\n",
    "twitchDF_day4.set_index(\"Timestamp\", inplace=True)\n",
    "twitchDF_day5.set_index(\"Timestamp\", inplace=True)\n",
    "twitchDF_day6.set_index(\"Timestamp\", inplace=True)"
   ]
  },
  {
   "cell_type": "markdown",
   "id": "2df938a5-48ad-4dcb-a815-ff53fa3eb3c1",
   "metadata": {},
   "source": [
    "<font color=#330099>A closer look</font>"
   ]
  },
  {
   "cell_type": "code",
   "execution_count": 3,
   "id": "83bb0510-22cc-4312-819d-8444e175cf34",
   "metadata": {},
   "outputs": [
    {
     "data": {
      "text/html": [
       "<div>\n",
       "<style scoped>\n",
       "    .dataframe tbody tr th:only-of-type {\n",
       "        vertical-align: middle;\n",
       "    }\n",
       "\n",
       "    .dataframe tbody tr th {\n",
       "        vertical-align: top;\n",
       "    }\n",
       "\n",
       "    .dataframe thead th {\n",
       "        text-align: right;\n",
       "    }\n",
       "</style>\n",
       "<table border=\"1\" class=\"dataframe\">\n",
       "  <thead>\n",
       "    <tr style=\"text-align: right;\">\n",
       "      <th></th>\n",
       "      <th>Viewers</th>\n",
       "      <th>Live Views</th>\n",
       "      <th>New Followers</th>\n",
       "      <th>Chatters</th>\n",
       "      <th>Chat Messages</th>\n",
       "      <th>Ad Breaks</th>\n",
       "      <th>Subscriptions</th>\n",
       "      <th>Clips Created</th>\n",
       "      <th>All Clip Views</th>\n",
       "    </tr>\n",
       "    <tr>\n",
       "      <th>Timestamp</th>\n",
       "      <th></th>\n",
       "      <th></th>\n",
       "      <th></th>\n",
       "      <th></th>\n",
       "      <th></th>\n",
       "      <th></th>\n",
       "      <th></th>\n",
       "      <th></th>\n",
       "      <th></th>\n",
       "    </tr>\n",
       "  </thead>\n",
       "  <tbody>\n",
       "    <tr>\n",
       "      <th>9:35 AM</th>\n",
       "      <td>18.0</td>\n",
       "      <td>22.0</td>\n",
       "      <td>NaN</td>\n",
       "      <td>NaN</td>\n",
       "      <td>NaN</td>\n",
       "      <td>NaN</td>\n",
       "      <td>NaN</td>\n",
       "      <td>NaN</td>\n",
       "      <td>NaN</td>\n",
       "    </tr>\n",
       "    <tr>\n",
       "      <th>9:40 AM</th>\n",
       "      <td>38.0</td>\n",
       "      <td>21.0</td>\n",
       "      <td>2.0</td>\n",
       "      <td>NaN</td>\n",
       "      <td>NaN</td>\n",
       "      <td>NaN</td>\n",
       "      <td>NaN</td>\n",
       "      <td>NaN</td>\n",
       "      <td>NaN</td>\n",
       "    </tr>\n",
       "    <tr>\n",
       "      <th>9:45 AM</th>\n",
       "      <td>56.2</td>\n",
       "      <td>32.0</td>\n",
       "      <td>NaN</td>\n",
       "      <td>NaN</td>\n",
       "      <td>NaN</td>\n",
       "      <td>NaN</td>\n",
       "      <td>NaN</td>\n",
       "      <td>NaN</td>\n",
       "      <td>NaN</td>\n",
       "    </tr>\n",
       "    <tr>\n",
       "      <th>9:50 AM</th>\n",
       "      <td>81.8</td>\n",
       "      <td>31.0</td>\n",
       "      <td>NaN</td>\n",
       "      <td>NaN</td>\n",
       "      <td>NaN</td>\n",
       "      <td>NaN</td>\n",
       "      <td>NaN</td>\n",
       "      <td>NaN</td>\n",
       "      <td>NaN</td>\n",
       "    </tr>\n",
       "    <tr>\n",
       "      <th>9:55 AM</th>\n",
       "      <td>99.8</td>\n",
       "      <td>31.0</td>\n",
       "      <td>NaN</td>\n",
       "      <td>NaN</td>\n",
       "      <td>NaN</td>\n",
       "      <td>NaN</td>\n",
       "      <td>NaN</td>\n",
       "      <td>NaN</td>\n",
       "      <td>NaN</td>\n",
       "    </tr>\n",
       "  </tbody>\n",
       "</table>\n",
       "</div>"
      ],
      "text/plain": [
       "           Viewers  Live Views  New Followers  Chatters  Chat Messages  \\\n",
       "Timestamp                                                                \n",
       "9:35 AM       18.0        22.0            NaN       NaN            NaN   \n",
       "9:40 AM       38.0        21.0            2.0       NaN            NaN   \n",
       "9:45 AM       56.2        32.0            NaN       NaN            NaN   \n",
       "9:50 AM       81.8        31.0            NaN       NaN            NaN   \n",
       "9:55 AM       99.8        31.0            NaN       NaN            NaN   \n",
       "\n",
       "           Ad Breaks  Subscriptions  Clips Created  All Clip Views  \n",
       "Timestamp                                                           \n",
       "9:35 AM          NaN            NaN            NaN             NaN  \n",
       "9:40 AM          NaN            NaN            NaN             NaN  \n",
       "9:45 AM          NaN            NaN            NaN             NaN  \n",
       "9:50 AM          NaN            NaN            NaN             NaN  \n",
       "9:55 AM          NaN            NaN            NaN             NaN  "
      ]
     },
     "execution_count": 3,
     "metadata": {},
     "output_type": "execute_result"
    }
   ],
   "source": [
    "twitchDF_day1.head()"
   ]
  },
  {
   "cell_type": "code",
   "execution_count": null,
   "id": "f858ba7f-03c4-4796-8355-0af99bda597c",
   "metadata": {},
   "outputs": [],
   "source": []
  },
  {
   "cell_type": "markdown",
   "id": "280f3e5b-2950-4fe3-9c57-d369713134ac",
   "metadata": {
    "tags": []
   },
   "source": [
    "### Twitch durations and participants\n",
    "<a id =1> </a>"
   ]
  },
  {
   "cell_type": "code",
   "execution_count": 4,
   "id": "3ce3622c-9362-448b-9b01-b84c7d276878",
   "metadata": {},
   "outputs": [],
   "source": [
    "DFs = [twitchDF_day1,twitchDF_day2,twitchDF_day3,twitchDF_day4,twitchDF_day5,twitchDF_day6]"
   ]
  },
  {
   "cell_type": "code",
   "execution_count": 17,
   "id": "593f9c06-b2a4-4353-8843-22b2dd1df3e8",
   "metadata": {},
   "outputs": [
    {
     "data": {
      "image/png": "[encoded data removed]",
      "text/plain": [
       "<Figure size 640x480 with 1 Axes>"
      ]
     },
     "metadata": {},
     "output_type": "display_data"
    }
   ],
   "source": [
    "for i,df in enumerate(DFs, start=1):\n",
    "    ax = sns.barplot(x=df.index, y=df.columns[0], data=df)\n",
    "    ax.set(title=\"Day {}: {}\".format(i,df.columns[0]))\n",
    "    ax.set_xticklabels(df.index)\n",
    "    ax.tick_params(labelrotation = 290)\n",
    "    plt.savefig(\"./plots/Day_{}_{}.png\".format(i,df.columns[0]))\n",
    "#    plt.show()"
   ]
  },
  {
   "cell_type": "code",
   "execution_count": 6,
   "id": "29c15d3b-e14c-4298-91da-c318fcf72693",
   "metadata": {},
   "outputs": [
    {
     "data": {
      "image/png": "[encoded data removed]",
      "text/plain": [
       "<Figure size 640x480 with 1 Axes>"
      ]
     },
     "metadata": {},
     "output_type": "display_data"
    }
   ],
   "source": [
    "for i,df in enumerate(DFs, start=1):\n",
    "    ax = sns.barplot(x=df.index, y=df.columns[1], data=df)\n",
    "    ax.set(title=\"Day {}: {}\".format(i,df.columns[1]))\n",
    "    ax.set_xticklabels(df.index)\n",
    "    ax.tick_params(labelrotation = 290)\n",
    "    plt.savefig(\"./plots/Day_{}_{}.png\".format(i,df.columns[1]))\n",
    "#    plt.show()"
   ]
  },
  {
   "cell_type": "code",
   "execution_count": 58,
   "id": "1a64c1c5-36a3-42e2-a4df-46b0f66efc33",
   "metadata": {},
   "outputs": [],
   "source": [
    "# Collect min max etc to lists\n",
    "Viewers_mean = []\n",
    "Viewers_min = []\n",
    "Viewers_max = []"
   ]
  },
  {
   "cell_type": "code",
   "execution_count": 59,
   "id": "9d58bc59-a89c-4662-8e52-40cd112acfc7",
   "metadata": {},
   "outputs": [
    {
     "name": "stdout",
     "output_type": "stream",
     "text": [
      "Day 1 viewers mean: 124.948\n",
      "Day 1 viewers min: 18.0\n",
      "Day 1 viewers max: 157.0\n",
      "Day 1 new followers: 9.0\n",
      "Day 1 chatters: 22.0\n",
      "Day 1 subscriptions: 0.0\n",
      "------------------------------\n",
      "Day 2 viewers mean: 121.575\n",
      "Day 2 viewers min: 20.0\n",
      "Day 2 viewers max: 141.4\n",
      "Day 2 new followers: 4.0\n",
      "Day 2 chatters: 9.0\n",
      "Day 2 subscriptions: 0.0\n",
      "------------------------------\n",
      "Day 3 viewers mean: 88.36734693877551\n",
      "Day 3 viewers min: 14.4\n",
      "Day 3 viewers max: 101.2\n",
      "Day 3 new followers: 1.0\n",
      "Day 3 chatters: 8.0\n",
      "Day 3 subscriptions: 0.0\n",
      "------------------------------\n",
      "Day 4 viewers mean: 82.40333333333332\n",
      "Day 4 viewers min: 14.666666666666666\n",
      "Day 4 viewers max: 97.0\n",
      "Day 4 new followers: 2.0\n",
      "Day 4 chatters: 3.0\n",
      "Day 4 subscriptions: 0.0\n",
      "------------------------------\n",
      "Day 5 viewers mean: 89.0506666666667\n",
      "Day 5 viewers min: 10.333333333333334\n",
      "Day 5 viewers max: 103.8\n",
      "Day 5 new followers: 3.0\n",
      "Day 5 chatters: 7.0\n",
      "Day 5 subscriptions: 0.0\n",
      "------------------------------\n",
      "Day 6 viewers mean: 79.232\n",
      "Day 6 viewers min: 10.0\n",
      "Day 6 viewers max: 97.8\n",
      "Day 6 new followers: 2.0\n",
      "Day 6 chatters: 10.0\n",
      "Day 6 subscriptions: 0.0\n",
      "------------------------------\n"
     ]
    }
   ],
   "source": [
    "for i,df in enumerate(DFs, start=1):\n",
    "    print(\"Day {} viewers mean:\".format(i), df.Viewers.mean())\n",
    "    Viewers_mean.append(df.Viewers.mean().astype(int))\n",
    "    print(\"Day {} viewers min:\".format(i), df.Viewers.min())\n",
    "    Viewers_min.append(df.Viewers.min().astype(int))\n",
    "    print(\"Day {} viewers max:\".format(i), df.Viewers.max())\n",
    "    Viewers_max.append(df.Viewers.max().astype(int))\n",
    "    print(\"Day {} new followers:\".format(i), df[\"New Followers\"].sum())\n",
    "    print(\"Day {} chatters:\".format(i), df[\"Chatters\"].sum())\n",
    "    print(\"Day {} subscriptions:\".format(i), df[\"Subscriptions\"].sum())\n",
    "    print(\"------------------------------\")"
   ]
  },
  {
   "cell_type": "markdown",
   "id": "a6ed8999-4a78-4cb4-8bec-e80fea324f13",
   "metadata": {},
   "source": [
    "Viewers_mean = pd.Series(Viewers_mean)\n",
    "Viewers_min = pd.Series(Viewers_min)\n",
    "Viewers_max = pd.Series(Viewers_max)"
   ]
  },
  {
   "cell_type": "markdown",
   "id": "439326d1-db00-4ae2-81ce-1e4a78fe208f",
   "metadata": {},
   "source": [
    "## Zoom stats"
   ]
  },
  {
   "cell_type": "markdown",
   "id": "7afe3047-a82b-44fa-a89b-ebc0e7c44f42",
   "metadata": {},
   "source": [
    "### Read in the csv"
   ]
  },
  {
   "cell_type": "markdown",
   "id": "753da5d0-7dcd-4bab-9c8a-43e9b4fa83ac",
   "metadata": {},
   "source": [
    "<font color=#330099>Create indices = days</font>"
   ]
  },
  {
   "cell_type": "code",
   "execution_count": 60,
   "id": "a4b868d2-a55b-4705-8c7b-0b0dacdf68da",
   "metadata": {},
   "outputs": [],
   "source": [
    "days = [\"Day{}\".format(x) for x in range(1,7)]"
   ]
  },
  {
   "cell_type": "code",
   "execution_count": 61,
   "id": "712b1bae-42ec-45e6-bc0d-fa54b553a9f9",
   "metadata": {},
   "outputs": [
    {
     "data": {
      "text/plain": [
       "['Day1', 'Day2', 'Day3', 'Day4', 'Day5', 'Day6']"
      ]
     },
     "execution_count": 61,
     "metadata": {},
     "output_type": "execute_result"
    }
   ],
   "source": [
    "days"
   ]
  },
  {
   "cell_type": "markdown",
   "id": "1da5e686-2c09-4994-8411-07d94c63ea4f",
   "metadata": {},
   "source": [
    "<font color=#330099>Read in the csv from the repo</font>"
   ]
  },
  {
   "cell_type": "code",
   "execution_count": 62,
   "id": "32f803f1-ba44-455d-8592-6897b0a31789",
   "metadata": {},
   "outputs": [],
   "source": [
    "zoomDF = pd.read_csv(\"./data/CR_WS_Zoom_data.csv\")"
   ]
  },
  {
   "cell_type": "markdown",
   "id": "28bac048-a0ff-446b-b6af-4c0092724386",
   "metadata": {},
   "source": [
    "<font color=#330099>A closer look</font>"
   ]
  },
  {
   "cell_type": "code",
   "execution_count": 75,
   "id": "51a8f08a-29d7-4ea1-bd2f-290bc4bd05f3",
   "metadata": {},
   "outputs": [
    {
     "data": {
      "text/html": [
       "<div>\n",
       "<style scoped>\n",
       "    .dataframe tbody tr th:only-of-type {\n",
       "        vertical-align: middle;\n",
       "    }\n",
       "\n",
       "    .dataframe tbody tr th {\n",
       "        vertical-align: top;\n",
       "    }\n",
       "\n",
       "    .dataframe thead th {\n",
       "        text-align: right;\n",
       "    }\n",
       "</style>\n",
       "<table border=\"1\" class=\"dataframe\">\n",
       "  <thead>\n",
       "    <tr style=\"text-align: right;\">\n",
       "      <th></th>\n",
       "      <th>Duration (Minutes)</th>\n",
       "      <th>Participants</th>\n",
       "    </tr>\n",
       "    <tr>\n",
       "      <th>Day</th>\n",
       "      <th></th>\n",
       "      <th></th>\n",
       "    </tr>\n",
       "  </thead>\n",
       "  <tbody>\n",
       "    <tr>\n",
       "      <th>Day1</th>\n",
       "      <td>601</td>\n",
       "      <td>59</td>\n",
       "    </tr>\n",
       "    <tr>\n",
       "      <th>Day2</th>\n",
       "      <td>454</td>\n",
       "      <td>42</td>\n",
       "    </tr>\n",
       "    <tr>\n",
       "      <th>Day3</th>\n",
       "      <td>294</td>\n",
       "      <td>46</td>\n",
       "    </tr>\n",
       "    <tr>\n",
       "      <th>Day4</th>\n",
       "      <td>607</td>\n",
       "      <td>25</td>\n",
       "    </tr>\n",
       "    <tr>\n",
       "      <th>Day5</th>\n",
       "      <td>582</td>\n",
       "      <td>32</td>\n",
       "    </tr>\n",
       "    <tr>\n",
       "      <th>Day6</th>\n",
       "      <td>553</td>\n",
       "      <td>40</td>\n",
       "    </tr>\n",
       "  </tbody>\n",
       "</table>\n",
       "</div>"
      ],
      "text/plain": [
       "      Duration (Minutes)  Participants\n",
       "Day                                   \n",
       "Day1                 601            59\n",
       "Day2                 454            42\n",
       "Day3                 294            46\n",
       "Day4                 607            25\n",
       "Day5                 582            32\n",
       "Day6                 553            40"
      ]
     },
     "execution_count": 75,
     "metadata": {},
     "output_type": "execute_result"
    }
   ],
   "source": [
    "zoomDF"
   ]
  },
  {
   "cell_type": "code",
   "execution_count": 74,
   "id": "b35388ce-12ac-4920-acfa-857a56bb6422",
   "metadata": {},
   "outputs": [],
   "source": [
    "zoomDF.Participants = [59, 42, 46, 25, 32, 40]"
   ]
  },
  {
   "cell_type": "markdown",
   "id": "67eadc3d-a245-43ed-b7e0-b5f72066675a",
   "metadata": {},
   "source": [
    "<font color=#330099>Add days to the dataframe and make them row indices</font>"
   ]
  },
  {
   "cell_type": "code",
   "execution_count": 64,
   "id": "1491703b-fb33-44d1-ad3b-39e99dc50294",
   "metadata": {},
   "outputs": [],
   "source": [
    "zoomDF['Day']=days"
   ]
  },
  {
   "cell_type": "code",
   "execution_count": 65,
   "id": "df9cd58d-b6d0-41b2-8140-b7174ff203cc",
   "metadata": {},
   "outputs": [],
   "source": [
    "zoomDF.set_index('Day', inplace = True)"
   ]
  },
  {
   "cell_type": "markdown",
   "id": "9a09ab38-f0cc-4855-ab7a-22ff924b3195",
   "metadata": {},
   "source": [
    "<font color=#330099>A closer look</font>"
   ]
  },
  {
   "cell_type": "code",
   "execution_count": 76,
   "id": "c0365720-0988-4b29-ae67-8d3d458bd3eb",
   "metadata": {},
   "outputs": [
    {
     "data": {
      "text/html": [
       "<div>\n",
       "<style scoped>\n",
       "    .dataframe tbody tr th:only-of-type {\n",
       "        vertical-align: middle;\n",
       "    }\n",
       "\n",
       "    .dataframe tbody tr th {\n",
       "        vertical-align: top;\n",
       "    }\n",
       "\n",
       "    .dataframe thead th {\n",
       "        text-align: right;\n",
       "    }\n",
       "</style>\n",
       "<table border=\"1\" class=\"dataframe\">\n",
       "  <thead>\n",
       "    <tr style=\"text-align: right;\">\n",
       "      <th></th>\n",
       "      <th>Duration (Minutes)</th>\n",
       "      <th>Participants</th>\n",
       "    </tr>\n",
       "    <tr>\n",
       "      <th>Day</th>\n",
       "      <th></th>\n",
       "      <th></th>\n",
       "    </tr>\n",
       "  </thead>\n",
       "  <tbody>\n",
       "    <tr>\n",
       "      <th>Day1</th>\n",
       "      <td>601</td>\n",
       "      <td>59</td>\n",
       "    </tr>\n",
       "    <tr>\n",
       "      <th>Day2</th>\n",
       "      <td>454</td>\n",
       "      <td>42</td>\n",
       "    </tr>\n",
       "    <tr>\n",
       "      <th>Day3</th>\n",
       "      <td>294</td>\n",
       "      <td>46</td>\n",
       "    </tr>\n",
       "    <tr>\n",
       "      <th>Day4</th>\n",
       "      <td>607</td>\n",
       "      <td>25</td>\n",
       "    </tr>\n",
       "    <tr>\n",
       "      <th>Day5</th>\n",
       "      <td>582</td>\n",
       "      <td>32</td>\n",
       "    </tr>\n",
       "    <tr>\n",
       "      <th>Day6</th>\n",
       "      <td>553</td>\n",
       "      <td>40</td>\n",
       "    </tr>\n",
       "  </tbody>\n",
       "</table>\n",
       "</div>"
      ],
      "text/plain": [
       "      Duration (Minutes)  Participants\n",
       "Day                                   \n",
       "Day1                 601            59\n",
       "Day2                 454            42\n",
       "Day3                 294            46\n",
       "Day4                 607            25\n",
       "Day5                 582            32\n",
       "Day6                 553            40"
      ]
     },
     "execution_count": 76,
     "metadata": {},
     "output_type": "execute_result"
    }
   ],
   "source": [
    "zoomDF"
   ]
  },
  {
   "cell_type": "markdown",
   "id": "35885c8e-5c81-4f4d-9280-d7f6c53e7ed7",
   "metadata": {
    "tags": []
   },
   "source": [
    "### Zoom durations and participants\n",
    "<a id =2> </a>"
   ]
  },
  {
   "cell_type": "code",
   "execution_count": 77,
   "id": "d0ba0cf6-32fc-40f3-834d-504e34d29039",
   "metadata": {
    "tags": []
   },
   "outputs": [
    {
     "data": {
      "text/plain": [
       "[Text(0.5, 1.0, 'Duration (Minutes)')]"
      ]
     },
     "execution_count": 77,
     "metadata": {},
     "output_type": "execute_result"
    },
    {
     "data": {
      "image/png": "[encoded data removed]",
      "text/plain": [
       "<Figure size 640x480 with 1 Axes>"
      ]
     },
     "metadata": {},
     "output_type": "display_data"
    }
   ],
   "source": [
    "sns.barplot(x=zoomDF.index, y=zoomDF.columns[0], data=zoomDF).set(title=zoomDF.columns[0])"
   ]
  },
  {
   "cell_type": "code",
   "execution_count": 78,
   "id": "3c75d4ef-7ad8-4906-8952-696a3d52dca9",
   "metadata": {
    "tags": []
   },
   "outputs": [
    {
     "data": {
      "text/plain": [
       "[Text(0.5, 1.0, 'Participants')]"
      ]
     },
     "execution_count": 78,
     "metadata": {},
     "output_type": "execute_result"
    },
    {
     "data": {
      "image/png": "[encoded data removed]",
      "text/plain": [
       "<Figure size 640x480 with 1 Axes>"
      ]
     },
     "metadata": {},
     "output_type": "display_data"
    }
   ],
   "source": [
    "sns.barplot(x=zoomDF.index, y=zoomDF.columns[1], data=zoomDF).set(title=zoomDF.columns[1])"
   ]
  },
  {
   "cell_type": "markdown",
   "id": "7fffe5ef-25d0-4391-9709-74c3a3a5fc24",
   "metadata": {},
   "source": [
    "# One graph to rule them all"
   ]
  },
  {
   "cell_type": "code",
   "execution_count": 79,
   "id": "5e8c629f-9e3e-4dc7-aebf-e15a60c82a56",
   "metadata": {},
   "outputs": [],
   "source": [
    "combined_cols = [\"Zoom_participants\", \"Twitch_views_MAX\", \"Twitch_views_MIN\", \"Twitch_views_AVG\"]"
   ]
  },
  {
   "cell_type": "code",
   "execution_count": 80,
   "id": "545bd7b3-9cfe-40f0-8fe0-51148a3400c9",
   "metadata": {},
   "outputs": [],
   "source": [
    "#combined_DF = zoomDF.copy(deep = True)\n",
    "combined_DF = zoomDF.drop(\"Duration (Minutes)\",axis=1).copy(deep = True)"
   ]
  },
  {
   "cell_type": "code",
   "execution_count": 81,
   "id": "41602c3f-20d3-49e2-9203-74781b8bd7e9",
   "metadata": {},
   "outputs": [],
   "source": [
    "combined_DF[\"Twitch_views_mean\"] = Viewers_mean\n",
    "combined_DF[\"Twitch_views_min\"] = Viewers_min\n",
    "combined_DF[\"Twitch_views_max\"] = Viewers_max"
   ]
  },
  {
   "cell_type": "code",
   "execution_count": 82,
   "id": "e4d58742-43cf-4b0d-9ddf-c32c892b9a64",
   "metadata": {},
   "outputs": [
    {
     "data": {
      "text/html": [
       "<div>\n",
       "<style scoped>\n",
       "    .dataframe tbody tr th:only-of-type {\n",
       "        vertical-align: middle;\n",
       "    }\n",
       "\n",
       "    .dataframe tbody tr th {\n",
       "        vertical-align: top;\n",
       "    }\n",
       "\n",
       "    .dataframe thead th {\n",
       "        text-align: right;\n",
       "    }\n",
       "</style>\n",
       "<table border=\"1\" class=\"dataframe\">\n",
       "  <thead>\n",
       "    <tr style=\"text-align: right;\">\n",
       "      <th></th>\n",
       "      <th>Participants</th>\n",
       "      <th>Twitch_views_mean</th>\n",
       "      <th>Twitch_views_min</th>\n",
       "      <th>Twitch_views_max</th>\n",
       "    </tr>\n",
       "    <tr>\n",
       "      <th>Day</th>\n",
       "      <th></th>\n",
       "      <th></th>\n",
       "      <th></th>\n",
       "      <th></th>\n",
       "    </tr>\n",
       "  </thead>\n",
       "  <tbody>\n",
       "    <tr>\n",
       "      <th>Day1</th>\n",
       "      <td>59</td>\n",
       "      <td>124</td>\n",
       "      <td>18</td>\n",
       "      <td>157</td>\n",
       "    </tr>\n",
       "    <tr>\n",
       "      <th>Day2</th>\n",
       "      <td>42</td>\n",
       "      <td>121</td>\n",
       "      <td>20</td>\n",
       "      <td>141</td>\n",
       "    </tr>\n",
       "    <tr>\n",
       "      <th>Day3</th>\n",
       "      <td>46</td>\n",
       "      <td>88</td>\n",
       "      <td>14</td>\n",
       "      <td>101</td>\n",
       "    </tr>\n",
       "    <tr>\n",
       "      <th>Day4</th>\n",
       "      <td>25</td>\n",
       "      <td>82</td>\n",
       "      <td>14</td>\n",
       "      <td>97</td>\n",
       "    </tr>\n",
       "    <tr>\n",
       "      <th>Day5</th>\n",
       "      <td>32</td>\n",
       "      <td>89</td>\n",
       "      <td>10</td>\n",
       "      <td>103</td>\n",
       "    </tr>\n",
       "    <tr>\n",
       "      <th>Day6</th>\n",
       "      <td>40</td>\n",
       "      <td>79</td>\n",
       "      <td>10</td>\n",
       "      <td>97</td>\n",
       "    </tr>\n",
       "  </tbody>\n",
       "</table>\n",
       "</div>"
      ],
      "text/plain": [
       "      Participants  Twitch_views_mean  Twitch_views_min  Twitch_views_max\n",
       "Day                                                                      \n",
       "Day1            59                124                18               157\n",
       "Day2            42                121                20               141\n",
       "Day3            46                 88                14               101\n",
       "Day4            25                 82                14                97\n",
       "Day5            32                 89                10               103\n",
       "Day6            40                 79                10                97"
      ]
     },
     "execution_count": 82,
     "metadata": {},
     "output_type": "execute_result"
    }
   ],
   "source": [
    "combined_DF"
   ]
  },
  {
   "cell_type": "code",
   "execution_count": null,
   "id": "98f97d8b-78b1-4e96-b316-976974dca346",
   "metadata": {},
   "outputs": [],
   "source": []
  }
 ],
 "metadata": {
  "kernelspec": {
   "display_name": "Python 3 (ipykernel)",
   "language": "python",
   "name": "python3"
  },
  "language_info": {
   "codemirror_mode": {
    "name": "ipython",
    "version": 3
   },
   "file_extension": ".py",
   "mimetype": "text/x-python",
   "name": "python",
   "nbconvert_exporter": "python",
   "pygments_lexer": "ipython3",
   "version": "3.10.6"
  }
 },
 "nbformat": 4,
 "nbformat_minor": 5
}
