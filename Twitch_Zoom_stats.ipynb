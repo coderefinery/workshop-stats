{
 "cells": [
  {
   "cell_type": "markdown",
   "id": "209aa622-5bc5-4a2b-b15e-131db332e2eb",
   "metadata": {},
   "source": [
    "# Twitch and Zoom stats"
   ]
  },
  {
   "cell_type": "code",
   "execution_count": null,
   "id": "1f9ad886-1c3b-4c3d-ad46-1923324fff91",
   "metadata": {},
   "outputs": [],
   "source": [
    "import numpy as np\n",
    "import pandas as pd\n",
    "import seaborn as sns # For plotting\n",
    "import matplotlib.pyplot as plt"
   ]
  },
  {
   "cell_type": "markdown",
   "id": "8d004be9-d1bc-44a0-b081-e1cedf5662bf",
   "metadata": {},
   "source": [
    "<mark>Jump right into analyses from here:</mark>\n",
    "\n",
    "[Twitch durations and participants](#1)  \n",
    "[Zoom Durations and participants](#2)  "
   ]
  },
  {
   "cell_type": "markdown",
   "id": "91b7bb78-79a1-48ae-b40a-b9378cb9256e",
   "metadata": {},
   "source": [
    "## Twitch  \n",
    "### Read in the csv"
   ]
  },
  {
   "cell_type": "markdown",
   "id": "8bbac043-92a2-4270-a500-89da9aa60d45",
   "metadata": {},
   "source": [
    "<font color=#330099>Read in the csv from the repo and set time as index</font>"
   ]
  },
  {
   "cell_type": "markdown",
   "id": "4dee300a-836a-4f5b-b866-cb58ed54501a",
   "metadata": {},
   "source": [
    "> Should start from 10 AM sharp and maybe take couple of last values away"
   ]
  },
  {
   "cell_type": "code",
   "execution_count": null,
   "id": "067cbad1-4d9d-4ec8-88f7-140efda5c6bc",
   "metadata": {},
   "outputs": [],
   "source": [
    "twitchDF_day1 = pd.read_csv(\"./data/Stream Session from 9_20_2022 to 9_20_2022.csv\")\n",
    "twitchDF_day2 = pd.read_csv(\"./data/Stream Session from 9_21_2022 to 9_21_2022.csv\")\n",
    "twitchDF_day3 = pd.read_csv(\"./data/Stream Session from 9_22_2022 to 9_22_2022.csv\")\n",
    "twitchDF_day4 = pd.read_csv(\"./data/Stream Session from 9_27_2022 to 9_27_2022.csv\")\n",
    "twitchDF_day5 = pd.read_csv(\"./data/Stream Session from 9_28_2022 to 9_28_2022.csv\")\n",
    "twitchDF_day6 = pd.read_csv(\"./data/Stream Session from 9_29_2022 to 9_29_2022.csv\")\n",
    "\n",
    "twitchDF_day1.set_index(\"Timestamp\", inplace=True)\n",
    "twitchDF_day2.set_index(\"Timestamp\", inplace=True)\n",
    "twitchDF_day3.set_index(\"Timestamp\", inplace=True)\n",
    "twitchDF_day4.set_index(\"Timestamp\", inplace=True)\n",
    "twitchDF_day5.set_index(\"Timestamp\", inplace=True)\n",
    "twitchDF_day6.set_index(\"Timestamp\", inplace=True)"
   ]
  },
  {
   "cell_type": "markdown",
   "id": "2df938a5-48ad-4dcb-a815-ff53fa3eb3c1",
   "metadata": {},
   "source": [
    "<font color=#330099>A closer look</font>"
   ]
  },
  {
   "cell_type": "code",
   "execution_count": null,
   "id": "7492288d-4b96-43f8-a3d2-a8f730ab47c9",
   "metadata": {},
   "outputs": [],
   "source": [
    "twitchDF_day1.head()"
   ]
  },
  {
   "cell_type": "code",
   "execution_count": null,
   "id": "ae1cf683-35cf-455a-be67-c35fa0897917",
   "metadata": {},
   "outputs": [],
   "source": [
    "twitchDF_day1.tail()"
   ]
  },
  {
   "cell_type": "code",
   "execution_count": null,
   "id": "f858ba7f-03c4-4796-8355-0af99bda597c",
   "metadata": {},
   "outputs": [],
   "source": [
    "twitchDF_day1 = twitchDF_day1.loc['10:00 AM':'1:30 PM']\n",
    "twitchDF_day2 = twitchDF_day2.loc['10:00 AM':'1:30 PM']\n",
    "twitchDF_day3 = twitchDF_day3.loc['10:00 AM':'1:30 PM']\n",
    "twitchDF_day4 = twitchDF_day4.loc['10:00 AM':'1:30 PM']\n",
    "twitchDF_day5 = twitchDF_day5.loc['10:00 AM':'1:30 PM']\n",
    "twitchDF_day6 = twitchDF_day6.loc['10:00 AM':'1:30 PM']"
   ]
  },
  {
   "cell_type": "markdown",
   "id": "280f3e5b-2950-4fe3-9c57-d369713134ac",
   "metadata": {
    "tags": []
   },
   "source": [
    "### Twitch durations and participants\n",
    "<a id =1> </a>"
   ]
  },
  {
   "cell_type": "code",
   "execution_count": null,
   "id": "3ce3622c-9362-448b-9b01-b84c7d276878",
   "metadata": {},
   "outputs": [],
   "source": [
    "DFs = [twitchDF_day1,twitchDF_day2,twitchDF_day3,twitchDF_day4,twitchDF_day5,twitchDF_day6]"
   ]
  },
  {
   "cell_type": "code",
   "execution_count": null,
   "id": "593f9c06-b2a4-4353-8843-22b2dd1df3e8",
   "metadata": {},
   "outputs": [],
   "source": [
    "for i,df in enumerate(DFs, start=1):\n",
    "    ax = sns.barplot(x=df.index, y=df.columns[0], data=df)\n",
    "    ax.set(title=\"Day {}: {}\".format(i,df.columns[0]))\n",
    "    ax.set_xticklabels(df.index)\n",
    "    ax.tick_params(labelrotation = 290)\n",
    "    plt.savefig(\"./plots/Day_{}_{}.png\".format(i,df.columns[0]))\n",
    "#    plt.show()"
   ]
  },
  {
   "cell_type": "code",
   "execution_count": null,
   "id": "29c15d3b-e14c-4298-91da-c318fcf72693",
   "metadata": {},
   "outputs": [],
   "source": [
    "for i,df in enumerate(DFs, start=1):\n",
    "    ax = sns.barplot(x=df.index, y=df.columns[1], data=df)\n",
    "    ax.set(title=\"Day {}: {}\".format(i,df.columns[1]))\n",
    "    ax.set_xticklabels(df.index)\n",
    "    ax.tick_params(labelrotation = 290)\n",
    "    plt.savefig(\"./plots/Day_{}_{}.png\".format(i,df.columns[1]))\n",
    "#    plt.show()"
   ]
  },
  {
   "cell_type": "code",
   "execution_count": null,
   "id": "1a64c1c5-36a3-42e2-a4df-46b0f66efc33",
   "metadata": {},
   "outputs": [],
   "source": [
    "# Collect min max etc to lists\n",
    "Viewers_mean = []\n",
    "Viewers_min = []\n",
    "Viewers_max = []"
   ]
  },
  {
   "cell_type": "code",
   "execution_count": null,
   "id": "9d58bc59-a89c-4662-8e52-40cd112acfc7",
   "metadata": {},
   "outputs": [],
   "source": [
    "for i,df in enumerate(DFs, start=1):\n",
    "    print(\"Day {} viewers mean:\".format(i), df.Viewers.mean())\n",
    "    Viewers_mean.append(df.Viewers.mean().astype(int))\n",
    "    print(\"Day {} viewers min:\".format(i), df.Viewers.min())\n",
    "    Viewers_min.append(df.Viewers.min().astype(int))\n",
    "    print(\"Day {} viewers max:\".format(i), df.Viewers.max())\n",
    "    Viewers_max.append(df.Viewers.max().astype(int))\n",
    "    print(\"Day {} new followers:\".format(i), df[\"New Followers\"].sum())\n",
    "    print(\"Day {} chatters:\".format(i), df[\"Chatters\"].sum())\n",
    "    print(\"Day {} subscriptions:\".format(i), df[\"Subscriptions\"].sum())\n",
    "    print(\"------------------------------\")"
   ]
  },
  {
   "cell_type": "markdown",
   "id": "a6ed8999-4a78-4cb4-8bec-e80fea324f13",
   "metadata": {},
   "source": [
    "Viewers_mean = pd.Series(Viewers_mean)\n",
    "Viewers_min = pd.Series(Viewers_min)\n",
    "Viewers_max = pd.Series(Viewers_max)"
   ]
  },
  {
   "cell_type": "markdown",
   "id": "439326d1-db00-4ae2-81ce-1e4a78fe208f",
   "metadata": {},
   "source": [
    "## Zoom stats"
   ]
  },
  {
   "cell_type": "markdown",
   "id": "7afe3047-a82b-44fa-a89b-ebc0e7c44f42",
   "metadata": {},
   "source": [
    "### Read in the csv"
   ]
  },
  {
   "cell_type": "markdown",
   "id": "753da5d0-7dcd-4bab-9c8a-43e9b4fa83ac",
   "metadata": {},
   "source": [
    "<font color=#330099>Create indices = days</font>"
   ]
  },
  {
   "cell_type": "code",
   "execution_count": null,
   "id": "a4b868d2-a55b-4705-8c7b-0b0dacdf68da",
   "metadata": {},
   "outputs": [],
   "source": [
    "days = [\"Day{}\".format(x) for x in range(1,7)]"
   ]
  },
  {
   "cell_type": "code",
   "execution_count": null,
   "id": "712b1bae-42ec-45e6-bc0d-fa54b553a9f9",
   "metadata": {},
   "outputs": [],
   "source": [
    "days"
   ]
  },
  {
   "cell_type": "markdown",
   "id": "1da5e686-2c09-4994-8411-07d94c63ea4f",
   "metadata": {},
   "source": [
    "<font color=#330099>Read in the csv from the repo</font>"
   ]
  },
  {
   "cell_type": "code",
   "execution_count": null,
   "id": "32f803f1-ba44-455d-8592-6897b0a31789",
   "metadata": {},
   "outputs": [],
   "source": [
    "zoomDF = pd.read_csv(\"./data/CR_WS_Zoom_data.csv\")"
   ]
  },
  {
   "cell_type": "markdown",
   "id": "28bac048-a0ff-446b-b6af-4c0092724386",
   "metadata": {},
   "source": [
    "<font color=#330099>A closer look</font>"
   ]
  },
  {
   "cell_type": "code",
   "execution_count": null,
   "id": "51a8f08a-29d7-4ea1-bd2f-290bc4bd05f3",
   "metadata": {},
   "outputs": [],
   "source": [
    "zoomDF"
   ]
  },
  {
   "cell_type": "code",
   "execution_count": null,
   "id": "b35388ce-12ac-4920-acfa-857a56bb6422",
   "metadata": {},
   "outputs": [],
   "source": [
    "zoomDF.Participants = [59, 42, 46, 25, 32, 40]"
   ]
  },
  {
   "cell_type": "markdown",
   "id": "67eadc3d-a245-43ed-b7e0-b5f72066675a",
   "metadata": {},
   "source": [
    "<font color=#330099>Add days to the dataframe and make them row indices</font>"
   ]
  },
  {
   "cell_type": "code",
   "execution_count": null,
   "id": "1491703b-fb33-44d1-ad3b-39e99dc50294",
   "metadata": {},
   "outputs": [],
   "source": [
    "zoomDF['Day']=days"
   ]
  },
  {
   "cell_type": "code",
   "execution_count": null,
   "id": "df9cd58d-b6d0-41b2-8140-b7174ff203cc",
   "metadata": {},
   "outputs": [],
   "source": [
    "zoomDF.set_index('Day', inplace = True)"
   ]
  },
  {
   "cell_type": "markdown",
   "id": "9a09ab38-f0cc-4855-ab7a-22ff924b3195",
   "metadata": {},
   "source": [
    "<font color=#330099>A closer look</font>"
   ]
  },
  {
   "cell_type": "code",
   "execution_count": null,
   "id": "c0365720-0988-4b29-ae67-8d3d458bd3eb",
   "metadata": {},
   "outputs": [],
   "source": [
    "zoomDF"
   ]
  },
  {
   "cell_type": "markdown",
   "id": "35885c8e-5c81-4f4d-9280-d7f6c53e7ed7",
   "metadata": {
    "tags": []
   },
   "source": [
    "### Zoom durations and participants\n",
    "<a id =2> </a>"
   ]
  },
  {
   "cell_type": "code",
   "execution_count": null,
   "id": "d0ba0cf6-32fc-40f3-834d-504e34d29039",
   "metadata": {
    "tags": []
   },
   "outputs": [],
   "source": [
    "sns.barplot(x=zoomDF.index, y=zoomDF.columns[0], data=zoomDF).set(title=\"Zoom {}\".format(zoomDF.columns[0]))\n",
    "plt.savefig(\"./plots/Zoom_duration.png\")"
   ]
  },
  {
   "cell_type": "code",
   "execution_count": null,
   "id": "3c75d4ef-7ad8-4906-8952-696a3d52dca9",
   "metadata": {
    "tags": []
   },
   "outputs": [],
   "source": [
    "sns.barplot(x=zoomDF.index, y=zoomDF.columns[1], data=zoomDF).set(title=\"Zoom {}\".format(zoomDF.columns[1]))\n",
    "plt.savefig(\"./plots/Zoom_participants.png\")"
   ]
  },
  {
   "cell_type": "markdown",
   "id": "7fffe5ef-25d0-4391-9709-74c3a3a5fc24",
   "metadata": {},
   "source": [
    "# One graph to rule them all"
   ]
  },
  {
   "cell_type": "code",
   "execution_count": null,
   "id": "5e8c629f-9e3e-4dc7-aebf-e15a60c82a56",
   "metadata": {},
   "outputs": [],
   "source": [
    "combined_cols = [\"Zoom_participants\", \"Twitch_views_avg\", \"Twitch_views_min\", \"Twitch_views_max\"]"
   ]
  },
  {
   "cell_type": "code",
   "execution_count": null,
   "id": "545bd7b3-9cfe-40f0-8fe0-51148a3400c9",
   "metadata": {},
   "outputs": [],
   "source": [
    "#combined_DF = zoomDF.copy(deep = True)\n",
    "combined_DF = zoomDF.drop(\"Duration (Minutes)\",axis=1).copy(deep = True)"
   ]
  },
  {
   "cell_type": "code",
   "execution_count": null,
   "id": "41602c3f-20d3-49e2-9203-74781b8bd7e9",
   "metadata": {},
   "outputs": [],
   "source": [
    "combined_DF[\"Twitch_views_mean\"] = Viewers_mean\n",
    "combined_DF[\"Twitch_views_min\"] = Viewers_min\n",
    "combined_DF[\"Twitch_views_max\"] = Viewers_max"
   ]
  },
  {
   "cell_type": "code",
   "execution_count": null,
   "id": "e4d58742-43cf-4b0d-9ddf-c32c892b9a64",
   "metadata": {},
   "outputs": [],
   "source": [
    "combined_DF.columns=combined_cols"
   ]
  },
  {
   "cell_type": "code",
   "execution_count": null,
   "id": "a258ed7d-5184-4991-8e39-abf3aa6e26cc",
   "metadata": {},
   "outputs": [],
   "source": [
    "combined_DF.plot(kind=\"bar\")\n",
    "plt.title(\"Online participants\")\n",
    "plt.savefig(\"./plots/OnlineParticipants.png\")"
   ]
  },
  {
   "cell_type": "code",
   "execution_count": null,
   "id": "ea6ea162-f70b-4de1-9cd8-b353f39ed437",
   "metadata": {},
   "outputs": [],
   "source": []
  }
 ],
 "metadata": {
  "kernelspec": {
   "display_name": "Python 3 (ipykernel)",
   "language": "python",
   "name": "python3"
  },
  "language_info": {
   "codemirror_mode": {
    "name": "ipython",
    "version": 3
   },
   "file_extension": ".py",
   "mimetype": "text/x-python",
   "name": "python",
   "nbconvert_exporter": "python",
   "pygments_lexer": "ipython3",
   "version": "3.10.6"
  }
 },
 "nbformat": 4,
 "nbformat_minor": 5
}
