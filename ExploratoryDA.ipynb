{
 "cells": [
  {
   "cell_type": "markdown",
   "id": "8f86a623-fd94-4283-96a6-c2ce79f70970",
   "metadata": {},
   "source": [
    "# Data in and anonymisation"
   ]
  },
  {
   "cell_type": "code",
   "execution_count": 1,
   "id": "0cdd27a2-ec26-4010-95bb-59850e661cbe",
   "metadata": {},
   "outputs": [],
   "source": [
    "import numpy as np\n",
    "import pandas as pd"
   ]
  },
  {
   "cell_type": "markdown",
   "id": "b2f53d1f-0d98-4bef-b71b-21cf1a5107d1",
   "metadata": {},
   "source": [
    "<mark>Jump right into analyses from here:</mark>\n",
    "\n",
    "[Counting values from individual registrations](#1)"
   ]
  },
  {
   "cell_type": "markdown",
   "id": "5dd52f5d-3d3d-424c-bee0-7966e3524107",
   "metadata": {},
   "source": [
    "# Anonymisation"
   ]
  },
  {
   "cell_type": "markdown",
   "id": "5ce7103d-8134-4ac9-9dbd-3950b9872df9",
   "metadata": {},
   "source": [
    "Read indico csv-files from hard drive"
   ]
  },
  {
   "cell_type": "code",
   "execution_count": 11,
   "id": "0b9391b1-1146-45ab-9b77-a0a967912d31",
   "metadata": {},
   "outputs": [],
   "source": [
    "individualDF_org = pd.read_csv(\"/Users/mjaaske/CSCPurkki/CodeRefinery_Purkki/Stats/CR_Individual_2022_10_13.csv\", index_col='ID')\n",
    "teamsDF_org = pd.read_csv(\"/Users/mjaaske/CSCPurkki/CodeRefinery_Purkki/Stats/CR_Team_2022_10_13.csv\", index_col='ID')"
   ]
  },
  {
   "cell_type": "code",
   "execution_count": 4,
   "id": "0754ca72-d99a-4e34-8faa-ef2e2796e23f",
   "metadata": {},
   "outputs": [],
   "source": [
    "# Drop some labels that have only NaN\n",
    "indy_drolabels = [\"Name\",\"Email Address\", \"Title\", \"Position\", \"Tags\", 'Other notes to organizers']\n",
    "team_drolabels = [\"Name\",\"Email Address\", \"Title\", \"Tags\", \"Alternative way of submitting results (link)\"]\n",
    "\n",
    "individualDF_org.drop(labels=indy_drolabels, axis=1, inplace=True)\n",
    "teamsDF_org.drop(labels=team_drolabels, axis=1, inplace=True)"
   ]
  },
  {
   "cell_type": "markdown",
   "id": "834fe2a1-c085-464e-af75-2997509305ef",
   "metadata": {},
   "source": [
    "Check the remaining columns"
   ]
  },
  {
   "cell_type": "code",
   "execution_count": 5,
   "id": "0f550f8c-19e4-4e99-90cb-49daf35de8a5",
   "metadata": {},
   "outputs": [
    {
     "data": {
      "text/plain": [
       "Index(['Country', 'Affiliation or university', 'Academic discipline',\n",
       "       'Career stage / position', 'How did you find out about this workshop?',\n",
       "       'Attendance/participation type',\n",
       "       'Stream only or also exercise group? Video or in-person?',\n",
       "       'Which days you plan to attend?', 'Registration date',\n",
       "       'Registration state'],\n",
       "      dtype='object')"
      ]
     },
     "execution_count": 5,
     "metadata": {},
     "output_type": "execute_result"
    }
   ],
   "source": [
    "individualDF_org.columns"
   ]
  },
  {
   "cell_type": "code",
   "execution_count": 6,
   "id": "4c42ea1d-af6e-480d-a5ef-28b835e5e11b",
   "metadata": {},
   "outputs": [
    {
     "data": {
      "text/plain": [
       "Index(['Affiliation', 'Actual number of teams', 'Actual number of learners',\n",
       "       'Actual number of exercise leads',\n",
       "       'Country/countries that learners are affilated with',\n",
       "       'Career stage/ position of learners', 'Academic discipline',\n",
       "       'Academic disciplines (if multiple teams from different disciplines)',\n",
       "       'Registration date', 'Registration state'],\n",
       "      dtype='object')"
      ]
     },
     "execution_count": 6,
     "metadata": {},
     "output_type": "execute_result"
    }
   ],
   "source": [
    "teamsDF_org.columns"
   ]
  },
  {
   "cell_type": "markdown",
   "id": "1f932786-140e-4c86-af8f-26b189591c69",
   "metadata": {},
   "source": [
    "Sort and export to csv inside repo"
   ]
  },
  {
   "cell_type": "code",
   "execution_count": 7,
   "id": "81f08ac1-7b63-4830-bf9e-924694b705a4",
   "metadata": {},
   "outputs": [],
   "source": [
    "individualDF_org.sort_index(inplace=True)\n",
    "teamsDF_org.sort_index(inplace=True)"
   ]
  },
  {
   "cell_type": "markdown",
   "id": "9a55a148-7c4e-4853-851c-54c774be1c36",
   "metadata": {},
   "source": [
    "```python\n",
    "individualDF_org.to_csv('./CR_individual.csv')\n",
    "teamsDF_org.to_csv('./CR_teams.csv')\n",
    "```"
   ]
  },
  {
   "cell_type": "markdown",
   "id": "7c93ffcb-10b4-41da-8c5f-941e1ffb7194",
   "metadata": {
    "tags": []
   },
   "source": [
    "## Individual registrations\n",
    "<a id =1> </a>"
   ]
  },
  {
   "cell_type": "markdown",
   "id": "c59ce0f2-881d-44e6-82be-bbdb380c0f38",
   "metadata": {},
   "source": [
    "Read in the csv from the repo"
   ]
  },
  {
   "cell_type": "code",
   "execution_count": 9,
   "id": "7e88d145-a9dd-4699-a5cc-1936c395cf92",
   "metadata": {},
   "outputs": [],
   "source": [
    "individualDF = pd.read_csv(\"./CR_individual.csv\", index_col=\"ID\")"
   ]
  },
  {
   "cell_type": "markdown",
   "id": "8534faf4-c7dc-4da6-9817-1a0c019d5091",
   "metadata": {},
   "source": [
    "Some summary"
   ]
  },
  {
   "cell_type": "code",
   "execution_count": 14,
   "id": "10eff249-8ec1-44ce-b651-5369f3b9f270",
   "metadata": {},
   "outputs": [
    {
     "name": "stdout",
     "output_type": "stream",
     "text": [
      "<class 'pandas.core.frame.DataFrame'>\n",
      "Int64Index: 204 entries, 16 to 252\n",
      "Data columns (total 10 columns):\n",
      " #   Column                                                   Non-Null Count  Dtype \n",
      "---  ------                                                   --------------  ----- \n",
      " 0   Country                                                  204 non-null    object\n",
      " 1   Affiliation or university                                204 non-null    object\n",
      " 2   Academic discipline                                      186 non-null    object\n",
      " 3   Career stage / position                                  186 non-null    object\n",
      " 4   How did you find out about this workshop?                183 non-null    object\n",
      " 5   Attendance/participation type                            204 non-null    object\n",
      " 6   Stream only or also exercise group? Video or in-person?  204 non-null    object\n",
      " 7   Which days you plan to attend?                           204 non-null    object\n",
      " 8   Registration date                                        204 non-null    object\n",
      " 9   Registration state                                       204 non-null    object\n",
      "dtypes: object(10)\n",
      "memory usage: 17.5+ KB\n"
     ]
    }
   ],
   "source": [
    "individualDF.info()"
   ]
  },
  {
   "cell_type": "markdown",
   "id": "30eb4c45-e37e-46bd-8a8b-675b61fa3119",
   "metadata": {},
   "source": [
    "A closer look"
   ]
  },
  {
   "cell_type": "code",
   "execution_count": 16,
   "id": "4104b3c0-406a-4787-9d61-ced6ad439ac1",
   "metadata": {},
   "outputs": [
    {
     "data": {
      "text/html": [
       "<div>\n",
       "<style scoped>\n",
       "    .dataframe tbody tr th:only-of-type {\n",
       "        vertical-align: middle;\n",
       "    }\n",
       "\n",
       "    .dataframe tbody tr th {\n",
       "        vertical-align: top;\n",
       "    }\n",
       "\n",
       "    .dataframe thead th {\n",
       "        text-align: right;\n",
       "    }\n",
       "</style>\n",
       "<table border=\"1\" class=\"dataframe\">\n",
       "  <thead>\n",
       "    <tr style=\"text-align: right;\">\n",
       "      <th></th>\n",
       "      <th>Country</th>\n",
       "      <th>Affiliation or university</th>\n",
       "      <th>Academic discipline</th>\n",
       "      <th>Career stage / position</th>\n",
       "      <th>How did you find out about this workshop?</th>\n",
       "      <th>Attendance/participation type</th>\n",
       "      <th>Stream only or also exercise group? Video or in-person?</th>\n",
       "      <th>Which days you plan to attend?</th>\n",
       "      <th>Registration date</th>\n",
       "      <th>Registration state</th>\n",
       "    </tr>\n",
       "    <tr>\n",
       "      <th>ID</th>\n",
       "      <th></th>\n",
       "      <th></th>\n",
       "      <th></th>\n",
       "      <th></th>\n",
       "      <th></th>\n",
       "      <th></th>\n",
       "      <th></th>\n",
       "      <th></th>\n",
       "      <th></th>\n",
       "      <th></th>\n",
       "    </tr>\n",
       "  </thead>\n",
       "  <tbody>\n",
       "    <tr>\n",
       "      <th>16</th>\n",
       "      <td>Norway</td>\n",
       "      <td>UiT The Arctic University of Norway</td>\n",
       "      <td>Chemical Sciences</td>\n",
       "      <td>Research software engineer</td>\n",
       "      <td>Another event</td>\n",
       "      <td>Organizer</td>\n",
       "      <td>I am an organizer or instructor or observer</td>\n",
       "      <td>Tue, Sep 20 (Day 1); Wed, Sep 21 (Day 2); Thu,...</td>\n",
       "      <td>2022-07-04 07:35:21.871298+00:00</td>\n",
       "      <td>Completed</td>\n",
       "    </tr>\n",
       "    <tr>\n",
       "      <th>17</th>\n",
       "      <td>Sweden</td>\n",
       "      <td>Chalmers University of Technology</td>\n",
       "      <td>Mechanical Engineering</td>\n",
       "      <td>Researcher</td>\n",
       "      <td>CodeRefinery.org; Educational institute</td>\n",
       "      <td>Learner</td>\n",
       "      <td>Watching stream and participate in online exer...</td>\n",
       "      <td>Tue, Sep 20 (Day 1); Wed, Sep 21 (Day 2); Thu,...</td>\n",
       "      <td>2022-07-04 08:57:15.110384+00:00</td>\n",
       "      <td>Completed</td>\n",
       "    </tr>\n",
       "  </tbody>\n",
       "</table>\n",
       "</div>"
      ],
      "text/plain": [
       "   Country            Affiliation or university     Academic discipline  \\\n",
       "ID                                                                        \n",
       "16  Norway  UiT The Arctic University of Norway       Chemical Sciences   \n",
       "17  Sweden    Chalmers University of Technology  Mechanical Engineering   \n",
       "\n",
       "       Career stage / position How did you find out about this workshop?  \\\n",
       "ID                                                                         \n",
       "16  Research software engineer                             Another event   \n",
       "17                  Researcher   CodeRefinery.org; Educational institute   \n",
       "\n",
       "   Attendance/participation type  \\\n",
       "ID                                 \n",
       "16                     Organizer   \n",
       "17                       Learner   \n",
       "\n",
       "   Stream only or also exercise group? Video or in-person?  \\\n",
       "ID                                                           \n",
       "16        I am an organizer or instructor or observer        \n",
       "17  Watching stream and participate in online exer...        \n",
       "\n",
       "                       Which days you plan to attend?  \\\n",
       "ID                                                      \n",
       "16  Tue, Sep 20 (Day 1); Wed, Sep 21 (Day 2); Thu,...   \n",
       "17  Tue, Sep 20 (Day 1); Wed, Sep 21 (Day 2); Thu,...   \n",
       "\n",
       "                   Registration date Registration state  \n",
       "ID                                                       \n",
       "16  2022-07-04 07:35:21.871298+00:00          Completed  \n",
       "17  2022-07-04 08:57:15.110384+00:00          Completed  "
      ]
     },
     "execution_count": 16,
     "metadata": {},
     "output_type": "execute_result"
    }
   ],
   "source": [
    "individualDF.head(2)"
   ]
  },
  {
   "cell_type": "markdown",
   "id": "dbaadc59-52e8-4da6-abc5-ac3ee0eefb48",
   "metadata": {},
   "source": [
    "Count some values"
   ]
  },
  {
   "cell_type": "code",
   "execution_count": 31,
   "id": "c78609d4-a6fe-47e9-ba5e-695570faefe3",
   "metadata": {},
   "outputs": [],
   "source": [
    "countCoutries = individualDF[\"Country\"].value_counts()\n",
    "countOrganisations = individualDF[\"Affiliation or university\"].value_counts()\n",
    "countAcademic = individualDF[\"Academic discipline\"].value_counts()\n",
    "countCareer = individualDF[\"Career stage / position\"].value_counts()\n",
    "countFindOut = individualDF[\"How did you find out about this workshop?\"].value_counts()\n",
    "countAttendaceType1 = individualDF[\"Attendance/participation type\"].value_counts()\n",
    "countAttendaceType2 = individualDF[\"Stream only or also exercise group? Video or in-person?\"].value_counts()\n",
    "countAttendaceDays = individualDF[\"Which days you plan to attend?\"].value_counts()"
   ]
  },
  {
   "cell_type": "markdown",
   "id": "650463ef-0c52-4551-a7d5-6a29ecb35cc0",
   "metadata": {},
   "source": [
    "### Country\n",
    "\n",
    "This can be plotted right away"
   ]
  },
  {
   "cell_type": "code",
   "execution_count": 41,
   "id": "701774d3-fb0d-4a15-aed3-a8472d9e304d",
   "metadata": {
    "tags": []
   },
   "outputs": [
    {
     "data": {
      "text/plain": [
       "Finland              61\n",
       "Sweden               50\n",
       "Norway               38\n",
       "Spain                12\n",
       "Denmark               7\n",
       "Netherlands           5\n",
       "India                 4\n",
       "Ireland               3\n",
       "Switzerland           3\n",
       "United Kingdom        3\n",
       "Italy                 3\n",
       "France                2\n",
       "United States         2\n",
       "Trinidad & Tobago     1\n",
       "Singapore             1\n",
       "China                 1\n",
       "Thailand              1\n",
       "Greece                1\n",
       "Iran                  1\n",
       "Turkey                1\n",
       "Brazil                1\n",
       "Indonesia             1\n",
       "Germany               1\n",
       "Canada                1\n",
       "Name: Country, dtype: int64"
      ]
     },
     "execution_count": 41,
     "metadata": {},
     "output_type": "execute_result"
    }
   ],
   "source": [
    "countCoutries"
   ]
  },
  {
   "cell_type": "markdown",
   "id": "e2579c5d-7c30-4ffe-8a8d-4636c88af0fc",
   "metadata": {},
   "source": [
    "### Affiliation or university\n",
    "\n",
    "This has some names with slight variations so needs handling"
   ]
  },
  {
   "cell_type": "code",
   "execution_count": 42,
   "id": "6803f6e3-94e0-4ee2-a5f8-be7b791839d1",
   "metadata": {
    "tags": []
   },
   "outputs": [
    {
     "data": {
      "text/plain": [
       "Aalto University                                         32\n",
       "NTNU                                                     10\n",
       "Uppsala University                                        9\n",
       "SMHI                                                      9\n",
       "University of Oslo                                        6\n",
       "                                                         ..\n",
       "Norwegian University of Science and Technology (NTNU)     1\n",
       "Justervesenet-Norwegian Metrology Service                 1\n",
       "University of South Eastern Norway                        1\n",
       "Technical University of Chalmers                          1\n",
       "UiO                                                       1\n",
       "Name: Affiliation or university, Length: 107, dtype: int64"
      ]
     },
     "execution_count": 42,
     "metadata": {},
     "output_type": "execute_result"
    }
   ],
   "source": [
    "countOrganisations"
   ]
  },
  {
   "cell_type": "markdown",
   "id": "8d41a981-9c1e-4562-bed2-3393a6b10dd1",
   "metadata": {},
   "source": [
    "### Academic discipline\n",
    "\n",
    "This can be plotted right away"
   ]
  },
  {
   "cell_type": "code",
   "execution_count": 44,
   "id": "e1fde92a-a913-4563-8adc-8810446ddf40",
   "metadata": {
    "tags": []
   },
   "outputs": [
    {
     "data": {
      "text/plain": [
       "Computer and Information Sciences                                          31\n",
       "Physical Sciences                                                          28\n",
       "Biological Sciences                                                        22\n",
       "Chemical Sciences                                                          18\n",
       "Earth and Related Environmental Sciences                                   15\n",
       "Electrical Engineering, Electronic Engineering, Information Engineering    14\n",
       "Mechanical Engineering                                                     13\n",
       "Civil Engineering                                                           8\n",
       "Health Sciences                                                             6\n",
       "Psychology                                                                  4\n",
       "Other Engineering and Technologies                                          4\n",
       "Mathematics                                                                 4\n",
       "Medical Engineering                                                         2\n",
       "Environmental Engineering                                                   2\n",
       "Basic Medicine                                                              2\n",
       "Clinical Medicine                                                           2\n",
       "Other Natural Sciences                                                      2\n",
       "Other Medical and Health Sciences                                           2\n",
       "Economics and Business                                                      2\n",
       "Materials Engineering                                                       1\n",
       "Other Social Sciences                                                       1\n",
       "Political Science                                                           1\n",
       "Other                                                                       1\n",
       "Environmental Biotechnology                                                 1\n",
       "Name: Academic discipline, dtype: int64"
      ]
     },
     "execution_count": 44,
     "metadata": {},
     "output_type": "execute_result"
    }
   ],
   "source": [
    "countAcademic"
   ]
  },
  {
   "cell_type": "markdown",
   "id": "02174669-31c9-487b-a026-9c6435940a6e",
   "metadata": {},
   "source": [
    "### Career stage / position\n",
    "\n",
    "This can be plotted right away"
   ]
  },
  {
   "cell_type": "code",
   "execution_count": 46,
   "id": "a2800514-f328-4636-8f8a-b7deba2f63ba",
   "metadata": {
    "tags": []
   },
   "outputs": [
    {
     "data": {
      "text/plain": [
       "Graduate student              72\n",
       "Researcher                    37\n",
       "Postdoc                       26\n",
       "Research software engineer    17\n",
       "Other                         12\n",
       "Professor                      9\n",
       "Industry                       8\n",
       "Undergrad. student             5\n",
       "Name: Career stage / position, dtype: int64"
      ]
     },
     "execution_count": 46,
     "metadata": {},
     "output_type": "execute_result"
    }
   ],
   "source": [
    "countCareer"
   ]
  },
  {
   "cell_type": "markdown",
   "id": "2113aa27-44d2-4869-98a2-ee55589e8f6b",
   "metadata": {},
   "source": [
    "### How did you find out about this workshop?\n",
    "\n",
    "This needs some text analysis"
   ]
  },
  {
   "cell_type": "code",
   "execution_count": 48,
   "id": "c6a6dfbd-25eb-4394-a789-b3a326a5ab2d",
   "metadata": {
    "tags": []
   },
   "outputs": [
    {
     "data": {
      "text/plain": [
       "Friend / Colleague                                                                   67\n",
       "Educational institute                                                                34\n",
       "CodeRefinery.org                                                                     19\n",
       "National HPC center                                                                  18\n",
       "Another event                                                                        15\n",
       "Twitter                                                                              15\n",
       "CodeRefinery.org; Educational institute                                               2\n",
       "Educational institute; Friend / Colleague                                             2\n",
       "CodeRefinery.org; National HPC center; Friend / Colleague                             1\n",
       "Twitter; Another event                                                                1\n",
       "Friend / Colleague; Another event                                                     1\n",
       "Educational institute; National HPC center                                            1\n",
       "Educational institute; Another event                                                  1\n",
       "Twitter; CodeRefinery.org; National HPC center; Friend / Colleague; Another event     1\n",
       "Twitter; Educational institute; National HPC center                                   1\n",
       "CodeRefinery.org; National HPC center                                                 1\n",
       "Twitter; CodeRefinery.org; Friend / Colleague                                         1\n",
       "CodeRefinery.org; Educational institute; Friend / Colleague                           1\n",
       "National HPC center; Friend / Colleague                                               1\n",
       "Name: How did you find out about this workshop?, dtype: int64"
      ]
     },
     "execution_count": 48,
     "metadata": {},
     "output_type": "execute_result"
    }
   ],
   "source": [
    "countFindOut"
   ]
  },
  {
   "cell_type": "markdown",
   "id": "654c2536-12d4-4dc4-8522-9c44a656fe2d",
   "metadata": {},
   "source": [
    "### Attendance/participation type\n",
    "\n",
    "This can be plotted right away"
   ]
  },
  {
   "cell_type": "code",
   "execution_count": 50,
   "id": "15ceb4c5-20d5-47e5-bca7-f5a67bf3054a",
   "metadata": {
    "tags": []
   },
   "outputs": [
    {
     "data": {
      "text/plain": [
       "Learner            185\n",
       "Instructor           6\n",
       "Observer             5\n",
       "Organizer            3\n",
       "Expert helper        3\n",
       "Exercise leader      2\n",
       "Name: Attendance/participation type, dtype: int64"
      ]
     },
     "execution_count": 50,
     "metadata": {},
     "output_type": "execute_result"
    }
   ],
   "source": [
    "countAttendaceType1"
   ]
  },
  {
   "cell_type": "markdown",
   "id": "ce352506-bbcf-4c95-b4e4-65389ce644e0",
   "metadata": {},
   "source": [
    "### Stream only or also exercise group? Video or in-person?\n",
    "\n",
    "This can be plotted right away"
   ]
  },
  {
   "cell_type": "code",
   "execution_count": 52,
   "id": "b0c3ac49-a645-41f3-8b41-ba4a19c61bbb",
   "metadata": {
    "tags": []
   },
   "outputs": [
    {
     "data": {
      "text/plain": [
       "Only watching the stream                                                         90\n",
       "Watching stream and participate in online exercise group (Code Refinery Zoom)    62\n",
       "I would like to get more information and decide later                            29\n",
       "I would like to watch and exercise with others in-person                         14\n",
       "I am an organizer or instructor or observer                                       9\n",
       "Name: Stream only or also exercise group? Video or in-person?, dtype: int64"
      ]
     },
     "execution_count": 52,
     "metadata": {},
     "output_type": "execute_result"
    }
   ],
   "source": [
    "countAttendaceType2"
   ]
  },
  {
   "cell_type": "markdown",
   "id": "6823bf6a-0211-4905-9ce8-2956000d3e24",
   "metadata": {},
   "source": [
    "### Which days you plan to attend?\n",
    "\n",
    "This is tricky and potentially not worth it.\n",
    "> It would be nice to know if the days have some differences. Probably we get that from the Twitch stats also"
   ]
  },
  {
   "cell_type": "code",
   "execution_count": 53,
   "id": "f66727b1-c58b-4e22-aa4f-2b9a72a839fd",
   "metadata": {
    "tags": []
   },
   "outputs": [
    {
     "data": {
      "text/plain": [
       "Tue, Sep 20 (Day 1); Wed, Sep 21 (Day 2); Thu, Sep 22 (Day 3); Tue, Sep 27 (Day 4); Wed, Sep 28 (Day 5); Thu, Sep 29 (Day 6)                                                        117\n",
       "Not sure I can attend, but please keep me informed                                                                                                                                   19\n",
       "Tue, Sep 20 (Day 1); Wed, Sep 21 (Day 2); Thu, Sep 22 (Day 3); Tue, Sep 27 (Day 4); Wed, Sep 28 (Day 5); Thu, Sep 29 (Day 6); Not sure I can attend, but please keep me informed     11\n",
       "Tue, Sep 27 (Day 4); Wed, Sep 28 (Day 5); Thu, Sep 29 (Day 6)                                                                                                                         8\n",
       "Tue, Sep 20 (Day 1); Wed, Sep 21 (Day 2); Thu, Sep 22 (Day 3)                                                                                                                         6\n",
       "Wed, Sep 21 (Day 2); Thu, Sep 22 (Day 3); Tue, Sep 27 (Day 4); Wed, Sep 28 (Day 5); Thu, Sep 29 (Day 6)                                                                               4\n",
       "Tue, Sep 20 (Day 1); Wed, Sep 21 (Day 2); Thu, Sep 22 (Day 3); Tue, Sep 27 (Day 4); Wed, Sep 28 (Day 5)                                                                               4\n",
       "Tue, Sep 20 (Day 1); Wed, Sep 21 (Day 2); Thu, Sep 22 (Day 3); Tue, Sep 27 (Day 4); Thu, Sep 29 (Day 6)                                                                               3\n",
       "Tue, Sep 20 (Day 1); Wed, Sep 21 (Day 2); Tue, Sep 27 (Day 4); Wed, Sep 28 (Day 5); Thu, Sep 29 (Day 6)                                                                               2\n",
       "Tue, Sep 20 (Day 1); Thu, Sep 22 (Day 3); Tue, Sep 27 (Day 4); Thu, Sep 29 (Day 6)                                                                                                    2\n",
       "Thu, Sep 29 (Day 6)                                                                                                                                                                   2\n",
       "Tue, Sep 20 (Day 1); Wed, Sep 21 (Day 2); Thu, Sep 22 (Day 3); Tue, Sep 27 (Day 4)                                                                                                    2\n",
       "Tue, Sep 20 (Day 1); Wed, Sep 21 (Day 2); Thu, Sep 22 (Day 3); Wed, Sep 28 (Day 5); Thu, Sep 29 (Day 6)                                                                               2\n",
       "Thu, Sep 22 (Day 3); Tue, Sep 27 (Day 4); Wed, Sep 28 (Day 5); Thu, Sep 29 (Day 6)                                                                                                    2\n",
       "Tue, Sep 20 (Day 1); Thu, Sep 22 (Day 3); Tue, Sep 27 (Day 4); Wed, Sep 28 (Day 5); Thu, Sep 29 (Day 6)                                                                               1\n",
       "Tue, Sep 20 (Day 1); Wed, Sep 21 (Day 2); Wed, Sep 28 (Day 5); Thu, Sep 29 (Day 6)                                                                                                    1\n",
       "Wed, Sep 21 (Day 2); Tue, Sep 27 (Day 4); Wed, Sep 28 (Day 5); Thu, Sep 29 (Day 6); Not sure I can attend, but please keep me informed                                                1\n",
       "Tue, Sep 20 (Day 1); Thu, Sep 22 (Day 3); Tue, Sep 27 (Day 4); Thu, Sep 29 (Day 6); Not sure I can attend, but please keep me informed                                                1\n",
       "Wed, Sep 21 (Day 2); Thu, Sep 22 (Day 3); Tue, Sep 27 (Day 4); Not sure I can attend, but please keep me informed                                                                     1\n",
       "Tue, Sep 20 (Day 1); Wed, Sep 21 (Day 2); Not sure I can attend, but please keep me informed                                                                                          1\n",
       "Tue, Sep 20 (Day 1); Wed, Sep 21 (Day 2); Thu, Sep 22 (Day 3); Wed, Sep 28 (Day 5); Thu, Sep 29 (Day 6); Not sure I can attend, but please keep me informed                           1\n",
       "Wed, Sep 21 (Day 2); Wed, Sep 28 (Day 5); Thu, Sep 29 (Day 6)                                                                                                                         1\n",
       "Wed, Sep 21 (Day 2); Thu, Sep 22 (Day 3); Tue, Sep 27 (Day 4); Thu, Sep 29 (Day 6); Not sure I can attend, but please keep me informed                                                1\n",
       "Tue, Sep 20 (Day 1); Tue, Sep 27 (Day 4); Wed, Sep 28 (Day 5); Thu, Sep 29 (Day 6)                                                                                                    1\n",
       "Tue, Sep 20 (Day 1); Wed, Sep 21 (Day 2); Thu, Sep 22 (Day 3); Tue, Sep 27 (Day 4); Not sure I can attend, but please keep me informed                                                1\n",
       "Tue, Sep 20 (Day 1); Not sure I can attend, but please keep me informed                                                                                                               1\n",
       "Tue, Sep 20 (Day 1)                                                                                                                                                                   1\n",
       "Wed, Sep 21 (Day 2); Thu, Sep 22 (Day 3); Tue, Sep 27 (Day 4); Thu, Sep 29 (Day 6)                                                                                                    1\n",
       "Tue, Sep 20 (Day 1); Thu, Sep 22 (Day 3); Wed, Sep 28 (Day 5); Thu, Sep 29 (Day 6)                                                                                                    1\n",
       "Tue, Sep 20 (Day 1); Wed, Sep 21 (Day 2)                                                                                                                                              1\n",
       "Wed, Sep 21 (Day 2); Thu, Sep 29 (Day 6)                                                                                                                                              1\n",
       "Wed, Sep 21 (Day 2); Thu, Sep 22 (Day 3); Wed, Sep 28 (Day 5); Thu, Sep 29 (Day 6)                                                                                                    1\n",
       "Tue, Sep 20 (Day 1); Wed, Sep 21 (Day 2); Tue, Sep 27 (Day 4); Wed, Sep 28 (Day 5)                                                                                                    1\n",
       "Tue, Sep 20 (Day 1); Wed, Sep 21 (Day 2); Tue, Sep 27 (Day 4)                                                                                                                         1\n",
       "Name: Which days you plan to attend?, dtype: int64"
      ]
     },
     "execution_count": 53,
     "metadata": {},
     "output_type": "execute_result"
    }
   ],
   "source": [
    "countAttendaceDays"
   ]
  },
  {
   "cell_type": "code",
   "execution_count": null,
   "id": "921e46e5-f320-42aa-9880-aa63254b0f19",
   "metadata": {},
   "outputs": [],
   "source": []
  }
 ],
 "metadata": {
  "kernelspec": {
   "display_name": "Python 3 (ipykernel)",
   "language": "python",
   "name": "python3"
  },
  "language_info": {
   "codemirror_mode": {
    "name": "ipython",
    "version": 3
   },
   "file_extension": ".py",
   "mimetype": "text/x-python",
   "name": "python",
   "nbconvert_exporter": "python",
   "pygments_lexer": "ipython3",
   "version": "3.10.6"
  }
 },
 "nbformat": 4,
 "nbformat_minor": 5
}
