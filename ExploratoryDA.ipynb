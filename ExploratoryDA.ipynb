{
 "cells": [
  {
   "cell_type": "markdown",
   "id": "8f86a623-fd94-4283-96a6-c2ce79f70970",
   "metadata": {},
   "source": [
    "# EDA and Plotting"
   ]
  },
  {
   "cell_type": "code",
   "execution_count": null,
   "id": "0cdd27a2-ec26-4010-95bb-59850e661cbe",
   "metadata": {},
   "outputs": [],
   "source": [
    "import numpy as np\n",
    "import pandas as pd\n",
    "import seaborn as sns"
   ]
  },
  {
   "cell_type": "markdown",
   "id": "b2f53d1f-0d98-4bef-b71b-21cf1a5107d1",
   "metadata": {},
   "source": [
    "<mark>Jump right into analyses from here:</mark>\n",
    "\n",
    "[Counting values from individual registrations](#1)  \n",
    "[Counting values from team registrations](#2)"
   ]
  },
  {
   "cell_type": "markdown",
   "id": "7c93ffcb-10b4-41da-8c5f-941e1ffb7194",
   "metadata": {
    "tags": []
   },
   "source": [
    "## Individual registrations\n",
    "<a id =1> </a>"
   ]
  },
  {
   "cell_type": "markdown",
   "id": "c59ce0f2-881d-44e6-82be-bbdb380c0f38",
   "metadata": {},
   "source": [
    "<font color=#330099>Read in the csv from the repo</font>"
   ]
  },
  {
   "cell_type": "code",
   "execution_count": null,
   "id": "7e88d145-a9dd-4699-a5cc-1936c395cf92",
   "metadata": {},
   "outputs": [],
   "source": [
    "individualDF = pd.read_csv(\"./data/CR_individual.csv\", index_col=\"ID\")"
   ]
  },
  {
   "cell_type": "markdown",
   "id": "8534faf4-c7dc-4da6-9817-1a0c019d5091",
   "metadata": {},
   "source": [
    "<font color=#330099>Some summary</font>"
   ]
  },
  {
   "cell_type": "code",
   "execution_count": null,
   "id": "10eff249-8ec1-44ce-b651-5369f3b9f270",
   "metadata": {},
   "outputs": [
    {
     "name": "stdout",
     "output_type": "stream",
     "text": [
      "<class 'pandas.core.frame.DataFrame'>\n",
      "Int64Index: 204 entries, 16 to 252\n",
      "Data columns (total 10 columns):\n",
      " #   Column                                                   Non-Null Count  Dtype \n",
      "---  ------                                                   --------------  ----- \n",
      " 0   Country                                                  204 non-null    object\n",
      " 1   Affiliation or university                                204 non-null    object\n",
      " 2   Academic discipline                                      186 non-null    object\n",
      " 3   Career stage / position                                  186 non-null    object\n",
      " 4   How did you find out about this workshop?                183 non-null    object\n",
      " 5   Attendance/participation type                            204 non-null    object\n",
      " 6   Stream only or also exercise group? Video or in-person?  204 non-null    object\n",
      " 7   Which days you plan to attend?                           204 non-null    object\n",
      " 8   Registration date                                        204 non-null    object\n",
      " 9   Registration state                                       204 non-null    object\n",
      "dtypes: object(10)\n",
      "memory usage: 17.5+ KB\n"
     ]
    }
   ],
   "source": [
    "individualDF.info()"
   ]
  },
  {
   "cell_type": "markdown",
   "id": "30eb4c45-e37e-46bd-8a8b-675b61fa3119",
   "metadata": {},
   "source": [
    "<font color=#330099>A closer look</font>"
   ]
  },
  {
   "cell_type": "code",
   "execution_count": null,
   "id": "4104b3c0-406a-4787-9d61-ced6ad439ac1",
   "metadata": {},
   "outputs": [
    {
     "data": {
      "text/html": [
       "<div>\n",
       "<style scoped>\n",
       "    .dataframe tbody tr th:only-of-type {\n",
       "        vertical-align: middle;\n",
       "    }\n",
       "\n",
       "    .dataframe tbody tr th {\n",
       "        vertical-align: top;\n",
       "    }\n",
       "\n",
       "    .dataframe thead th {\n",
       "        text-align: right;\n",
       "    }\n",
       "</style>\n",
       "<table border=\"1\" class=\"dataframe\">\n",
       "  <thead>\n",
       "    <tr style=\"text-align: right;\">\n",
       "      <th></th>\n",
       "      <th>Country</th>\n",
       "      <th>Affiliation or university</th>\n",
       "      <th>Academic discipline</th>\n",
       "      <th>Career stage / position</th>\n",
       "      <th>How did you find out about this workshop?</th>\n",
       "      <th>Attendance/participation type</th>\n",
       "      <th>Stream only or also exercise group? Video or in-person?</th>\n",
       "      <th>Which days you plan to attend?</th>\n",
       "      <th>Registration date</th>\n",
       "      <th>Registration state</th>\n",
       "    </tr>\n",
       "    <tr>\n",
       "      <th>ID</th>\n",
       "      <th></th>\n",
       "      <th></th>\n",
       "      <th></th>\n",
       "      <th></th>\n",
       "      <th></th>\n",
       "      <th></th>\n",
       "      <th></th>\n",
       "      <th></th>\n",
       "      <th></th>\n",
       "      <th></th>\n",
       "    </tr>\n",
       "  </thead>\n",
       "  <tbody>\n",
       "    <tr>\n",
       "      <th>16</th>\n",
       "      <td>Norway</td>\n",
       "      <td>UiT The Arctic University of Norway</td>\n",
       "      <td>Chemical Sciences</td>\n",
       "      <td>Research software engineer</td>\n",
       "      <td>Another event</td>\n",
       "      <td>Organizer</td>\n",
       "      <td>I am an organizer or instructor or observer</td>\n",
       "      <td>Tue, Sep 20 (Day 1); Wed, Sep 21 (Day 2); Thu,...</td>\n",
       "      <td>2022-07-04 07:35:21.871298+00:00</td>\n",
       "      <td>Completed</td>\n",
       "    </tr>\n",
       "    <tr>\n",
       "      <th>17</th>\n",
       "      <td>Sweden</td>\n",
       "      <td>Chalmers University of Technology</td>\n",
       "      <td>Mechanical Engineering</td>\n",
       "      <td>Researcher</td>\n",
       "      <td>CodeRefinery.org; Educational institute</td>\n",
       "      <td>Learner</td>\n",
       "      <td>Watching stream and participate in online exer...</td>\n",
       "      <td>Tue, Sep 20 (Day 1); Wed, Sep 21 (Day 2); Thu,...</td>\n",
       "      <td>2022-07-04 08:57:15.110384+00:00</td>\n",
       "      <td>Completed</td>\n",
       "    </tr>\n",
       "  </tbody>\n",
       "</table>\n",
       "</div>"
      ],
      "text/plain": [
       "   Country            Affiliation or university     Academic discipline  \\\n",
       "ID                                                                        \n",
       "16  Norway  UiT The Arctic University of Norway       Chemical Sciences   \n",
       "17  Sweden    Chalmers University of Technology  Mechanical Engineering   \n",
       "\n",
       "       Career stage / position How did you find out about this workshop?  \\\n",
       "ID                                                                         \n",
       "16  Research software engineer                             Another event   \n",
       "17                  Researcher   CodeRefinery.org; Educational institute   \n",
       "\n",
       "   Attendance/participation type  \\\n",
       "ID                                 \n",
       "16                     Organizer   \n",
       "17                       Learner   \n",
       "\n",
       "   Stream only or also exercise group? Video or in-person?  \\\n",
       "ID                                                           \n",
       "16        I am an organizer or instructor or observer        \n",
       "17  Watching stream and participate in online exer...        \n",
       "\n",
       "                       Which days you plan to attend?  \\\n",
       "ID                                                      \n",
       "16  Tue, Sep 20 (Day 1); Wed, Sep 21 (Day 2); Thu,...   \n",
       "17  Tue, Sep 20 (Day 1); Wed, Sep 21 (Day 2); Thu,...   \n",
       "\n",
       "                   Registration date Registration state  \n",
       "ID                                                       \n",
       "16  2022-07-04 07:35:21.871298+00:00          Completed  \n",
       "17  2022-07-04 08:57:15.110384+00:00          Completed  "
      ]
     },
     "execution_count": null,
     "metadata": {},
     "output_type": "execute_result"
    }
   ],
   "source": [
    "individualDF.head(2)"
   ]
  },
  {
   "cell_type": "markdown",
   "id": "dbaadc59-52e8-4da6-abc5-ac3ee0eefb48",
   "metadata": {},
   "source": [
    "<font color=#330099>Count some values</font>"
   ]
  },
  {
   "cell_type": "code",
   "execution_count": null,
   "id": "c78609d4-a6fe-47e9-ba5e-695570faefe3",
   "metadata": {},
   "outputs": [],
   "source": [
    "countCountries = individualDF[\"Country\"].value_counts()\n",
    "countOrganisations = individualDF[\"Affiliation or university\"].value_counts()\n",
    "countAcademic = individualDF[\"Academic discipline\"].value_counts()\n",
    "countCareer = individualDF[\"Career stage / position\"].value_counts()\n",
    "countFindOut = individualDF[\"How did you find out about this workshop?\"].value_counts()\n",
    "countAttendaceType1 = individualDF[\"Attendance/participation type\"].value_counts()\n",
    "countAttendaceType2 = individualDF[\"Stream only or also exercise group? Video or in-person?\"].value_counts()\n",
    "countAttendaceDays = individualDF[\"Which days you plan to attend?\"].value_counts()"
   ]
  },
  {
   "cell_type": "markdown",
   "id": "650463ef-0c52-4551-a7d5-6a29ecb35cc0",
   "metadata": {},
   "source": [
    "### Country\n",
    "\n",
    "<font color=#330099>This can be plotted right away</font>"
   ]
  },
  {
   "cell_type": "code",
   "execution_count": null,
   "id": "701774d3-fb0d-4a15-aed3-a8472d9e304d",
   "metadata": {
    "tags": []
   },
   "outputs": [
    {
     "data": {
      "text/plain": [
       "Finland              61\n",
       "Sweden               50\n",
       "Norway               38\n",
       "Spain                12\n",
       "Denmark               7\n",
       "Netherlands           5\n",
       "India                 4\n",
       "Ireland               3\n",
       "Switzerland           3\n",
       "United Kingdom        3\n",
       "Italy                 3\n",
       "France                2\n",
       "United States         2\n",
       "Trinidad & Tobago     1\n",
       "Singapore             1\n",
       "China                 1\n",
       "Thailand              1\n",
       "Greece                1\n",
       "Iran                  1\n",
       "Turkey                1\n",
       "Brazil                1\n",
       "Indonesia             1\n",
       "Germany               1\n",
       "Canada                1\n",
       "Name: Country, dtype: int64"
      ]
     },
     "execution_count": null,
     "metadata": {},
     "output_type": "execute_result"
    }
   ],
   "source": [
    "countCountries"
   ]
  },
  {
   "cell_type": "code",
   "execution_count": 63,
   "id": "25c79592-b008-4bc9-a705-c5c52d629482",
   "metadata": {},
   "outputs": [],
   "source": [
    "countCountries_DF = countCountries.reset_index()"
   ]
  },
  {
   "cell_type": "code",
   "execution_count": 77,
   "id": "f24e6c58-c3f4-4b71-8078-ff01b8db6bcc",
   "metadata": {},
   "outputs": [
    {
     "data": {
      "image/png": "[encoded data removed]",
      "text/plain": [
       "<Figure size 640x480 with 1 Axes>"
      ]
     },
     "metadata": {},
     "output_type": "display_data"
    }
   ],
   "source": [
    "ax = sns.barplot(x=countCountries_DF.index, y=countCountries_DF.Country, data=countCountries_DF)\n",
    "ax.set(title=\"Countries\")\n",
    "ax.set_xticklabels(countCountries.index)\n",
    "ax.tick_params(labelrotation = 270)"
   ]
  },
  {
   "cell_type": "markdown",
   "id": "e2579c5d-7c30-4ffe-8a8d-4636c88af0fc",
   "metadata": {},
   "source": [
    "### Affiliation or university\n",
    "\n",
    "<font color=#ff0000>This has some names with slight variations so needs handling</font>"
   ]
  },
  {
   "cell_type": "code",
   "execution_count": 96,
   "id": "6803f6e3-94e0-4ee2-a5f8-be7b791839d1",
   "metadata": {
    "tags": []
   },
   "outputs": [
    {
     "data": {
      "text/plain": [
       "Aalto University                                         32\n",
       "NTNU                                                     10\n",
       "Uppsala University                                        9\n",
       "SMHI                                                      9\n",
       "University of Oslo                                        6\n",
       "                                                         ..\n",
       "Norwegian University of Science and Technology (NTNU)     1\n",
       "Justervesenet-Norwegian Metrology Service                 1\n",
       "University of South Eastern Norway                        1\n",
       "Technical University of Chalmers                          1\n",
       "UiO                                                       1\n",
       "Name: Affiliation or university, Length: 107, dtype: int64"
      ]
     },
     "execution_count": 96,
     "metadata": {},
     "output_type": "execute_result"
    }
   ],
   "source": [
    "countOrganisations"
   ]
  },
  {
   "cell_type": "markdown",
   "id": "8d41a981-9c1e-4562-bed2-3393a6b10dd1",
   "metadata": {},
   "source": [
    "### Academic discipline\n",
    "\n",
    "<font color=#330099>This can be plotted right away</font>"
   ]
  },
  {
   "cell_type": "code",
   "execution_count": 81,
   "id": "e1fde92a-a913-4563-8adc-8810446ddf40",
   "metadata": {
    "tags": []
   },
   "outputs": [],
   "source": [
    "countAcademic_DF = countAcademic.reset_index()"
   ]
  },
  {
   "cell_type": "code",
   "execution_count": null,
   "id": "d99da6dc-22db-44b7-90b8-0cfac342d14a",
   "metadata": {
    "tags": []
   },
   "outputs": [
    {
     "data": {
      "text/html": [
       "<div>\n",
       "<style scoped>\n",
       "    .dataframe tbody tr th:only-of-type {\n",
       "        vertical-align: middle;\n",
       "    }\n",
       "\n",
       "    .dataframe tbody tr th {\n",
       "        vertical-align: top;\n",
       "    }\n",
       "\n",
       "    .dataframe thead th {\n",
       "        text-align: right;\n",
       "    }\n",
       "</style>\n",
       "<table border=\"1\" class=\"dataframe\">\n",
       "  <thead>\n",
       "    <tr style=\"text-align: right;\">\n",
       "      <th></th>\n",
       "      <th>index</th>\n",
       "      <th>Academic discipline</th>\n",
       "    </tr>\n",
       "  </thead>\n",
       "  <tbody>\n",
       "    <tr>\n",
       "      <th>0</th>\n",
       "      <td>Computer and Information Sciences</td>\n",
       "      <td>31</td>\n",
       "    </tr>\n",
       "    <tr>\n",
       "      <th>1</th>\n",
       "      <td>Physical Sciences</td>\n",
       "      <td>28</td>\n",
       "    </tr>\n",
       "    <tr>\n",
       "      <th>2</th>\n",
       "      <td>Biological Sciences</td>\n",
       "      <td>22</td>\n",
       "    </tr>\n",
       "    <tr>\n",
       "      <th>3</th>\n",
       "      <td>Chemical Sciences</td>\n",
       "      <td>18</td>\n",
       "    </tr>\n",
       "    <tr>\n",
       "      <th>4</th>\n",
       "      <td>Earth and Related Environmental Sciences</td>\n",
       "      <td>15</td>\n",
       "    </tr>\n",
       "    <tr>\n",
       "      <th>5</th>\n",
       "      <td>Electrical Engineering, Electronic Engineering...</td>\n",
       "      <td>14</td>\n",
       "    </tr>\n",
       "    <tr>\n",
       "      <th>6</th>\n",
       "      <td>Mechanical Engineering</td>\n",
       "      <td>13</td>\n",
       "    </tr>\n",
       "    <tr>\n",
       "      <th>7</th>\n",
       "      <td>Civil Engineering</td>\n",
       "      <td>8</td>\n",
       "    </tr>\n",
       "    <tr>\n",
       "      <th>8</th>\n",
       "      <td>Health Sciences</td>\n",
       "      <td>6</td>\n",
       "    </tr>\n",
       "    <tr>\n",
       "      <th>9</th>\n",
       "      <td>Psychology</td>\n",
       "      <td>4</td>\n",
       "    </tr>\n",
       "    <tr>\n",
       "      <th>10</th>\n",
       "      <td>Other Engineering and Technologies</td>\n",
       "      <td>4</td>\n",
       "    </tr>\n",
       "    <tr>\n",
       "      <th>11</th>\n",
       "      <td>Mathematics</td>\n",
       "      <td>4</td>\n",
       "    </tr>\n",
       "    <tr>\n",
       "      <th>12</th>\n",
       "      <td>Medical Engineering</td>\n",
       "      <td>2</td>\n",
       "    </tr>\n",
       "    <tr>\n",
       "      <th>13</th>\n",
       "      <td>Environmental Engineering</td>\n",
       "      <td>2</td>\n",
       "    </tr>\n",
       "    <tr>\n",
       "      <th>14</th>\n",
       "      <td>Basic Medicine</td>\n",
       "      <td>2</td>\n",
       "    </tr>\n",
       "    <tr>\n",
       "      <th>15</th>\n",
       "      <td>Clinical Medicine</td>\n",
       "      <td>2</td>\n",
       "    </tr>\n",
       "    <tr>\n",
       "      <th>16</th>\n",
       "      <td>Other Natural Sciences</td>\n",
       "      <td>2</td>\n",
       "    </tr>\n",
       "    <tr>\n",
       "      <th>17</th>\n",
       "      <td>Other Medical and Health Sciences</td>\n",
       "      <td>2</td>\n",
       "    </tr>\n",
       "    <tr>\n",
       "      <th>18</th>\n",
       "      <td>Economics and Business</td>\n",
       "      <td>2</td>\n",
       "    </tr>\n",
       "    <tr>\n",
       "      <th>19</th>\n",
       "      <td>Materials Engineering</td>\n",
       "      <td>1</td>\n",
       "    </tr>\n",
       "    <tr>\n",
       "      <th>20</th>\n",
       "      <td>Other Social Sciences</td>\n",
       "      <td>1</td>\n",
       "    </tr>\n",
       "    <tr>\n",
       "      <th>21</th>\n",
       "      <td>Political Science</td>\n",
       "      <td>1</td>\n",
       "    </tr>\n",
       "    <tr>\n",
       "      <th>22</th>\n",
       "      <td>Other</td>\n",
       "      <td>1</td>\n",
       "    </tr>\n",
       "    <tr>\n",
       "      <th>23</th>\n",
       "      <td>Environmental Biotechnology</td>\n",
       "      <td>1</td>\n",
       "    </tr>\n",
       "  </tbody>\n",
       "</table>\n",
       "</div>"
      ],
      "text/plain": [
       "                                                index  Academic discipline\n",
       "0                   Computer and Information Sciences                   31\n",
       "1                                   Physical Sciences                   28\n",
       "2                                 Biological Sciences                   22\n",
       "3                                   Chemical Sciences                   18\n",
       "4            Earth and Related Environmental Sciences                   15\n",
       "5   Electrical Engineering, Electronic Engineering...                   14\n",
       "6                              Mechanical Engineering                   13\n",
       "7                                   Civil Engineering                    8\n",
       "8                                     Health Sciences                    6\n",
       "9                                          Psychology                    4\n",
       "10                 Other Engineering and Technologies                    4\n",
       "11                                        Mathematics                    4\n",
       "12                                Medical Engineering                    2\n",
       "13                          Environmental Engineering                    2\n",
       "14                                     Basic Medicine                    2\n",
       "15                                  Clinical Medicine                    2\n",
       "16                             Other Natural Sciences                    2\n",
       "17                  Other Medical and Health Sciences                    2\n",
       "18                             Economics and Business                    2\n",
       "19                              Materials Engineering                    1\n",
       "20                              Other Social Sciences                    1\n",
       "21                                  Political Science                    1\n",
       "22                                              Other                    1\n",
       "23                        Environmental Biotechnology                    1"
      ]
     },
     "execution_count": 82,
     "metadata": {},
     "output_type": "execute_result"
    }
   ],
   "source": [
    "countAcademic_DF"
   ]
  },
  {
   "cell_type": "markdown",
   "id": "5c45a7df-2077-43df-9e0b-32a84d1050df",
   "metadata": {},
   "source": [
    "<font color=#ff0000>This does not quite do what I wanted</plot>"
   ]
  },
  {
   "cell_type": "code",
   "execution_count": 85,
   "id": "3b5d99ce-c4bb-4b3c-a610-f8170c5bbcb1",
   "metadata": {},
   "outputs": [
    {
     "data": {
      "image/png": "[encoded data removed]",
      "text/plain": [
       "<Figure size 640x480 with 1 Axes>"
      ]
     },
     "metadata": {},
     "output_type": "display_data"
    }
   ],
   "source": [
    "ax = sns.barplot(x=countAcademic_DF.index, y=countAcademic_DF[\"Academic discipline\"], data=countAcademic_DF)\n",
    "ax.set(title=\"Academic Backgrounds\")\n",
    "ax.set_xticklabels(countAcademic.index)\n",
    "ax.tick_params(labelrotation = 270)"
   ]
  },
  {
   "cell_type": "markdown",
   "id": "02174669-31c9-487b-a026-9c6435940a6e",
   "metadata": {},
   "source": [
    "### Career stage / position\n",
    "\n",
    "<font color=#330099>This can be plotted right away</font>"
   ]
  },
  {
   "cell_type": "code",
   "execution_count": 86,
   "id": "a2800514-f328-4636-8f8a-b7deba2f63ba",
   "metadata": {
    "tags": []
   },
   "outputs": [],
   "source": [
    "countCareer_DF = countCareer.reset_index()"
   ]
  },
  {
   "cell_type": "code",
   "execution_count": null,
   "id": "e0a73511-1fea-4075-a332-f4019974b36d",
   "metadata": {
    "tags": []
   },
   "outputs": [
    {
     "data": {
      "text/html": [
       "<div>\n",
       "<style scoped>\n",
       "    .dataframe tbody tr th:only-of-type {\n",
       "        vertical-align: middle;\n",
       "    }\n",
       "\n",
       "    .dataframe tbody tr th {\n",
       "        vertical-align: top;\n",
       "    }\n",
       "\n",
       "    .dataframe thead th {\n",
       "        text-align: right;\n",
       "    }\n",
       "</style>\n",
       "<table border=\"1\" class=\"dataframe\">\n",
       "  <thead>\n",
       "    <tr style=\"text-align: right;\">\n",
       "      <th></th>\n",
       "      <th>index</th>\n",
       "      <th>Career stage / position</th>\n",
       "    </tr>\n",
       "  </thead>\n",
       "  <tbody>\n",
       "    <tr>\n",
       "      <th>0</th>\n",
       "      <td>Graduate student</td>\n",
       "      <td>72</td>\n",
       "    </tr>\n",
       "    <tr>\n",
       "      <th>1</th>\n",
       "      <td>Researcher</td>\n",
       "      <td>37</td>\n",
       "    </tr>\n",
       "    <tr>\n",
       "      <th>2</th>\n",
       "      <td>Postdoc</td>\n",
       "      <td>26</td>\n",
       "    </tr>\n",
       "    <tr>\n",
       "      <th>3</th>\n",
       "      <td>Research software engineer</td>\n",
       "      <td>17</td>\n",
       "    </tr>\n",
       "    <tr>\n",
       "      <th>4</th>\n",
       "      <td>Other</td>\n",
       "      <td>12</td>\n",
       "    </tr>\n",
       "    <tr>\n",
       "      <th>5</th>\n",
       "      <td>Professor</td>\n",
       "      <td>9</td>\n",
       "    </tr>\n",
       "    <tr>\n",
       "      <th>6</th>\n",
       "      <td>Industry</td>\n",
       "      <td>8</td>\n",
       "    </tr>\n",
       "    <tr>\n",
       "      <th>7</th>\n",
       "      <td>Undergrad. student</td>\n",
       "      <td>5</td>\n",
       "    </tr>\n",
       "  </tbody>\n",
       "</table>\n",
       "</div>"
      ],
      "text/plain": [
       "                        index  Career stage / position\n",
       "0            Graduate student                       72\n",
       "1                  Researcher                       37\n",
       "2                     Postdoc                       26\n",
       "3  Research software engineer                       17\n",
       "4                       Other                       12\n",
       "5                   Professor                        9\n",
       "6                    Industry                        8\n",
       "7          Undergrad. student                        5"
      ]
     },
     "execution_count": 87,
     "metadata": {},
     "output_type": "execute_result"
    }
   ],
   "source": [
    "countCareer_DF"
   ]
  },
  {
   "cell_type": "code",
   "execution_count": 89,
   "id": "3b64076e-3aef-4aed-8a4f-b8a5f2166518",
   "metadata": {},
   "outputs": [
    {
     "data": {
      "image/png": "[encoded data removed]",
      "text/plain": [
       "<Figure size 640x480 with 1 Axes>"
      ]
     },
     "metadata": {},
     "output_type": "display_data"
    }
   ],
   "source": [
    "ax = sns.barplot(x=countCareer_DF.index, y=countCareer_DF[\"Career stage / position\"], data=countCareer_DF)\n",
    "ax.set(title=\"Academic Backgrounds\")\n",
    "ax.set_xticklabels(countCareer.index)\n",
    "ax.tick_params(labelrotation = 270)"
   ]
  },
  {
   "cell_type": "markdown",
   "id": "2113aa27-44d2-4869-98a2-ee55589e8f6b",
   "metadata": {},
   "source": [
    "### How did you find out about this workshop?\n",
    "\n",
    "<font color=#ff0000>This needs some text analysis</font>"
   ]
  },
  {
   "cell_type": "code",
   "execution_count": 99,
   "id": "c6a6dfbd-25eb-4394-a789-b3a326a5ab2d",
   "metadata": {
    "tags": []
   },
   "outputs": [
    {
     "data": {
      "text/plain": [
       "Friend / Colleague                                                                   67\n",
       "Educational institute                                                                34\n",
       "CodeRefinery.org                                                                     19\n",
       "National HPC center                                                                  18\n",
       "Another event                                                                        15\n",
       "Twitter                                                                              15\n",
       "CodeRefinery.org; Educational institute                                               2\n",
       "Educational institute; Friend / Colleague                                             2\n",
       "CodeRefinery.org; National HPC center; Friend / Colleague                             1\n",
       "Twitter; Another event                                                                1\n",
       "Friend / Colleague; Another event                                                     1\n",
       "Educational institute; National HPC center                                            1\n",
       "Educational institute; Another event                                                  1\n",
       "Twitter; CodeRefinery.org; National HPC center; Friend / Colleague; Another event     1\n",
       "Twitter; Educational institute; National HPC center                                   1\n",
       "CodeRefinery.org; National HPC center                                                 1\n",
       "Twitter; CodeRefinery.org; Friend / Colleague                                         1\n",
       "CodeRefinery.org; Educational institute; Friend / Colleague                           1\n",
       "National HPC center; Friend / Colleague                                               1\n",
       "Name: How did you find out about this workshop?, dtype: int64"
      ]
     },
     "execution_count": 99,
     "metadata": {},
     "output_type": "execute_result"
    }
   ],
   "source": [
    "countFindOut"
   ]
  },
  {
   "cell_type": "markdown",
   "id": "654c2536-12d4-4dc4-8522-9c44a656fe2d",
   "metadata": {},
   "source": [
    "### Attendance/participation type\n",
    "\n",
    "<font color=#330099>This can be plotted right away</font>"
   ]
  },
  {
   "cell_type": "code",
   "execution_count": 100,
   "id": "15ceb4c5-20d5-47e5-bca7-f5a67bf3054a",
   "metadata": {
    "tags": []
   },
   "outputs": [
    {
     "data": {
      "text/plain": [
       "Learner            185\n",
       "Instructor           6\n",
       "Observer             5\n",
       "Organizer            3\n",
       "Expert helper        3\n",
       "Exercise leader      2\n",
       "Name: Attendance/participation type, dtype: int64"
      ]
     },
     "execution_count": 100,
     "metadata": {},
     "output_type": "execute_result"
    }
   ],
   "source": [
    "countAttendaceType1"
   ]
  },
  {
   "cell_type": "markdown",
   "id": "ce352506-bbcf-4c95-b4e4-65389ce644e0",
   "metadata": {},
   "source": [
    "### Stream only or also exercise group? Video or in-person?\n",
    "\n",
    "<font color=#330099>This can be plotted right away</font>"
   ]
  },
  {
   "cell_type": "code",
   "execution_count": 101,
   "id": "b0c3ac49-a645-41f3-8b41-ba4a19c61bbb",
   "metadata": {
    "tags": []
   },
   "outputs": [
    {
     "data": {
      "text/plain": [
       "Only watching the stream                                                         90\n",
       "Watching stream and participate in online exercise group (Code Refinery Zoom)    62\n",
       "I would like to get more information and decide later                            29\n",
       "I would like to watch and exercise with others in-person                         14\n",
       "I am an organizer or instructor or observer                                       9\n",
       "Name: Stream only or also exercise group? Video or in-person?, dtype: int64"
      ]
     },
     "execution_count": 101,
     "metadata": {},
     "output_type": "execute_result"
    }
   ],
   "source": [
    "countAttendaceType2"
   ]
  },
  {
   "cell_type": "markdown",
   "id": "6823bf6a-0211-4905-9ce8-2956000d3e24",
   "metadata": {},
   "source": [
    "### Which days you plan to attend?\n",
    "\n",
    "<font color=#ff0000>This is tricky and potentially not worth it.</font>\n",
    "> It would be nice to know if the days have some differences. Probably we get that from the Twitch stats also"
   ]
  },
  {
   "cell_type": "code",
   "execution_count": 102,
   "id": "f66727b1-c58b-4e22-aa4f-2b9a72a839fd",
   "metadata": {
    "tags": []
   },
   "outputs": [
    {
     "data": {
      "text/plain": [
       "Tue, Sep 20 (Day 1); Wed, Sep 21 (Day 2); Thu, Sep 22 (Day 3); Tue, Sep 27 (Day 4); Wed, Sep 28 (Day 5); Thu, Sep 29 (Day 6)                                                        117\n",
       "Not sure I can attend, but please keep me informed                                                                                                                                   19\n",
       "Tue, Sep 20 (Day 1); Wed, Sep 21 (Day 2); Thu, Sep 22 (Day 3); Tue, Sep 27 (Day 4); Wed, Sep 28 (Day 5); Thu, Sep 29 (Day 6); Not sure I can attend, but please keep me informed     11\n",
       "Tue, Sep 27 (Day 4); Wed, Sep 28 (Day 5); Thu, Sep 29 (Day 6)                                                                                                                         8\n",
       "Tue, Sep 20 (Day 1); Wed, Sep 21 (Day 2); Thu, Sep 22 (Day 3)                                                                                                                         6\n",
       "Wed, Sep 21 (Day 2); Thu, Sep 22 (Day 3); Tue, Sep 27 (Day 4); Wed, Sep 28 (Day 5); Thu, Sep 29 (Day 6)                                                                               4\n",
       "Tue, Sep 20 (Day 1); Wed, Sep 21 (Day 2); Thu, Sep 22 (Day 3); Tue, Sep 27 (Day 4); Wed, Sep 28 (Day 5)                                                                               4\n",
       "Tue, Sep 20 (Day 1); Wed, Sep 21 (Day 2); Thu, Sep 22 (Day 3); Tue, Sep 27 (Day 4); Thu, Sep 29 (Day 6)                                                                               3\n",
       "Tue, Sep 20 (Day 1); Wed, Sep 21 (Day 2); Tue, Sep 27 (Day 4); Wed, Sep 28 (Day 5); Thu, Sep 29 (Day 6)                                                                               2\n",
       "Tue, Sep 20 (Day 1); Thu, Sep 22 (Day 3); Tue, Sep 27 (Day 4); Thu, Sep 29 (Day 6)                                                                                                    2\n",
       "Thu, Sep 29 (Day 6)                                                                                                                                                                   2\n",
       "Tue, Sep 20 (Day 1); Wed, Sep 21 (Day 2); Thu, Sep 22 (Day 3); Tue, Sep 27 (Day 4)                                                                                                    2\n",
       "Tue, Sep 20 (Day 1); Wed, Sep 21 (Day 2); Thu, Sep 22 (Day 3); Wed, Sep 28 (Day 5); Thu, Sep 29 (Day 6)                                                                               2\n",
       "Thu, Sep 22 (Day 3); Tue, Sep 27 (Day 4); Wed, Sep 28 (Day 5); Thu, Sep 29 (Day 6)                                                                                                    2\n",
       "Tue, Sep 20 (Day 1); Thu, Sep 22 (Day 3); Tue, Sep 27 (Day 4); Wed, Sep 28 (Day 5); Thu, Sep 29 (Day 6)                                                                               1\n",
       "Tue, Sep 20 (Day 1); Wed, Sep 21 (Day 2); Wed, Sep 28 (Day 5); Thu, Sep 29 (Day 6)                                                                                                    1\n",
       "Wed, Sep 21 (Day 2); Tue, Sep 27 (Day 4); Wed, Sep 28 (Day 5); Thu, Sep 29 (Day 6); Not sure I can attend, but please keep me informed                                                1\n",
       "Tue, Sep 20 (Day 1); Thu, Sep 22 (Day 3); Tue, Sep 27 (Day 4); Thu, Sep 29 (Day 6); Not sure I can attend, but please keep me informed                                                1\n",
       "Wed, Sep 21 (Day 2); Thu, Sep 22 (Day 3); Tue, Sep 27 (Day 4); Not sure I can attend, but please keep me informed                                                                     1\n",
       "Tue, Sep 20 (Day 1); Wed, Sep 21 (Day 2); Not sure I can attend, but please keep me informed                                                                                          1\n",
       "Tue, Sep 20 (Day 1); Wed, Sep 21 (Day 2); Thu, Sep 22 (Day 3); Wed, Sep 28 (Day 5); Thu, Sep 29 (Day 6); Not sure I can attend, but please keep me informed                           1\n",
       "Wed, Sep 21 (Day 2); Wed, Sep 28 (Day 5); Thu, Sep 29 (Day 6)                                                                                                                         1\n",
       "Wed, Sep 21 (Day 2); Thu, Sep 22 (Day 3); Tue, Sep 27 (Day 4); Thu, Sep 29 (Day 6); Not sure I can attend, but please keep me informed                                                1\n",
       "Tue, Sep 20 (Day 1); Tue, Sep 27 (Day 4); Wed, Sep 28 (Day 5); Thu, Sep 29 (Day 6)                                                                                                    1\n",
       "Tue, Sep 20 (Day 1); Wed, Sep 21 (Day 2); Thu, Sep 22 (Day 3); Tue, Sep 27 (Day 4); Not sure I can attend, but please keep me informed                                                1\n",
       "Tue, Sep 20 (Day 1); Not sure I can attend, but please keep me informed                                                                                                               1\n",
       "Tue, Sep 20 (Day 1)                                                                                                                                                                   1\n",
       "Wed, Sep 21 (Day 2); Thu, Sep 22 (Day 3); Tue, Sep 27 (Day 4); Thu, Sep 29 (Day 6)                                                                                                    1\n",
       "Tue, Sep 20 (Day 1); Thu, Sep 22 (Day 3); Wed, Sep 28 (Day 5); Thu, Sep 29 (Day 6)                                                                                                    1\n",
       "Tue, Sep 20 (Day 1); Wed, Sep 21 (Day 2)                                                                                                                                              1\n",
       "Wed, Sep 21 (Day 2); Thu, Sep 29 (Day 6)                                                                                                                                              1\n",
       "Wed, Sep 21 (Day 2); Thu, Sep 22 (Day 3); Wed, Sep 28 (Day 5); Thu, Sep 29 (Day 6)                                                                                                    1\n",
       "Tue, Sep 20 (Day 1); Wed, Sep 21 (Day 2); Tue, Sep 27 (Day 4); Wed, Sep 28 (Day 5)                                                                                                    1\n",
       "Tue, Sep 20 (Day 1); Wed, Sep 21 (Day 2); Tue, Sep 27 (Day 4)                                                                                                                         1\n",
       "Name: Which days you plan to attend?, dtype: int64"
      ]
     },
     "execution_count": 102,
     "metadata": {},
     "output_type": "execute_result"
    }
   ],
   "source": [
    "countAttendaceDays"
   ]
  },
  {
   "cell_type": "code",
   "execution_count": null,
   "id": "921e46e5-f320-42aa-9880-aa63254b0f19",
   "metadata": {},
   "outputs": [],
   "source": []
  },
  {
   "cell_type": "markdown",
   "id": "ac55f2eb-97ba-4f0d-94a4-c7772f979a5d",
   "metadata": {
    "tags": []
   },
   "source": [
    "## Team registrations\n",
    "<a id =2> </a>"
   ]
  },
  {
   "cell_type": "markdown",
   "id": "d113ba56-656e-4948-905a-6696b6a91221",
   "metadata": {},
   "source": [
    "<font color=#330099>Read in the csv from the repo</font>"
   ]
  },
  {
   "cell_type": "code",
   "execution_count": 105,
   "id": "17821399-7530-497f-9512-5db7ab01b9b1",
   "metadata": {},
   "outputs": [],
   "source": [
    "teamDF = pd.read_csv(\"./data/CR_teams.csv\", index_col=\"ID\")"
   ]
  },
  {
   "cell_type": "markdown",
   "id": "aa7469c4-8b8c-424a-8f90-96108843c700",
   "metadata": {},
   "source": [
    "<font color=#330099>Some summary</font>"
   ]
  },
  {
   "cell_type": "code",
   "execution_count": 106,
   "id": "4172e974-480f-47ff-b58f-3fea8fae526c",
   "metadata": {},
   "outputs": [
    {
     "name": "stdout",
     "output_type": "stream",
     "text": [
      "<class 'pandas.core.frame.DataFrame'>\n",
      "Int64Index: 8 entries, 41 to 253\n",
      "Data columns (total 10 columns):\n",
      " #   Column                                                               Non-Null Count  Dtype  \n",
      "---  ------                                                               --------------  -----  \n",
      " 0   Affiliation                                                          8 non-null      object \n",
      " 1   Actual number of teams                                               6 non-null      float64\n",
      " 2   Actual number of learners                                            6 non-null      float64\n",
      " 3   Actual number of exercise leads                                      6 non-null      float64\n",
      " 4   Country/countries that learners are affilated with                   6 non-null      object \n",
      " 5   Career stage/ position of learners                                   6 non-null      object \n",
      " 6   Academic discipline                                                  6 non-null      object \n",
      " 7   Academic disciplines (if multiple teams from different disciplines)  2 non-null      object \n",
      " 8   Registration date                                                    8 non-null      object \n",
      " 9   Registration state                                                   8 non-null      object \n",
      "dtypes: float64(3), object(7)\n",
      "memory usage: 704.0+ bytes\n"
     ]
    }
   ],
   "source": [
    "teamDF.info()"
   ]
  },
  {
   "cell_type": "markdown",
   "id": "bd1883b8-6bf0-4931-a51d-96a4b93626c7",
   "metadata": {},
   "source": [
    "<font color=#330099>A closer look</font>"
   ]
  },
  {
   "cell_type": "code",
   "execution_count": 107,
   "id": "cde384dd-1acd-43a0-a0c7-c255115e592f",
   "metadata": {},
   "outputs": [
    {
     "data": {
      "text/html": [
       "<div>\n",
       "<style scoped>\n",
       "    .dataframe tbody tr th:only-of-type {\n",
       "        vertical-align: middle;\n",
       "    }\n",
       "\n",
       "    .dataframe tbody tr th {\n",
       "        vertical-align: top;\n",
       "    }\n",
       "\n",
       "    .dataframe thead th {\n",
       "        text-align: right;\n",
       "    }\n",
       "</style>\n",
       "<table border=\"1\" class=\"dataframe\">\n",
       "  <thead>\n",
       "    <tr style=\"text-align: right;\">\n",
       "      <th></th>\n",
       "      <th>Affiliation</th>\n",
       "      <th>Actual number of teams</th>\n",
       "      <th>Actual number of learners</th>\n",
       "      <th>Actual number of exercise leads</th>\n",
       "      <th>Country/countries that learners are affilated with</th>\n",
       "      <th>Career stage/ position of learners</th>\n",
       "      <th>Academic discipline</th>\n",
       "      <th>Academic disciplines (if multiple teams from different disciplines)</th>\n",
       "      <th>Registration date</th>\n",
       "      <th>Registration state</th>\n",
       "    </tr>\n",
       "    <tr>\n",
       "      <th>ID</th>\n",
       "      <th></th>\n",
       "      <th></th>\n",
       "      <th></th>\n",
       "      <th></th>\n",
       "      <th></th>\n",
       "      <th></th>\n",
       "      <th></th>\n",
       "      <th></th>\n",
       "      <th></th>\n",
       "      <th></th>\n",
       "    </tr>\n",
       "  </thead>\n",
       "  <tbody>\n",
       "    <tr>\n",
       "      <th>41</th>\n",
       "      <td>TU Delft Library</td>\n",
       "      <td>4.0</td>\n",
       "      <td>19.0</td>\n",
       "      <td>5.0</td>\n",
       "      <td>TU Delft: 19</td>\n",
       "      <td>PhD candidate: 17, Researcher: 2</td>\n",
       "      <td>Mixed</td>\n",
       "      <td>Civil Engineering: 5, Computer and Information...</td>\n",
       "      <td>2022-07-11 11:27:26.901868+00:00</td>\n",
       "      <td>Completed</td>\n",
       "    </tr>\n",
       "    <tr>\n",
       "      <th>42</th>\n",
       "      <td>University of Jyväskylä</td>\n",
       "      <td>NaN</td>\n",
       "      <td>NaN</td>\n",
       "      <td>NaN</td>\n",
       "      <td>NaN</td>\n",
       "      <td>NaN</td>\n",
       "      <td>NaN</td>\n",
       "      <td>NaN</td>\n",
       "      <td>2022-07-11 12:25:35.330445+00:00</td>\n",
       "      <td>Completed</td>\n",
       "    </tr>\n",
       "  </tbody>\n",
       "</table>\n",
       "</div>"
      ],
      "text/plain": [
       "                Affiliation  Actual number of teams  \\\n",
       "ID                                                    \n",
       "41         TU Delft Library                     4.0   \n",
       "42  University of Jyväskylä                     NaN   \n",
       "\n",
       "    Actual number of learners  Actual number of exercise leads  \\\n",
       "ID                                                               \n",
       "41                       19.0                              5.0   \n",
       "42                        NaN                              NaN   \n",
       "\n",
       "   Country/countries that learners are affilated with  \\\n",
       "ID                                                      \n",
       "41                                       TU Delft: 19   \n",
       "42                                                NaN   \n",
       "\n",
       "   Career stage/ position of learners Academic discipline  \\\n",
       "ID                                                          \n",
       "41   PhD candidate: 17, Researcher: 2               Mixed   \n",
       "42                                NaN                 NaN   \n",
       "\n",
       "   Academic disciplines (if multiple teams from different disciplines)  \\\n",
       "ID                                                                       \n",
       "41  Civil Engineering: 5, Computer and Information...                    \n",
       "42                                                NaN                    \n",
       "\n",
       "                   Registration date Registration state  \n",
       "ID                                                       \n",
       "41  2022-07-11 11:27:26.901868+00:00          Completed  \n",
       "42  2022-07-11 12:25:35.330445+00:00          Completed  "
      ]
     },
     "execution_count": 107,
     "metadata": {},
     "output_type": "execute_result"
    }
   ],
   "source": [
    "teamDF.head(2)"
   ]
  },
  {
   "cell_type": "markdown",
   "id": "1725858a-d724-4228-9610-e418eae454e6",
   "metadata": {},
   "source": [
    "<font color=#330099>Count some values</font>"
   ]
  },
  {
   "cell_type": "code",
   "execution_count": 108,
   "id": "547a219b-f513-4b26-a54a-2cce38381571",
   "metadata": {},
   "outputs": [],
   "source": [
    "countActualTeams_team = teamDF[\"Actual number of teams\"].value_counts()\n",
    "countActualLearners_team = teamDF[\"Actual number of learners\"].value_counts()\n",
    "countActualELs_team = teamDF[\"Actual number of exercise leads\"].value_counts()"
   ]
  },
  {
   "cell_type": "code",
   "execution_count": 109,
   "id": "b5c0d13c-caf0-40ab-9b76-51cd805f0a29",
   "metadata": {},
   "outputs": [
    {
     "data": {
      "text/plain": [
       "1.0    4\n",
       "4.0    1\n",
       "2.0    1\n",
       "Name: Actual number of teams, dtype: int64"
      ]
     },
     "execution_count": 109,
     "metadata": {},
     "output_type": "execute_result"
    }
   ],
   "source": [
    "countActualTeams_team"
   ]
  },
  {
   "cell_type": "code",
   "execution_count": 110,
   "id": "8faae920-232e-454c-8d9b-b476b9c66fd6",
   "metadata": {},
   "outputs": [
    {
     "data": {
      "text/plain": [
       "5.0     2\n",
       "19.0    1\n",
       "12.0    1\n",
       "2.0     1\n",
       "4.0     1\n",
       "Name: Actual number of learners, dtype: int64"
      ]
     },
     "execution_count": 110,
     "metadata": {},
     "output_type": "execute_result"
    }
   ],
   "source": [
    "countActualLearners_team"
   ]
  },
  {
   "cell_type": "code",
   "execution_count": 111,
   "id": "d2c5d6a2-5b1b-4fb8-b229-3c35e8c7cb0d",
   "metadata": {},
   "outputs": [
    {
     "data": {
      "text/plain": [
       "2.0    4\n",
       "5.0    1\n",
       "1.0    1\n",
       "Name: Actual number of exercise leads, dtype: int64"
      ]
     },
     "execution_count": 111,
     "metadata": {},
     "output_type": "execute_result"
    }
   ],
   "source": [
    "countActualELs_team"
   ]
  },
  {
   "cell_type": "code",
   "execution_count": null,
   "id": "db8d2cd9-ad5d-4454-8bd3-2d8d9f95d68c",
   "metadata": {},
   "outputs": [],
   "source": []
  }
 ],
 "metadata": {
  "kernelspec": {
   "display_name": "Python 3 (ipykernel)",
   "language": "python",
   "name": "python3"
  },
  "language_info": {
   "codemirror_mode": {
    "name": "ipython",
    "version": 3
   },
   "file_extension": ".py",
   "mimetype": "text/x-python",
   "name": "python",
   "nbconvert_exporter": "python",
   "pygments_lexer": "ipython3",
   "version": "3.10.6"
  }
 },
 "nbformat": 4,
 "nbformat_minor": 5
}
