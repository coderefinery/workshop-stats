{
 "cells": [
  {
   "cell_type": "markdown",
   "id": "8f86a623-fd94-4283-96a6-c2ce79f70970",
   "metadata": {},
   "source": [
    "# Data in and anonymisation"
   ]
  },
  {
   "cell_type": "code",
   "execution_count": 6,
   "id": "0cdd27a2-ec26-4010-95bb-59850e661cbe",
   "metadata": {},
   "outputs": [],
   "source": [
    "import numpy as np\n",
    "import pandas as pd"
   ]
  },
  {
   "cell_type": "markdown",
   "id": "5dd52f5d-3d3d-424c-bee0-7966e3524107",
   "metadata": {},
   "source": [
    "# Anonymisation"
   ]
  },
  {
   "cell_type": "markdown",
   "id": "5ce7103d-8134-4ac9-9dbd-3950b9872df9",
   "metadata": {},
   "source": [
    "<font color=#330099>Read indico csv-files from hard drive</font>"
   ]
  },
  {
   "cell_type": "code",
   "execution_count": 7,
   "id": "0b9391b1-1146-45ab-9b77-a0a967912d31",
   "metadata": {},
   "outputs": [],
   "source": [
    "individualDF_org = pd.read_csv(\"/Users/mjaaske/CSCPurkki/CodeRefinery_Purkki/Stats/CR_Individual_2022_10_13.csv\", index_col='ID')\n",
    "teamsDF_org = pd.read_csv(\"/Users/mjaaske/CSCPurkki/CodeRefinery_Purkki/Stats/CR_Team_2022_11_03.csv\", index_col='ID')"
   ]
  },
  {
   "cell_type": "code",
   "execution_count": 8,
   "id": "0754ca72-d99a-4e34-8faa-ef2e2796e23f",
   "metadata": {},
   "outputs": [],
   "source": [
    "# Drop some labels that have only NaN\n",
    "indy_drolabels = [\"Name\",\"Email Address\", \"Title\", \"Position\", \"Tags\", 'Other notes to organizers']\n",
    "team_drolabels = [\"Name\",\"Email Address\", \"Title\", \"Tags\", \"Alternative way of submitting results (link)\"]\n",
    "\n",
    "individualDF_org.drop(labels=indy_drolabels, axis=1, inplace=True)\n",
    "teamsDF_org.drop(labels=team_drolabels, axis=1, inplace=True)"
   ]
  },
  {
   "cell_type": "markdown",
   "id": "834fe2a1-c085-464e-af75-2997509305ef",
   "metadata": {},
   "source": [
    "<font color=#330099>Check the remaining columns</font>"
   ]
  },
  {
   "cell_type": "code",
   "execution_count": 9,
   "id": "0f550f8c-19e4-4e99-90cb-49daf35de8a5",
   "metadata": {},
   "outputs": [
    {
     "data": {
      "text/plain": [
       "Index(['Country', 'Affiliation or university', 'Academic discipline',\n",
       "       'Career stage / position', 'How did you find out about this workshop?',\n",
       "       'Attendance/participation type',\n",
       "       'Stream only or also exercise group? Video or in-person?',\n",
       "       'Which days you plan to attend?', 'Registration date',\n",
       "       'Registration state'],\n",
       "      dtype='object')"
      ]
     },
     "execution_count": 9,
     "metadata": {},
     "output_type": "execute_result"
    }
   ],
   "source": [
    "individualDF_org.columns"
   ]
  },
  {
   "cell_type": "code",
   "execution_count": 10,
   "id": "4c42ea1d-af6e-480d-a5ef-28b835e5e11b",
   "metadata": {},
   "outputs": [
    {
     "data": {
      "text/plain": [
       "Index(['Affiliation', 'Actual number of teams', 'Actual number of learners',\n",
       "       'Actual number of exercise leads',\n",
       "       'Country/countries that learners are affilated with',\n",
       "       'Career stage/ position of learners', 'Academic discipline',\n",
       "       'Academic disciplines (if multiple teams from different disciplines)',\n",
       "       'Registration date', 'Registration state'],\n",
       "      dtype='object')"
      ]
     },
     "execution_count": 10,
     "metadata": {},
     "output_type": "execute_result"
    }
   ],
   "source": [
    "teamsDF_org.columns"
   ]
  },
  {
   "cell_type": "markdown",
   "id": "1f932786-140e-4c86-af8f-26b189591c69",
   "metadata": {},
   "source": [
    "<font color=#330099>Sort and export to csv inside repo</font>"
   ]
  },
  {
   "cell_type": "code",
   "execution_count": 11,
   "id": "81f08ac1-7b63-4830-bf9e-924694b705a4",
   "metadata": {},
   "outputs": [],
   "source": [
    "individualDF_org.sort_index(inplace=True)\n",
    "teamsDF_org.sort_index(inplace=True)"
   ]
  },
  {
   "cell_type": "code",
   "execution_count": 12,
   "id": "bdebf869-1ebc-40a7-b010-894259616c34",
   "metadata": {},
   "outputs": [],
   "source": [
    "individualDF_org.to_csv('./data/CR_individual.csv')\n",
    "teamsDF_org.to_csv('./data/CR_teams.csv')"
   ]
  },
  {
   "cell_type": "markdown",
   "id": "da3cad10-b9a3-4ae4-a470-ce248406ab13",
   "metadata": {},
   "source": [
    "## Zoom participants"
   ]
  },
  {
   "cell_type": "code",
   "execution_count": 18,
   "id": "94e8c0d8-864e-4510-8efd-038f4e3dda6c",
   "metadata": {},
   "outputs": [],
   "source": [
    "zoomersDF_org_1 = pd.read_csv(\"/Users/mjaaske/CSCPurkki/CodeRefinery_Purkki/Zoom_Data/participants_67240063539-1.csv\", index_col='Meeting ID').sort_index()\n",
    "zoomersDF_org_2 = pd.read_csv(\"/Users/mjaaske/CSCPurkki/CodeRefinery_Purkki/Zoom_Data/participants_67240063539-2.csv\", index_col='Meeting ID').sort_index()\n",
    "zoomersDF_org_3 = pd.read_csv(\"/Users/mjaaske/CSCPurkki/CodeRefinery_Purkki/Zoom_Data/participants_67240063539-3.csv\", index_col='Meeting ID').sort_index()\n",
    "zoomersDF_org_4 = pd.read_csv(\"/Users/mjaaske/CSCPurkki/CodeRefinery_Purkki/Zoom_Data/participants_67240063539-4.csv\", index_col='Meeting ID').sort_index()\n",
    "zoomersDF_org_5 = pd.read_csv(\"/Users/mjaaske/CSCPurkki/CodeRefinery_Purkki/Zoom_Data/participants_67240063539-5.csv\", index_col='Meeting ID').sort_index()\n",
    "zoomersDF_org_6 = pd.read_csv(\"/Users/mjaaske/CSCPurkki/CodeRefinery_Purkki/Zoom_Data/participants_67240063539-6.csv\", index_col='Meeting ID').sort_index()"
   ]
  },
  {
   "cell_type": "code",
   "execution_count": 27,
   "id": "e8556eaf-6de9-46be-9c2f-8c1e3c9b3f62",
   "metadata": {},
   "outputs": [],
   "source": [
    "zoomers_day1 = [ x for x in set(zoomersDF_org_1.index) if \"EL\" not in x and \"CR\" not in x and \"Matias\" not in x]\n",
    "zoomers_day2 = [ x for x in set(zoomersDF_org_2.index) if \"EL\" not in x and \"CR\" not in x and \"Matias\" not in x]\n",
    "zoomers_day3 = [ x for x in set(zoomersDF_org_3.index) if \"EL\" not in x and \"CR\" not in x and \"Matias\" not in x]\n",
    "zoomers_day4 = [ x for x in set(zoomersDF_org_4.index) if \"EL\" not in x and \"CR\" not in x and \"Matias\" not in x]\n",
    "zoomers_day5 = [ x for x in set(zoomersDF_org_5.index) if \"EL\" not in x and \"CR\" not in x and \"Matias\" not in x]\n",
    "zoomers_day6 = [ x for x in set(zoomersDF_org_6.index) if \"EL\" not in x and \"CR\" not in x and \"Matias\" not in x]"
   ]
  },
  {
   "cell_type": "code",
   "execution_count": 31,
   "id": "295206c1-e0eb-4a41-aed4-4f170c7b5e48",
   "metadata": {},
   "outputs": [
    {
     "data": {
      "text/plain": [
       "[59, 42, 46, 25, 32, 40]"
      ]
     },
     "execution_count": 31,
     "metadata": {},
     "output_type": "execute_result"
    }
   ],
   "source": [
    "[len(zoomers_day1), len(zoomers_day2),len(zoomers_day3),len(zoomers_day4),len(zoomers_day5),len(zoomers_day6)]"
   ]
  },
  {
   "cell_type": "code",
   "execution_count": null,
   "id": "c8a279db-9be5-41a1-9c60-133ea98e9faf",
   "metadata": {},
   "outputs": [],
   "source": []
  }
 ],
 "metadata": {
  "kernelspec": {
   "display_name": "Python 3 (ipykernel)",
   "language": "python",
   "name": "python3"
  },
  "language_info": {
   "codemirror_mode": {
    "name": "ipython",
    "version": 3
   },
   "file_extension": ".py",
   "mimetype": "text/x-python",
   "name": "python",
   "nbconvert_exporter": "python",
   "pygments_lexer": "ipython3",
   "version": "3.10.6"
  }
 },
 "nbformat": 4,
 "nbformat_minor": 5
}
