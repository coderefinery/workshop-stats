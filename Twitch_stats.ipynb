{
 "cells": [
  {
   "cell_type": "markdown",
   "id": "209aa622-5bc5-4a2b-b15e-131db332e2eb",
   "metadata": {},
   "source": [
    "# Twitch stats"
   ]
  },
  {
   "cell_type": "code",
   "execution_count": 2,
   "id": "1f9ad886-1c3b-4c3d-ad46-1923324fff91",
   "metadata": {},
   "outputs": [],
   "source": [
    "import numpy as np\n",
    "import pandas as pd\n",
    "import seaborn as sns # For plotting"
   ]
  },
  {
   "cell_type": "markdown",
   "id": "8d004be9-d1bc-44a0-b081-e1cedf5662bf",
   "metadata": {},
   "source": [
    "<mark>Jump right into analyses from here:</mark>\n",
    "\n",
    "[Twitch durations and participants](#1)  "
   ]
  },
  {
   "cell_type": "markdown",
   "id": "91b7bb78-79a1-48ae-b40a-b9378cb9256e",
   "metadata": {},
   "source": [
    "## Read in the csv"
   ]
  },
  {
   "cell_type": "markdown",
   "id": "8bbac043-92a2-4270-a500-89da9aa60d45",
   "metadata": {},
   "source": [
    "<font color=#330099>Read in the csv from the repo and set time as index</font>"
   ]
  },
  {
   "cell_type": "code",
   "execution_count": 7,
   "id": "067cbad1-4d9d-4ec8-88f7-140efda5c6bc",
   "metadata": {},
   "outputs": [],
   "source": [
    "twitchDF_day1 = pd.read_csv(\"./data/Stream Session from 9_20_2022 to 9_20_2022.csv\")\n",
    "twitchDF_day2 = pd.read_csv(\"./data/Stream Session from 9_21_2022 to 9_21_2022.csv\")\n",
    "twitchDF_day3 = pd.read_csv(\"./data/Stream Session from 9_22_2022 to 9_22_2022.csv\")\n",
    "twitchDF_day4 = pd.read_csv(\"./data/Stream Session from 9_27_2022 to 9_27_2022.csv\")\n",
    "twitchDF_day5 = pd.read_csv(\"./data/Stream Session from 9_28_2022 to 9_28_2022.csv\")\n",
    "twitchDF_day6 = pd.read_csv(\"./data/Stream Session from 9_29_2022 to 9_29_2022.csv\")\n",
    "\n",
    "twitchDF_day1.set_index(\"Timestamp\", inplace=True)\n",
    "twitchDF_day2.set_index(\"Timestamp\", inplace=True)\n",
    "twitchDF_day3.set_index(\"Timestamp\", inplace=True)\n",
    "twitchDF_day4.set_index(\"Timestamp\", inplace=True)\n",
    "twitchDF_day5.set_index(\"Timestamp\", inplace=True)\n",
    "twitchDF_day6.set_index(\"Timestamp\", inplace=True)"
   ]
  },
  {
   "cell_type": "markdown",
   "id": "2df938a5-48ad-4dcb-a815-ff53fa3eb3c1",
   "metadata": {},
   "source": [
    "<font color=#330099>A closer look</font>"
   ]
  },
  {
   "cell_type": "code",
   "execution_count": 8,
   "id": "26c76387-44c3-429d-8a86-ec0decac71a6",
   "metadata": {},
   "outputs": [
    {
     "data": {
      "text/html": [
       "<div>\n",
       "<style scoped>\n",
       "    .dataframe tbody tr th:only-of-type {\n",
       "        vertical-align: middle;\n",
       "    }\n",
       "\n",
       "    .dataframe tbody tr th {\n",
       "        vertical-align: top;\n",
       "    }\n",
       "\n",
       "    .dataframe thead th {\n",
       "        text-align: right;\n",
       "    }\n",
       "</style>\n",
       "<table border=\"1\" class=\"dataframe\">\n",
       "  <thead>\n",
       "    <tr style=\"text-align: right;\">\n",
       "      <th></th>\n",
       "      <th>Viewers</th>\n",
       "      <th>Live Views</th>\n",
       "      <th>New Followers</th>\n",
       "      <th>Chatters</th>\n",
       "      <th>Chat Messages</th>\n",
       "      <th>Ad Breaks</th>\n",
       "      <th>Subscriptions</th>\n",
       "      <th>Clips Created</th>\n",
       "      <th>All Clip Views</th>\n",
       "    </tr>\n",
       "    <tr>\n",
       "      <th>Timestamp</th>\n",
       "      <th></th>\n",
       "      <th></th>\n",
       "      <th></th>\n",
       "      <th></th>\n",
       "      <th></th>\n",
       "      <th></th>\n",
       "      <th></th>\n",
       "      <th></th>\n",
       "      <th></th>\n",
       "    </tr>\n",
       "  </thead>\n",
       "  <tbody>\n",
       "    <tr>\n",
       "      <th>9:35 AM</th>\n",
       "      <td>18.0</td>\n",
       "      <td>22.0</td>\n",
       "      <td>NaN</td>\n",
       "      <td>NaN</td>\n",
       "      <td>NaN</td>\n",
       "      <td>NaN</td>\n",
       "      <td>NaN</td>\n",
       "      <td>NaN</td>\n",
       "      <td>NaN</td>\n",
       "    </tr>\n",
       "    <tr>\n",
       "      <th>9:40 AM</th>\n",
       "      <td>38.0</td>\n",
       "      <td>21.0</td>\n",
       "      <td>2.0</td>\n",
       "      <td>NaN</td>\n",
       "      <td>NaN</td>\n",
       "      <td>NaN</td>\n",
       "      <td>NaN</td>\n",
       "      <td>NaN</td>\n",
       "      <td>NaN</td>\n",
       "    </tr>\n",
       "    <tr>\n",
       "      <th>9:45 AM</th>\n",
       "      <td>56.2</td>\n",
       "      <td>32.0</td>\n",
       "      <td>NaN</td>\n",
       "      <td>NaN</td>\n",
       "      <td>NaN</td>\n",
       "      <td>NaN</td>\n",
       "      <td>NaN</td>\n",
       "      <td>NaN</td>\n",
       "      <td>NaN</td>\n",
       "    </tr>\n",
       "    <tr>\n",
       "      <th>9:50 AM</th>\n",
       "      <td>81.8</td>\n",
       "      <td>31.0</td>\n",
       "      <td>NaN</td>\n",
       "      <td>NaN</td>\n",
       "      <td>NaN</td>\n",
       "      <td>NaN</td>\n",
       "      <td>NaN</td>\n",
       "      <td>NaN</td>\n",
       "      <td>NaN</td>\n",
       "    </tr>\n",
       "    <tr>\n",
       "      <th>9:55 AM</th>\n",
       "      <td>99.8</td>\n",
       "      <td>31.0</td>\n",
       "      <td>NaN</td>\n",
       "      <td>NaN</td>\n",
       "      <td>NaN</td>\n",
       "      <td>NaN</td>\n",
       "      <td>NaN</td>\n",
       "      <td>NaN</td>\n",
       "      <td>NaN</td>\n",
       "    </tr>\n",
       "  </tbody>\n",
       "</table>\n",
       "</div>"
      ],
      "text/plain": [
       "           Viewers  Live Views  New Followers  Chatters  Chat Messages  \\\n",
       "Timestamp                                                                \n",
       "9:35 AM       18.0        22.0            NaN       NaN            NaN   \n",
       "9:40 AM       38.0        21.0            2.0       NaN            NaN   \n",
       "9:45 AM       56.2        32.0            NaN       NaN            NaN   \n",
       "9:50 AM       81.8        31.0            NaN       NaN            NaN   \n",
       "9:55 AM       99.8        31.0            NaN       NaN            NaN   \n",
       "\n",
       "           Ad Breaks  Subscriptions  Clips Created  All Clip Views  \n",
       "Timestamp                                                           \n",
       "9:35 AM          NaN            NaN            NaN             NaN  \n",
       "9:40 AM          NaN            NaN            NaN             NaN  \n",
       "9:45 AM          NaN            NaN            NaN             NaN  \n",
       "9:50 AM          NaN            NaN            NaN             NaN  \n",
       "9:55 AM          NaN            NaN            NaN             NaN  "
      ]
     },
     "execution_count": 8,
     "metadata": {},
     "output_type": "execute_result"
    }
   ],
   "source": [
    "twitchDF_day1.head()"
   ]
  },
  {
   "cell_type": "markdown",
   "id": "280f3e5b-2950-4fe3-9c57-d369713134ac",
   "metadata": {
    "tags": []
   },
   "source": [
    "## Twitch durations and participants\n",
    "<a id =1> </a>"
   ]
  },
  {
   "cell_type": "code",
   "execution_count": 12,
   "id": "30582f96-92b5-4a68-90d3-1753ddd82944",
   "metadata": {},
   "outputs": [
    {
     "name": "stdout",
     "output_type": "stream",
     "text": [
      "Day 1\n"
     ]
    },
    {
     "data": {
      "text/plain": [
       "[Text(0.5, 1.0, 'Viewers')]"
      ]
     },
     "execution_count": 12,
     "metadata": {},
     "output_type": "execute_result"
    },
    {
     "data": {
      "image/png": "[encoded data removed]",
      "text/plain": [
       "<Figure size 640x480 with 1 Axes>"
      ]
     },
     "metadata": {},
     "output_type": "display_data"
    }
   ],
   "source": [
    "print(\"Day 1\")\n",
    "sns.barplot(x=twitchDF_day1.index, y=twitchDF_day1.columns[0], data=twitchDF_day1).set(title=twitchDF_day1.columns[0])"
   ]
  },
  {
   "cell_type": "code",
   "execution_count": 28,
   "id": "f7f031f7-2c7f-4d79-972e-ed4b5f708b94",
   "metadata": {},
   "outputs": [
    {
     "data": {
      "text/plain": [
       "[Text(0.5, 1.0, 'Participants')]"
      ]
     },
     "execution_count": 28,
     "metadata": {},
     "output_type": "execute_result"
    },
    {
     "data": {
      "image/png": "[encoded data removed]",
      "text/plain": [
       "<Figure size 640x480 with 1 Axes>"
      ]
     },
     "metadata": {},
     "output_type": "display_data"
    }
   ],
   "source": [
    "sns.barplot(x=zoomDF.index, y=zoomDF.columns[1], data=zoomDF).set(title=zoomDF.columns[1])"
   ]
  },
  {
   "cell_type": "code",
   "execution_count": null,
   "id": "606726f9-4d4f-4e9f-932b-4d42c3f796cd",
   "metadata": {},
   "outputs": [],
   "source": []
  }
 ],
 "metadata": {
  "kernelspec": {
   "display_name": "Python 3 (ipykernel)",
   "language": "python",
   "name": "python3"
  },
  "language_info": {
   "codemirror_mode": {
    "name": "ipython",
    "version": 3
   },
   "file_extension": ".py",
   "mimetype": "text/x-python",
   "name": "python",
   "nbconvert_exporter": "python",
   "pygments_lexer": "ipython3",
   "version": "3.10.6"
  }
 },
 "nbformat": 4,
 "nbformat_minor": 5
}
