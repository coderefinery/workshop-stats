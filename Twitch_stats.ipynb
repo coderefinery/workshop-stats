{
 "cells": [
  {
   "cell_type": "markdown",
   "id": "209aa622-5bc5-4a2b-b15e-131db332e2eb",
   "metadata": {},
   "source": [
    "# Twitch stats"
   ]
  },
  {
   "cell_type": "code",
   "execution_count": 1,
   "id": "1f9ad886-1c3b-4c3d-ad46-1923324fff91",
   "metadata": {},
   "outputs": [],
   "source": [
    "import numpy as np\n",
    "import pandas as pd\n",
    "import seaborn as sns # For plotting\n",
    "import matplotlib.pyplot as plt # For plot saving and stuff"
   ]
  },
  {
   "cell_type": "markdown",
   "id": "8d004be9-d1bc-44a0-b081-e1cedf5662bf",
   "metadata": {},
   "source": [
    "<mark>Jump right into analyses from here:</mark>\n",
    "\n",
    "[Twitch durations and participants](#1)  "
   ]
  },
  {
   "cell_type": "markdown",
   "id": "91b7bb78-79a1-48ae-b40a-b9378cb9256e",
   "metadata": {},
   "source": [
    "## Read in the csv"
   ]
  },
  {
   "cell_type": "markdown",
   "id": "8bbac043-92a2-4270-a500-89da9aa60d45",
   "metadata": {},
   "source": [
    "<font color=#330099>Read in the csv from the repo and set time as index</font>"
   ]
  },
  {
   "cell_type": "markdown",
   "id": "4dee300a-836a-4f5b-b866-cb58ed54501a",
   "metadata": {},
   "source": [
    "> Should start from 10 AM sharp and maybe take couple of last values away"
   ]
  },
  {
   "cell_type": "code",
   "execution_count": 2,
   "id": "067cbad1-4d9d-4ec8-88f7-140efda5c6bc",
   "metadata": {},
   "outputs": [],
   "source": [
    "twitchDF_day1 = pd.read_csv(\"./data/Stream Session from 9_20_2022 to 9_20_2022.csv\")\n",
    "twitchDF_day2 = pd.read_csv(\"./data/Stream Session from 9_21_2022 to 9_21_2022.csv\")\n",
    "twitchDF_day3 = pd.read_csv(\"./data/Stream Session from 9_22_2022 to 9_22_2022.csv\")\n",
    "twitchDF_day4 = pd.read_csv(\"./data/Stream Session from 9_27_2022 to 9_27_2022.csv\")\n",
    "twitchDF_day5 = pd.read_csv(\"./data/Stream Session from 9_28_2022 to 9_28_2022.csv\")\n",
    "twitchDF_day6 = pd.read_csv(\"./data/Stream Session from 9_29_2022 to 9_29_2022.csv\")\n",
    "\n",
    "twitchDF_day1.set_index(\"Timestamp\", inplace=True)\n",
    "twitchDF_day2.set_index(\"Timestamp\", inplace=True)\n",
    "twitchDF_day3.set_index(\"Timestamp\", inplace=True)\n",
    "twitchDF_day4.set_index(\"Timestamp\", inplace=True)\n",
    "twitchDF_day5.set_index(\"Timestamp\", inplace=True)\n",
    "twitchDF_day6.set_index(\"Timestamp\", inplace=True)"
   ]
  },
  {
   "cell_type": "markdown",
   "id": "2df938a5-48ad-4dcb-a815-ff53fa3eb3c1",
   "metadata": {},
   "source": [
    "<font color=#330099>A closer look</font>"
   ]
  },
  {
   "cell_type": "code",
   "execution_count": 3,
   "id": "36ee5093-6676-444c-8f43-ebf155bc45a8",
   "metadata": {},
   "outputs": [],
   "source": [
    "twitchDF_day1 = twitchDF_day1.loc[\"10:00 AM\":\"1:30 PM\"]\n",
    "twitchDF_day2 = twitchDF_day2.loc[\"10:00 AM\":\"1:30 PM\"]\n",
    "twitchDF_day3 = twitchDF_day3.loc[\"10:00 AM\":\"1:30 PM\"]\n",
    "twitchDF_day4 = twitchDF_day4.loc[\"10:00 AM\":\"1:30 PM\"]\n",
    "twitchDF_day5 = twitchDF_day5.loc[\"10:00 AM\":\"1:30 PM\"]\n",
    "twitchDF_day6 = twitchDF_day6.loc[\"10:00 AM\":\"1:30 PM\"]"
   ]
  },
  {
   "cell_type": "code",
   "execution_count": 4,
   "id": "83bb0510-22cc-4312-819d-8444e175cf34",
   "metadata": {},
   "outputs": [
    {
     "data": {
      "text/html": [
       "<div>\n",
       "<style scoped>\n",
       "    .dataframe tbody tr th:only-of-type {\n",
       "        vertical-align: middle;\n",
       "    }\n",
       "\n",
       "    .dataframe tbody tr th {\n",
       "        vertical-align: top;\n",
       "    }\n",
       "\n",
       "    .dataframe thead th {\n",
       "        text-align: right;\n",
       "    }\n",
       "</style>\n",
       "<table border=\"1\" class=\"dataframe\">\n",
       "  <thead>\n",
       "    <tr style=\"text-align: right;\">\n",
       "      <th></th>\n",
       "      <th>Viewers</th>\n",
       "      <th>Live Views</th>\n",
       "      <th>New Followers</th>\n",
       "      <th>Chatters</th>\n",
       "      <th>Chat Messages</th>\n",
       "      <th>Ad Breaks</th>\n",
       "      <th>Subscriptions</th>\n",
       "      <th>Clips Created</th>\n",
       "      <th>All Clip Views</th>\n",
       "    </tr>\n",
       "    <tr>\n",
       "      <th>Timestamp</th>\n",
       "      <th></th>\n",
       "      <th></th>\n",
       "      <th></th>\n",
       "      <th></th>\n",
       "      <th></th>\n",
       "      <th></th>\n",
       "      <th></th>\n",
       "      <th></th>\n",
       "      <th></th>\n",
       "    </tr>\n",
       "  </thead>\n",
       "  <tbody>\n",
       "    <tr>\n",
       "      <th>10:00 AM</th>\n",
       "      <td>123.6</td>\n",
       "      <td>33.0</td>\n",
       "      <td>NaN</td>\n",
       "      <td>3.0</td>\n",
       "      <td>3.0</td>\n",
       "      <td>NaN</td>\n",
       "      <td>NaN</td>\n",
       "      <td>NaN</td>\n",
       "      <td>NaN</td>\n",
       "    </tr>\n",
       "    <tr>\n",
       "      <th>10:05 AM</th>\n",
       "      <td>135.0</td>\n",
       "      <td>21.0</td>\n",
       "      <td>NaN</td>\n",
       "      <td>3.0</td>\n",
       "      <td>6.0</td>\n",
       "      <td>NaN</td>\n",
       "      <td>NaN</td>\n",
       "      <td>NaN</td>\n",
       "      <td>NaN</td>\n",
       "    </tr>\n",
       "    <tr>\n",
       "      <th>10:10 AM</th>\n",
       "      <td>141.8</td>\n",
       "      <td>20.0</td>\n",
       "      <td>3.0</td>\n",
       "      <td>2.0</td>\n",
       "      <td>2.0</td>\n",
       "      <td>NaN</td>\n",
       "      <td>NaN</td>\n",
       "      <td>2.0</td>\n",
       "      <td>NaN</td>\n",
       "    </tr>\n",
       "    <tr>\n",
       "      <th>10:15 AM</th>\n",
       "      <td>144.2</td>\n",
       "      <td>10.0</td>\n",
       "      <td>NaN</td>\n",
       "      <td>NaN</td>\n",
       "      <td>NaN</td>\n",
       "      <td>NaN</td>\n",
       "      <td>NaN</td>\n",
       "      <td>NaN</td>\n",
       "      <td>NaN</td>\n",
       "    </tr>\n",
       "    <tr>\n",
       "      <th>10:20 AM</th>\n",
       "      <td>146.2</td>\n",
       "      <td>11.0</td>\n",
       "      <td>NaN</td>\n",
       "      <td>1.0</td>\n",
       "      <td>1.0</td>\n",
       "      <td>NaN</td>\n",
       "      <td>NaN</td>\n",
       "      <td>NaN</td>\n",
       "      <td>NaN</td>\n",
       "    </tr>\n",
       "  </tbody>\n",
       "</table>\n",
       "</div>"
      ],
      "text/plain": [
       "           Viewers  Live Views  New Followers  Chatters  Chat Messages  \\\n",
       "Timestamp                                                                \n",
       "10:00 AM     123.6        33.0            NaN       3.0            3.0   \n",
       "10:05 AM     135.0        21.0            NaN       3.0            6.0   \n",
       "10:10 AM     141.8        20.0            3.0       2.0            2.0   \n",
       "10:15 AM     144.2        10.0            NaN       NaN            NaN   \n",
       "10:20 AM     146.2        11.0            NaN       1.0            1.0   \n",
       "\n",
       "           Ad Breaks  Subscriptions  Clips Created  All Clip Views  \n",
       "Timestamp                                                           \n",
       "10:00 AM         NaN            NaN            NaN             NaN  \n",
       "10:05 AM         NaN            NaN            NaN             NaN  \n",
       "10:10 AM         NaN            NaN            2.0             NaN  \n",
       "10:15 AM         NaN            NaN            NaN             NaN  \n",
       "10:20 AM         NaN            NaN            NaN             NaN  "
      ]
     },
     "execution_count": 4,
     "metadata": {},
     "output_type": "execute_result"
    }
   ],
   "source": [
    "twitchDF_day1.head()"
   ]
  },
  {
   "cell_type": "markdown",
   "id": "280f3e5b-2950-4fe3-9c57-d369713134ac",
   "metadata": {
    "tags": []
   },
   "source": [
    "## Twitch durations and participants\n",
    "<a id =1> </a>"
   ]
  },
  {
   "cell_type": "code",
   "execution_count": 5,
   "id": "3ce3622c-9362-448b-9b01-b84c7d276878",
   "metadata": {},
   "outputs": [],
   "source": [
    "DFs = [twitchDF_day1,twitchDF_day2,twitchDF_day3,twitchDF_day4,twitchDF_day5,twitchDF_day6]"
   ]
  },
  {
   "cell_type": "code",
   "execution_count": 6,
   "id": "593f9c06-b2a4-4353-8843-22b2dd1df3e8",
   "metadata": {},
   "outputs": [
    {
     "data": {
      "image/png": "[encoded data removed]",
      "text/plain": [
       "<Figure size 640x480 with 1 Axes>"
      ]
     },
     "metadata": {},
     "output_type": "display_data"
    }
   ],
   "source": [
    "for i,df in enumerate(DFs, start=1):\n",
    "    ax = sns.barplot(x=df.index, y=df.columns[0], data=df)\n",
    "    ax.set(title=\"Day {}: {}\".format(i,df.columns[0]))\n",
    "    ax.set_xticklabels(df.index)\n",
    "    ax.tick_params(labelrotation = 290)\n",
    "    plt.savefig(\"./plots/Day_{}_{}.png\".format(i,df.columns[0]))\n",
    "#    plt.show()"
   ]
  },
  {
   "cell_type": "code",
   "execution_count": 7,
   "id": "29c15d3b-e14c-4298-91da-c318fcf72693",
   "metadata": {},
   "outputs": [
    {
     "data": {
      "image/png": "[encoded data removed]",
      "text/plain": [
       "<Figure size 640x480 with 1 Axes>"
      ]
     },
     "metadata": {},
     "output_type": "display_data"
    }
   ],
   "source": [
    "for i,df in enumerate(DFs, start=1):\n",
    "    ax = sns.barplot(x=df.index, y=df.columns[1], data=df)\n",
    "    ax.set(title=\"Day {}: {}\".format(i,df.columns[1]))\n",
    "    ax.set_xticklabels(df.index)\n",
    "    ax.tick_params(labelrotation = 290)\n",
    "    plt.savefig(\"./plots/Day_{}_{}.png\".format(i,df.columns[1]))\n",
    "#    plt.show()"
   ]
  },
  {
   "cell_type": "code",
   "execution_count": 8,
   "id": "9d58bc59-a89c-4662-8e52-40cd112acfc7",
   "metadata": {},
   "outputs": [
    {
     "name": "stdout",
     "output_type": "stream",
     "text": [
      "Day 1 viewers mean: 135.96744186046513\n",
      "Day 1 viewers min: 115.2\n",
      "Day 1 viewers max: 157.0\n",
      "Day 1 new followers: 6.0\n",
      "Day 1 chatters: 22.0\n",
      "Day 1 subscriptions: 0.0\n",
      "------------------------------\n",
      "Day 2 viewers mean: 129.86511627906978\n",
      "Day 2 viewers min: 84.2\n",
      "Day 2 viewers max: 141.4\n",
      "Day 2 new followers: 3.0\n",
      "Day 2 chatters: 8.0\n",
      "Day 2 subscriptions: 0.0\n",
      "------------------------------\n",
      "Day 3 viewers mean: 94.58604651162793\n",
      "Day 3 viewers min: 78.0\n",
      "Day 3 viewers max: 101.2\n",
      "Day 3 new followers: 1.0\n",
      "Day 3 chatters: 6.0\n",
      "Day 3 subscriptions: 0.0\n",
      "------------------------------\n",
      "Day 4 viewers mean: 90.31627906976743\n",
      "Day 4 viewers min: 74.8\n",
      "Day 4 viewers max: 97.0\n",
      "Day 4 new followers: 2.0\n",
      "Day 4 chatters: 3.0\n",
      "Day 4 subscriptions: 0.0\n",
      "------------------------------\n",
      "Day 5 viewers mean: 97.46976744186048\n",
      "Day 5 viewers min: 80.2\n",
      "Day 5 viewers max: 103.8\n",
      "Day 5 new followers: 3.0\n",
      "Day 5 chatters: 3.0\n",
      "Day 5 subscriptions: 0.0\n",
      "------------------------------\n",
      "Day 6 viewers mean: 87.14418604651162\n",
      "Day 6 viewers min: 66.4\n",
      "Day 6 viewers max: 97.8\n",
      "Day 6 new followers: 1.0\n",
      "Day 6 chatters: 9.0\n",
      "Day 6 subscriptions: 0.0\n",
      "------------------------------\n"
     ]
    }
   ],
   "source": [
    "for i,df in enumerate(DFs, start=1):\n",
    "    print(\"Day {} viewers mean:\".format(i), df.Viewers.mean())\n",
    "    print(\"Day {} viewers min:\".format(i), df.Viewers.min())\n",
    "    print(\"Day {} viewers max:\".format(i), df.Viewers.max())\n",
    "    print(\"Day {} new followers:\".format(i), df[\"New Followers\"].sum())\n",
    "    print(\"Day {} chatters:\".format(i), df[\"Chatters\"].sum())\n",
    "    print(\"Day {} subscriptions:\".format(i), df[\"Subscriptions\"].sum())\n",
    "    print(\"------------------------------\")"
   ]
  },
  {
   "cell_type": "code",
   "execution_count": null,
   "id": "ef2254ba-5dae-407a-9ed3-154ba91ba0b4",
   "metadata": {},
   "outputs": [],
   "source": []
  }
 ],
 "metadata": {
  "kernelspec": {
   "display_name": "Python 3 (ipykernel)",
   "language": "python",
   "name": "python3"
  },
  "language_info": {
   "codemirror_mode": {
    "name": "ipython",
    "version": 3
   },
   "file_extension": ".py",
   "mimetype": "text/x-python",
   "name": "python",
   "nbconvert_exporter": "python",
   "pygments_lexer": "ipython3",
   "version": "3.10.6"
  }
 },
 "nbformat": 4,
 "nbformat_minor": 5
}
