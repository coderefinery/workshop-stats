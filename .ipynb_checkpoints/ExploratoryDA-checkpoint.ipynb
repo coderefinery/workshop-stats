{
 "cells": [
  {
   "cell_type": "markdown",
   "id": "8f86a623-fd94-4283-96a6-c2ce79f70970",
   "metadata": {},
   "source": [
    "# Data in and anonymisation"
   ]
  },
  {
   "cell_type": "code",
   "execution_count": 1,
   "id": "0cdd27a2-ec26-4010-95bb-59850e661cbe",
   "metadata": {},
   "outputs": [],
   "source": [
    "import numpy as np\n",
    "import pandas as pd"
   ]
  },
  {
   "cell_type": "markdown",
   "id": "5dd52f5d-3d3d-424c-bee0-7966e3524107",
   "metadata": {},
   "source": [
    "# Anonymisation"
   ]
  },
  {
   "cell_type": "code",
   "execution_count": 2,
   "id": "0b9391b1-1146-45ab-9b77-a0a967912d31",
   "metadata": {},
   "outputs": [],
   "source": [
    "individualDF_org = pd.read_csv(\"/Users/mjaaske/CSCPurkki/CodeRefinery_Purkki/Stats/CR_Individual_2022_10_13.csv\")\n",
    "teamsDF_org = pd.read_csv(\"/Users/mjaaske/CSCPurkki/CodeRefinery_Purkki/Stats/CR_Team_2022_10_13.csv\")"
   ]
  },
  {
   "cell_type": "code",
   "execution_count": 3,
   "id": "ee47d1b8-9f36-48f8-88ae-312b652803c6",
   "metadata": {},
   "outputs": [],
   "source": [
    "indy_drolabels = [\"Name\",\"Email Address\", \"Title\", \"Position\", \"Tags\", 'Other notes to organizers']\n",
    "team_drolabels = [\"Name\",\"Email Address\", \"Title\", \"Tags\", \"Alternative way of submitting results (link)\"]"
   ]
  },
  {
   "cell_type": "code",
   "execution_count": 5,
   "id": "bce53d3d-866e-4bed-919a-48583da892ea",
   "metadata": {},
   "outputs": [],
   "source": [
    "individualDF_org.drop(labels=indy_drolabels, axis=1, inplace=True)\n",
    "teamsDF_org.drop(labels=team_drolabels, axis=1, inplace=True)"
   ]
  },
  {
   "cell_type": "code",
   "execution_count": 6,
   "id": "0f550f8c-19e4-4e99-90cb-49daf35de8a5",
   "metadata": {},
   "outputs": [
    {
     "data": {
      "text/plain": [
       "Index(['ID', 'Country', 'Affiliation or university', 'Academic discipline',\n",
       "       'Career stage / position', 'How did you find out about this workshop?',\n",
       "       'Attendance/participation type',\n",
       "       'Stream only or also exercise group? Video or in-person?',\n",
       "       'Which days you plan to attend?', 'Registration date',\n",
       "       'Registration state'],\n",
       "      dtype='object')"
      ]
     },
     "execution_count": 6,
     "metadata": {},
     "output_type": "execute_result"
    }
   ],
   "source": [
    "individualDF_org.columns"
   ]
  },
  {
   "cell_type": "code",
   "execution_count": 7,
   "id": "4c42ea1d-af6e-480d-a5ef-28b835e5e11b",
   "metadata": {},
   "outputs": [
    {
     "data": {
      "text/plain": [
       "Index(['ID', 'Affiliation', 'Actual number of teams',\n",
       "       'Actual number of learners', 'Actual number of exercise leads',\n",
       "       'Country/countries that learners are affilated with',\n",
       "       'Career stage/ position of learners', 'Academic discipline',\n",
       "       'Academic disciplines (if multiple teams from different disciplines)',\n",
       "       'Registration date', 'Registration state'],\n",
       "      dtype='object')"
      ]
     },
     "execution_count": 7,
     "metadata": {},
     "output_type": "execute_result"
    }
   ],
   "source": [
    "teamsDF_org.columns"
   ]
  },
  {
   "cell_type": "code",
   "execution_count": 8,
   "id": "81f08ac1-7b63-4830-bf9e-924694b705a4",
   "metadata": {},
   "outputs": [],
   "source": [
    "individualDF_org.to_csv('./CR_individual.csv')\n",
    "teamsDF_org.to_csv('./CR_teams.csv')"
   ]
  },
  {
   "cell_type": "markdown",
   "id": "7c93ffcb-10b4-41da-8c5f-941e1ffb7194",
   "metadata": {
    "tags": []
   },
   "source": [
    "## Individual registrations\n"
   ]
  },
  {
   "cell_type": "code",
   "execution_count": null,
   "id": "7e88d145-a9dd-4699-a5cc-1936c395cf92",
   "metadata": {},
   "outputs": [],
   "source": []
  }
 ],
 "metadata": {
  "kernelspec": {
   "display_name": "Python 3 (ipykernel)",
   "language": "python",
   "name": "python3"
  },
  "language_info": {
   "codemirror_mode": {
    "name": "ipython",
    "version": 3
   },
   "file_extension": ".py",
   "mimetype": "text/x-python",
   "name": "python",
   "nbconvert_exporter": "python",
   "pygments_lexer": "ipython3",
   "version": "3.10.6"
  }
 },
 "nbformat": 4,
 "nbformat_minor": 5
}
